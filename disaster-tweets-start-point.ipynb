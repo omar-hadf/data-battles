{
 "cells": [
  {
   "cell_type": "code",
   "execution_count": 1,
   "id": "5871380d",
   "metadata": {
    "_cell_guid": "b1076dfc-b9ad-4769-8c92-a6c4dae69d19",
    "_uuid": "8f2839f25d086af736a60e9eeb907d3b93b6e0e5",
    "execution": {
     "iopub.execute_input": "2025-05-25T16:15:56.907639Z",
     "iopub.status.busy": "2025-05-25T16:15:56.906953Z",
     "iopub.status.idle": "2025-05-25T16:15:58.453994Z",
     "shell.execute_reply": "2025-05-25T16:15:58.453055Z"
    },
    "papermill": {
     "duration": 1.556091,
     "end_time": "2025-05-25T16:15:58.455301",
     "exception": false,
     "start_time": "2025-05-25T16:15:56.899210",
     "status": "completed"
    },
    "tags": []
   },
   "outputs": [
    {
     "name": "stdout",
     "output_type": "stream",
     "text": [
      "/kaggle/input/m/keras/bert/keras/bert_base_en_uncased/2/config.json\n",
      "/kaggle/input/m/keras/bert/keras/bert_base_en_uncased/2/tokenizer.json\n",
      "/kaggle/input/m/keras/bert/keras/bert_base_en_uncased/2/metadata.json\n",
      "/kaggle/input/m/keras/bert/keras/bert_base_en_uncased/2/model.weights.h5\n",
      "/kaggle/input/m/keras/bert/keras/bert_base_en_uncased/2/assets/tokenizer/vocabulary.txt\n",
      "/kaggle/input/nlp-getting-started/sample_submission.csv\n",
      "/kaggle/input/nlp-getting-started/train.csv\n",
      "/kaggle/input/nlp-getting-started/test.csv\n",
      "/kaggle/input/bert/tensorflow2/en-uncased-preprocess/3/saved_model.pb\n",
      "/kaggle/input/bert/tensorflow2/en-uncased-preprocess/3/keras_metadata.pb\n",
      "/kaggle/input/bert/tensorflow2/en-uncased-preprocess/3/assets/vocab.txt\n",
      "/kaggle/input/bert/tensorflow2/en-uncased-preprocess/3/variables/variables.index\n",
      "/kaggle/input/bert/tensorflow2/en-uncased-preprocess/3/variables/variables.data-00000-of-00001\n",
      "/kaggle/input/gnews-swivel/tensorflow2/tf2-preview-20dim/1/saved_model.pb\n",
      "/kaggle/input/gnews-swivel/tensorflow2/tf2-preview-20dim/1/assets/tokens.txt\n",
      "/kaggle/input/gnews-swivel/tensorflow2/tf2-preview-20dim/1/variables/variables.index\n",
      "/kaggle/input/gnews-swivel/tensorflow2/tf2-preview-20dim/1/variables/variables.data-00000-of-00001\n"
     ]
    }
   ],
   "source": [
    "# This Python 3 environment comes with many helpful analytics libraries installed\n",
    "# It is defined by the kaggle/python Docker image: https://github.com/kaggle/docker-python\n",
    "# For example, here's several helpful packages to load\n",
    "\n",
    "import numpy as np # linear algebra\n",
    "import pandas as pd # data processing, CSV file I/O (e.g. pd.read_csv)\n",
    "\n",
    "# Input data files are available in the read-only \"../input/\" directory\n",
    "# For example, running this (by clicking run or pressing Shift+Enter) will list all files under the input directory\n",
    "\n",
    "import os\n",
    "for dirname, _, filenames in os.walk('/kaggle/input'):\n",
    "    for filename in filenames:\n",
    "        print(os.path.join(dirname, filename))\n",
    "\n",
    "# You can write up to 20GB to the current directory (/kaggle/working/) that gets preserved as output when you create a version using \"Save & Run All\" \n",
    "# You can also write temporary files to /kaggle/temp/, but they won't be saved outside of the current session"
   ]
  },
  {
   "cell_type": "code",
   "execution_count": 2,
   "id": "3cb500bf",
   "metadata": {
    "execution": {
     "iopub.execute_input": "2025-05-25T16:15:58.469650Z",
     "iopub.status.busy": "2025-05-25T16:15:58.468980Z",
     "iopub.status.idle": "2025-05-25T16:16:29.993491Z",
     "shell.execute_reply": "2025-05-25T16:16:29.992699Z"
    },
    "papermill": {
     "duration": 31.53813,
     "end_time": "2025-05-25T16:16:30.000345",
     "exception": false,
     "start_time": "2025-05-25T16:15:58.462215",
     "status": "completed"
    },
    "tags": []
   },
   "outputs": [
    {
     "name": "stderr",
     "output_type": "stream",
     "text": [
      "2025-05-25 16:16:02.370092: E external/local_xla/xla/stream_executor/cuda/cuda_fft.cc:477] Unable to register cuFFT factory: Attempting to register factory for plugin cuFFT when one has already been registered\n",
      "WARNING: All log messages before absl::InitializeLog() is called are written to STDERR\n",
      "E0000 00:00:1748189762.599683      19 cuda_dnn.cc:8310] Unable to register cuDNN factory: Attempting to register factory for plugin cuDNN when one has already been registered\n",
      "E0000 00:00:1748189762.666905      19 cuda_blas.cc:1418] Unable to register cuBLAS factory: Attempting to register factory for plugin cuBLAS when one has already been registered\n",
      "[nltk_data] Downloading package punkt to /usr/share/nltk_data...\n",
      "[nltk_data]   Package punkt is already up-to-date!\n"
     ]
    }
   ],
   "source": [
    "import pandas as pd\n",
    "import numpy as np\n",
    "import matplotlib.pyplot as plt\n",
    "import seaborn as sns\n",
    "import datetime\n",
    "from sklearn.model_selection import train_test_split\n",
    "from sklearn.metrics import f1_score, precision_score, recall_score, confusion_matrix, classification_report\n",
    "from sklearn.model_selection import GridSearchCV\n",
    "from sklearn.pipeline import Pipeline\n",
    "from sklearn.ensemble import RandomForestClassifier\n",
    "from sklearn.feature_extraction.text import TfidfVectorizer\n",
    "from sklearn.ensemble import RandomForestClassifier \n",
    "from sklearn.pipeline import make_pipeline\n",
    "from sklearn.utils.class_weight import compute_class_weight\n",
    "import tensorflow as tf\n",
    "import tensorflow_hub as hub\n",
    "import tensorflow_text as text\n",
    "from tensorflow.keras.layers import Embedding, LSTM, Dense, Bidirectional, Conv1D, Dropout\n",
    "from tensorflow.keras.models import Sequential\n",
    "from tensorflow.keras.preprocessing.text import Tokenizer\n",
    "from tensorflow.keras.preprocessing.sequence import pad_sequences\n",
    "from tensorflow.keras.metrics import AUC\n",
    "from tensorflow.keras.optimizers import Adam\n",
    "from tensorflow.keras.losses import binary_crossentropy \n",
    "from tensorflow.keras.callbacks import ModelCheckpoint, EarlyStopping\n",
    "import keras_nlp\n",
    "from transformers import AutoTokenizer, TFBertForSequenceClassification, BertTokenizer\n",
    "from nltk.stem import PorterStemmer, SnowballStemmer\n",
    "from nltk.tokenize import word_tokenize\n",
    "import re\n",
    "import nltk\n",
    "nltk.download('punkt')  \n",
    "\n",
    "\n",
    "import warnings\n",
    "warnings.filterwarnings('ignore')\n",
    "\n",
    "pd.set_option('display.max_colwidth', None)\n",
    "\n"
   ]
  },
  {
   "cell_type": "code",
   "execution_count": 3,
   "id": "b48a2fba",
   "metadata": {
    "execution": {
     "iopub.execute_input": "2025-05-25T16:16:30.013414Z",
     "iopub.status.busy": "2025-05-25T16:16:30.012946Z",
     "iopub.status.idle": "2025-05-25T16:16:30.077753Z",
     "shell.execute_reply": "2025-05-25T16:16:30.077243Z"
    },
    "papermill": {
     "duration": 0.072446,
     "end_time": "2025-05-25T16:16:30.078910",
     "exception": false,
     "start_time": "2025-05-25T16:16:30.006464",
     "status": "completed"
    },
    "tags": []
   },
   "outputs": [],
   "source": [
    "train = pd.read_csv(\"/kaggle/input/nlp-getting-started/train.csv\")\n",
    "test = pd.read_csv(\"/kaggle/input/nlp-getting-started/test.csv\")\n",
    "sample_submission = pd.read_csv(\"/kaggle/input/nlp-getting-started/sample_submission.csv\")"
   ]
  },
  {
   "cell_type": "code",
   "execution_count": 4,
   "id": "b12ba072",
   "metadata": {
    "execution": {
     "iopub.execute_input": "2025-05-25T16:16:30.093126Z",
     "iopub.status.busy": "2025-05-25T16:16:30.092914Z",
     "iopub.status.idle": "2025-05-25T16:16:30.111795Z",
     "shell.execute_reply": "2025-05-25T16:16:30.111320Z"
    },
    "papermill": {
     "duration": 0.027058,
     "end_time": "2025-05-25T16:16:30.112819",
     "exception": false,
     "start_time": "2025-05-25T16:16:30.085761",
     "status": "completed"
    },
    "tags": []
   },
   "outputs": [],
   "source": [
    "train = train.drop(['id', 'location', 'keyword'], axis=1)"
   ]
  },
  {
   "cell_type": "code",
   "execution_count": 5,
   "id": "2bce96a7",
   "metadata": {
    "execution": {
     "iopub.execute_input": "2025-05-25T16:16:30.125787Z",
     "iopub.status.busy": "2025-05-25T16:16:30.125581Z",
     "iopub.status.idle": "2025-05-25T16:16:30.140748Z",
     "shell.execute_reply": "2025-05-25T16:16:30.140107Z"
    },
    "papermill": {
     "duration": 0.022553,
     "end_time": "2025-05-25T16:16:30.141787",
     "exception": false,
     "start_time": "2025-05-25T16:16:30.119234",
     "status": "completed"
    },
    "tags": []
   },
   "outputs": [
    {
     "data": {
      "text/html": [
       "<div>\n",
       "<style scoped>\n",
       "    .dataframe tbody tr th:only-of-type {\n",
       "        vertical-align: middle;\n",
       "    }\n",
       "\n",
       "    .dataframe tbody tr th {\n",
       "        vertical-align: top;\n",
       "    }\n",
       "\n",
       "    .dataframe thead th {\n",
       "        text-align: right;\n",
       "    }\n",
       "</style>\n",
       "<table border=\"1\" class=\"dataframe\">\n",
       "  <thead>\n",
       "    <tr style=\"text-align: right;\">\n",
       "      <th></th>\n",
       "      <th>text</th>\n",
       "      <th>target</th>\n",
       "    </tr>\n",
       "  </thead>\n",
       "  <tbody>\n",
       "    <tr>\n",
       "      <th>0</th>\n",
       "      <td>Our Deeds are the Reason of this #earthquake May ALLAH Forgive us all</td>\n",
       "      <td>1</td>\n",
       "    </tr>\n",
       "    <tr>\n",
       "      <th>1</th>\n",
       "      <td>Forest fire near La Ronge Sask. Canada</td>\n",
       "      <td>1</td>\n",
       "    </tr>\n",
       "    <tr>\n",
       "      <th>2</th>\n",
       "      <td>All residents asked to 'shelter in place' are being notified by officers. No other evacuation or shelter in place orders are expected</td>\n",
       "      <td>1</td>\n",
       "    </tr>\n",
       "    <tr>\n",
       "      <th>3</th>\n",
       "      <td>13,000 people receive #wildfires evacuation orders in California</td>\n",
       "      <td>1</td>\n",
       "    </tr>\n",
       "    <tr>\n",
       "      <th>4</th>\n",
       "      <td>Just got sent this photo from Ruby #Alaska as smoke from #wildfires pours into a school</td>\n",
       "      <td>1</td>\n",
       "    </tr>\n",
       "  </tbody>\n",
       "</table>\n",
       "</div>"
      ],
      "text/plain": [
       "                                                                                                                                    text  \\\n",
       "0                                                                  Our Deeds are the Reason of this #earthquake May ALLAH Forgive us all   \n",
       "1                                                                                                 Forest fire near La Ronge Sask. Canada   \n",
       "2  All residents asked to 'shelter in place' are being notified by officers. No other evacuation or shelter in place orders are expected   \n",
       "3                                                                      13,000 people receive #wildfires evacuation orders in California    \n",
       "4                                               Just got sent this photo from Ruby #Alaska as smoke from #wildfires pours into a school    \n",
       "\n",
       "   target  \n",
       "0       1  \n",
       "1       1  \n",
       "2       1  \n",
       "3       1  \n",
       "4       1  "
      ]
     },
     "execution_count": 5,
     "metadata": {},
     "output_type": "execute_result"
    }
   ],
   "source": [
    "train.head()"
   ]
  },
  {
   "cell_type": "code",
   "execution_count": 6,
   "id": "ac2a37ce",
   "metadata": {
    "execution": {
     "iopub.execute_input": "2025-05-25T16:16:30.155181Z",
     "iopub.status.busy": "2025-05-25T16:16:30.154645Z",
     "iopub.status.idle": "2025-05-25T16:16:30.161340Z",
     "shell.execute_reply": "2025-05-25T16:16:30.160749Z"
    },
    "papermill": {
     "duration": 0.014226,
     "end_time": "2025-05-25T16:16:30.162331",
     "exception": false,
     "start_time": "2025-05-25T16:16:30.148105",
     "status": "completed"
    },
    "tags": []
   },
   "outputs": [
    {
     "data": {
      "text/html": [
       "<div>\n",
       "<style scoped>\n",
       "    .dataframe tbody tr th:only-of-type {\n",
       "        vertical-align: middle;\n",
       "    }\n",
       "\n",
       "    .dataframe tbody tr th {\n",
       "        vertical-align: top;\n",
       "    }\n",
       "\n",
       "    .dataframe thead th {\n",
       "        text-align: right;\n",
       "    }\n",
       "</style>\n",
       "<table border=\"1\" class=\"dataframe\">\n",
       "  <thead>\n",
       "    <tr style=\"text-align: right;\">\n",
       "      <th></th>\n",
       "      <th>id</th>\n",
       "      <th>keyword</th>\n",
       "      <th>location</th>\n",
       "      <th>text</th>\n",
       "    </tr>\n",
       "  </thead>\n",
       "  <tbody>\n",
       "    <tr>\n",
       "      <th>0</th>\n",
       "      <td>0</td>\n",
       "      <td>NaN</td>\n",
       "      <td>NaN</td>\n",
       "      <td>Just happened a terrible car crash</td>\n",
       "    </tr>\n",
       "    <tr>\n",
       "      <th>1</th>\n",
       "      <td>2</td>\n",
       "      <td>NaN</td>\n",
       "      <td>NaN</td>\n",
       "      <td>Heard about #earthquake is different cities, stay safe everyone.</td>\n",
       "    </tr>\n",
       "    <tr>\n",
       "      <th>2</th>\n",
       "      <td>3</td>\n",
       "      <td>NaN</td>\n",
       "      <td>NaN</td>\n",
       "      <td>there is a forest fire at spot pond, geese are fleeing across the street, I cannot save them all</td>\n",
       "    </tr>\n",
       "    <tr>\n",
       "      <th>3</th>\n",
       "      <td>9</td>\n",
       "      <td>NaN</td>\n",
       "      <td>NaN</td>\n",
       "      <td>Apocalypse lighting. #Spokane #wildfires</td>\n",
       "    </tr>\n",
       "    <tr>\n",
       "      <th>4</th>\n",
       "      <td>11</td>\n",
       "      <td>NaN</td>\n",
       "      <td>NaN</td>\n",
       "      <td>Typhoon Soudelor kills 28 in China and Taiwan</td>\n",
       "    </tr>\n",
       "  </tbody>\n",
       "</table>\n",
       "</div>"
      ],
      "text/plain": [
       "   id keyword location  \\\n",
       "0   0     NaN      NaN   \n",
       "1   2     NaN      NaN   \n",
       "2   3     NaN      NaN   \n",
       "3   9     NaN      NaN   \n",
       "4  11     NaN      NaN   \n",
       "\n",
       "                                                                                               text  \n",
       "0                                                                Just happened a terrible car crash  \n",
       "1                                  Heard about #earthquake is different cities, stay safe everyone.  \n",
       "2  there is a forest fire at spot pond, geese are fleeing across the street, I cannot save them all  \n",
       "3                                                          Apocalypse lighting. #Spokane #wildfires  \n",
       "4                                                     Typhoon Soudelor kills 28 in China and Taiwan  "
      ]
     },
     "execution_count": 6,
     "metadata": {},
     "output_type": "execute_result"
    }
   ],
   "source": [
    "test.head()"
   ]
  },
  {
   "cell_type": "markdown",
   "id": "f7373ee7",
   "metadata": {
    "papermill": {
     "duration": 0.005862,
     "end_time": "2025-05-25T16:16:30.174392",
     "exception": false,
     "start_time": "2025-05-25T16:16:30.168530",
     "status": "completed"
    },
    "tags": []
   },
   "source": [
    "# EDA"
   ]
  },
  {
   "cell_type": "code",
   "execution_count": 7,
   "id": "37ac6779",
   "metadata": {
    "execution": {
     "iopub.execute_input": "2025-05-25T16:16:30.187227Z",
     "iopub.status.busy": "2025-05-25T16:16:30.186799Z",
     "iopub.status.idle": "2025-05-25T16:16:30.209789Z",
     "shell.execute_reply": "2025-05-25T16:16:30.208896Z"
    },
    "papermill": {
     "duration": 0.030612,
     "end_time": "2025-05-25T16:16:30.210979",
     "exception": false,
     "start_time": "2025-05-25T16:16:30.180367",
     "status": "completed"
    },
    "tags": []
   },
   "outputs": [
    {
     "name": "stdout",
     "output_type": "stream",
     "text": [
      "<class 'pandas.core.frame.DataFrame'>\n",
      "RangeIndex: 7613 entries, 0 to 7612\n",
      "Data columns (total 2 columns):\n",
      " #   Column  Non-Null Count  Dtype \n",
      "---  ------  --------------  ----- \n",
      " 0   text    7613 non-null   object\n",
      " 1   target  7613 non-null   int64 \n",
      "dtypes: int64(1), object(1)\n",
      "memory usage: 119.1+ KB\n",
      "-------------------------------------------------\n",
      "<class 'pandas.core.frame.DataFrame'>\n",
      "RangeIndex: 3263 entries, 0 to 3262\n",
      "Data columns (total 4 columns):\n",
      " #   Column    Non-Null Count  Dtype \n",
      "---  ------    --------------  ----- \n",
      " 0   id        3263 non-null   int64 \n",
      " 1   keyword   3237 non-null   object\n",
      " 2   location  2158 non-null   object\n",
      " 3   text      3263 non-null   object\n",
      "dtypes: int64(1), object(3)\n",
      "memory usage: 102.1+ KB\n"
     ]
    }
   ],
   "source": [
    "train.info()\n",
    "print('-------------------------------------------------')\n",
    "test.info()"
   ]
  },
  {
   "cell_type": "code",
   "execution_count": 8,
   "id": "0a217d7e",
   "metadata": {
    "execution": {
     "iopub.execute_input": "2025-05-25T16:16:30.224079Z",
     "iopub.status.busy": "2025-05-25T16:16:30.223901Z",
     "iopub.status.idle": "2025-05-25T16:16:30.231311Z",
     "shell.execute_reply": "2025-05-25T16:16:30.230692Z"
    },
    "papermill": {
     "duration": 0.015238,
     "end_time": "2025-05-25T16:16:30.232438",
     "exception": false,
     "start_time": "2025-05-25T16:16:30.217200",
     "status": "completed"
    },
    "tags": []
   },
   "outputs": [
    {
     "name": "stdout",
     "output_type": "stream",
     "text": [
      "text      0.0\n",
      "target    0.0\n",
      "dtype: float64\n",
      "-----------------------------------------\n",
      "location    33.864542\n",
      "keyword      0.796813\n",
      "id           0.000000\n",
      "text         0.000000\n",
      "dtype: float64\n"
     ]
    }
   ],
   "source": [
    "def missing_percentage(df):\n",
    "    print((df.isna().sum().sort_values(ascending=False)/df.shape[0])*100) \n",
    "\n",
    "\n",
    "missing_percentage(train)\n",
    "print('-----------------------------------------')\n",
    "missing_percentage(test)"
   ]
  },
  {
   "cell_type": "code",
   "execution_count": 9,
   "id": "81a4ec57",
   "metadata": {
    "execution": {
     "iopub.execute_input": "2025-05-25T16:16:30.246108Z",
     "iopub.status.busy": "2025-05-25T16:16:30.245933Z",
     "iopub.status.idle": "2025-05-25T16:16:30.392619Z",
     "shell.execute_reply": "2025-05-25T16:16:30.392069Z"
    },
    "papermill": {
     "duration": 0.154469,
     "end_time": "2025-05-25T16:16:30.393692",
     "exception": false,
     "start_time": "2025-05-25T16:16:30.239223",
     "status": "completed"
    },
    "tags": []
   },
   "outputs": [
    {
     "data": {
      "image/png": "[encoded data removed]",
      "text/plain": [
       "<Figure size 1000x600 with 1 Axes>"
      ]
     },
     "metadata": {},
     "output_type": "display_data"
    }
   ],
   "source": [
    "plt.figure(figsize=(10, 6))\n",
    "sns.heatmap(train.isna(), cbar=False, cmap='viridis', yticklabels=False)\n",
    "plt.title(\"NaN Values Heatmap\")\n",
    "plt.show()"
   ]
  },
  {
   "cell_type": "code",
   "execution_count": 10,
   "id": "69cd3297",
   "metadata": {
    "execution": {
     "iopub.execute_input": "2025-05-25T16:16:30.407861Z",
     "iopub.status.busy": "2025-05-25T16:16:30.407285Z",
     "iopub.status.idle": "2025-05-25T16:16:30.839208Z",
     "shell.execute_reply": "2025-05-25T16:16:30.838566Z"
    },
    "papermill": {
     "duration": 0.439949,
     "end_time": "2025-05-25T16:16:30.840385",
     "exception": false,
     "start_time": "2025-05-25T16:16:30.400436",
     "status": "completed"
    },
    "tags": []
   },
   "outputs": [
    {
     "data": {
      "image/png": "[encoded data removed]",
      "text/plain": [
       "<Figure size 1000x600 with 1 Axes>"
      ]
     },
     "metadata": {},
     "output_type": "display_data"
    }
   ],
   "source": [
    "plt.figure(figsize=(10, 6))\n",
    "sns.heatmap(test.isna(), cbar=False, cmap='viridis', yticklabels=False)\n",
    "plt.title(\"NaN Values Heatmap\")\n",
    "plt.show()"
   ]
  },
  {
   "cell_type": "code",
   "execution_count": 11,
   "id": "b212a7b4",
   "metadata": {
    "execution": {
     "iopub.execute_input": "2025-05-25T16:16:30.856760Z",
     "iopub.status.busy": "2025-05-25T16:16:30.856087Z",
     "iopub.status.idle": "2025-05-25T16:16:30.863734Z",
     "shell.execute_reply": "2025-05-25T16:16:30.863174Z"
    },
    "papermill": {
     "duration": 0.016741,
     "end_time": "2025-05-25T16:16:30.864804",
     "exception": false,
     "start_time": "2025-05-25T16:16:30.848063",
     "status": "completed"
    },
    "tags": []
   },
   "outputs": [
    {
     "data": {
      "text/html": [
       "<div>\n",
       "<style scoped>\n",
       "    .dataframe tbody tr th:only-of-type {\n",
       "        vertical-align: middle;\n",
       "    }\n",
       "\n",
       "    .dataframe tbody tr th {\n",
       "        vertical-align: top;\n",
       "    }\n",
       "\n",
       "    .dataframe thead th {\n",
       "        text-align: right;\n",
       "    }\n",
       "</style>\n",
       "<table border=\"1\" class=\"dataframe\">\n",
       "  <thead>\n",
       "    <tr style=\"text-align: right;\">\n",
       "      <th></th>\n",
       "      <th>text</th>\n",
       "      <th>target</th>\n",
       "    </tr>\n",
       "  </thead>\n",
       "  <tbody>\n",
       "    <tr>\n",
       "      <th>0</th>\n",
       "      <td>Our Deeds are the Reason of this #earthquake May ALLAH Forgive us all</td>\n",
       "      <td>1</td>\n",
       "    </tr>\n",
       "    <tr>\n",
       "      <th>1</th>\n",
       "      <td>Forest fire near La Ronge Sask. Canada</td>\n",
       "      <td>1</td>\n",
       "    </tr>\n",
       "    <tr>\n",
       "      <th>2</th>\n",
       "      <td>All residents asked to 'shelter in place' are being notified by officers. No other evacuation or shelter in place orders are expected</td>\n",
       "      <td>1</td>\n",
       "    </tr>\n",
       "    <tr>\n",
       "      <th>3</th>\n",
       "      <td>13,000 people receive #wildfires evacuation orders in California</td>\n",
       "      <td>1</td>\n",
       "    </tr>\n",
       "    <tr>\n",
       "      <th>4</th>\n",
       "      <td>Just got sent this photo from Ruby #Alaska as smoke from #wildfires pours into a school</td>\n",
       "      <td>1</td>\n",
       "    </tr>\n",
       "    <tr>\n",
       "      <th>...</th>\n",
       "      <td>...</td>\n",
       "      <td>...</td>\n",
       "    </tr>\n",
       "    <tr>\n",
       "      <th>7608</th>\n",
       "      <td>Two giant cranes holding a bridge collapse into nearby homes http://t.co/STfMbbZFB5</td>\n",
       "      <td>1</td>\n",
       "    </tr>\n",
       "    <tr>\n",
       "      <th>7609</th>\n",
       "      <td>@aria_ahrary @TheTawniest The out of control wild fires in California even in the Northern part of the state. Very troubling.</td>\n",
       "      <td>1</td>\n",
       "    </tr>\n",
       "    <tr>\n",
       "      <th>7610</th>\n",
       "      <td>M1.94 [01:04 UTC]?5km S of Volcano Hawaii. http://t.co/zDtoyd8EbJ</td>\n",
       "      <td>1</td>\n",
       "    </tr>\n",
       "    <tr>\n",
       "      <th>7611</th>\n",
       "      <td>Police investigating after an e-bike collided with a car in Little Portugal. E-bike rider suffered serious non-life threatening injuries.</td>\n",
       "      <td>1</td>\n",
       "    </tr>\n",
       "    <tr>\n",
       "      <th>7612</th>\n",
       "      <td>The Latest: More Homes Razed by Northern California Wildfire - ABC News http://t.co/YmY4rSkQ3d</td>\n",
       "      <td>1</td>\n",
       "    </tr>\n",
       "  </tbody>\n",
       "</table>\n",
       "<p>7613 rows × 2 columns</p>\n",
       "</div>"
      ],
      "text/plain": [
       "                                                                                                                                           text  \\\n",
       "0                                                                         Our Deeds are the Reason of this #earthquake May ALLAH Forgive us all   \n",
       "1                                                                                                        Forest fire near La Ronge Sask. Canada   \n",
       "2         All residents asked to 'shelter in place' are being notified by officers. No other evacuation or shelter in place orders are expected   \n",
       "3                                                                             13,000 people receive #wildfires evacuation orders in California    \n",
       "4                                                      Just got sent this photo from Ruby #Alaska as smoke from #wildfires pours into a school    \n",
       "...                                                                                                                                         ...   \n",
       "7608                                                        Two giant cranes holding a bridge collapse into nearby homes http://t.co/STfMbbZFB5   \n",
       "7609              @aria_ahrary @TheTawniest The out of control wild fires in California even in the Northern part of the state. Very troubling.   \n",
       "7610                                                                          M1.94 [01:04 UTC]?5km S of Volcano Hawaii. http://t.co/zDtoyd8EbJ   \n",
       "7611  Police investigating after an e-bike collided with a car in Little Portugal. E-bike rider suffered serious non-life threatening injuries.   \n",
       "7612                                             The Latest: More Homes Razed by Northern California Wildfire - ABC News http://t.co/YmY4rSkQ3d   \n",
       "\n",
       "      target  \n",
       "0          1  \n",
       "1          1  \n",
       "2          1  \n",
       "3          1  \n",
       "4          1  \n",
       "...      ...  \n",
       "7608       1  \n",
       "7609       1  \n",
       "7610       1  \n",
       "7611       1  \n",
       "7612       1  \n",
       "\n",
       "[7613 rows x 2 columns]"
      ]
     },
     "execution_count": 11,
     "metadata": {},
     "output_type": "execute_result"
    }
   ],
   "source": [
    "train"
   ]
  },
  {
   "cell_type": "code",
   "execution_count": 12,
   "id": "0c98e7c0",
   "metadata": {
    "execution": {
     "iopub.execute_input": "2025-05-25T16:16:30.879615Z",
     "iopub.status.busy": "2025-05-25T16:16:30.879407Z",
     "iopub.status.idle": "2025-05-25T16:16:31.009492Z",
     "shell.execute_reply": "2025-05-25T16:16:31.008803Z"
    },
    "papermill": {
     "duration": 0.138537,
     "end_time": "2025-05-25T16:16:31.010490",
     "exception": false,
     "start_time": "2025-05-25T16:16:30.871953",
     "status": "completed"
    },
    "tags": []
   },
   "outputs": [
    {
     "data": {
      "image/png": "[encoded data removed]",
      "text/plain": [
       "<Figure size 800x600 with 1 Axes>"
      ]
     },
     "metadata": {},
     "output_type": "display_data"
    }
   ],
   "source": [
    "# Calculate percentages\n",
    "value_counts = train['target'].value_counts(normalize=True) * 100\n",
    "\n",
    "# Create figure\n",
    "plt.figure(figsize=(8, 6))\n",
    "ax = sns.barplot(x=value_counts.index, \n",
    "                 y=value_counts.values, \n",
    "                 palette=['#3498db', '#e74c3c'])\n",
    "\n",
    "# Add percentages on top\n",
    "for p in ax.patches:\n",
    "    ax.annotate(f'{p.get_height():.1f}%', \n",
    "                (p.get_x() + p.get_width() / 2., p.get_height()),\n",
    "                ha='center', va='center', \n",
    "                xytext=(0, 10), \n",
    "                textcoords='offset points')\n",
    "\n",
    "# Customize\n",
    "plt.title('Disaster Tweet Distribution', pad=20)\n",
    "plt.xlabel('Category')\n",
    "plt.ylabel('Percentage (%)')\n",
    "plt.xticks([0, 1], ['Non-Disaster', 'Disaster'])\n",
    "#plt.ylim(0, 100)\n",
    "plt.show()"
   ]
  },
  {
   "cell_type": "markdown",
   "id": "6c68156c",
   "metadata": {
    "papermill": {
     "duration": 0.007186,
     "end_time": "2025-05-25T16:16:31.025253",
     "exception": false,
     "start_time": "2025-05-25T16:16:31.018067",
     "status": "completed"
    },
    "tags": []
   },
   "source": [
    "# Data prep"
   ]
  },
  {
   "cell_type": "code",
   "execution_count": 13,
   "id": "1d7817dd",
   "metadata": {
    "execution": {
     "iopub.execute_input": "2025-05-25T16:16:31.041098Z",
     "iopub.status.busy": "2025-05-25T16:16:31.040890Z",
     "iopub.status.idle": "2025-05-25T16:16:31.046644Z",
     "shell.execute_reply": "2025-05-25T16:16:31.045800Z"
    },
    "papermill": {
     "duration": 0.015106,
     "end_time": "2025-05-25T16:16:31.047776",
     "exception": false,
     "start_time": "2025-05-25T16:16:31.032670",
     "status": "completed"
    },
    "tags": []
   },
   "outputs": [
    {
     "name": "stdout",
     "output_type": "stream",
     "text": [
      "                                                                                                                                     text  target\n",
      "                                                                                                                      Get that hazard pay       0\n",
      "                                                                                                                        Emergency surgery       0\n",
      "                 @Camilla_33 @CrayKain Hate to shatter your delusions but a hatchet is a deadly weapon justifying lethal force. #gunsense       0\n",
      " Route Complex AM Fire Update (Route Complex Wildfire): FIRE UPDATE: ROUTE COMPLEX Thursday Morning Aug... http://t.co/nS5lBS5ZUp #CAFire       1\n",
      "                                  People are more worried about the burning of buildings than black people losing their lives disgusting.       1\n",
      "Worlds Collide When an American Family Takes Over Britain's Isle of Man in New TLC Show Suddenly Royal http://t.co/OmB3oS54tN via @People       0\n",
      "                                                                                                                       @baskgod body bags       0\n",
      "Rly tragedy in MP: Some live to recount horror: ÛÏWhen I saw coaches of my train plunging into water I called ... http://t.co/vScPGMsJXY       1\n",
      "                                                                       I liked a @YouTube video http://t.co/xR3xJJ8gJB Darude - Sandstorm       0\n",
      "                                                                                           @abcnews A nuclear bomb is a terrible weapon!!       1\n",
      "  catastrophic-fallen-angel: reveillertm: macabrelolita: I was supposed to write Û÷amino acidsÛª and I nearly... http://t.co/dIoBzGHFju       0\n",
      "             Did you miss the #BitCoin explosion - Don't miss out - #Hangout tonight at 8:30PM EST ===&gt;&gt;&gt; http://t.co/qKaHXwLWXa       0\n",
      "   WSJThinkTank: Ahead of tonight's #GOPDebate ColleenMNelson explains how a bad debate can derail a campaign: Û_ http://t.co/XyxTuACZvb       0\n",
      "                           Praise God that we have ministry that tells it like it is!!! #now #wdyouth #biblestudy https://t.co/UjK0e5GBcC       0\n",
      "                                                                           'If you looking for my niggas you can follow the sirens.' ????       0\n",
      "                                                    Wreckage is MH370: Najib\\nhttp://t.co/iidKC0jSBx #MH370 #najibrazak #MalaysiaAirlines       1\n",
      "                                                      Two giant cranes holding a bridge collapse into nearby homes http://t.co/OQpsvrGbJc       1\n",
      "                                                   Aircraft debris found on island is from MH370 Malaysia confirms http://t.co/X3RccHKagO       1\n",
      "                                 How ÛÏLittle BoyÛ Affected the People In Hiroshima ÛÒ Eyewitness Testimonials http://t.co/mUAnfWcRW9       1\n",
      "                                                                               Sprinklers: FAQ About Lawn Inundation Systems Answered eBb       0\n"
     ]
    }
   ],
   "source": [
    "print(train.sample(n=20).to_string(index=False))"
   ]
  },
  {
   "cell_type": "markdown",
   "id": "aca6d7cd",
   "metadata": {
    "papermill": {
     "duration": 0.00785,
     "end_time": "2025-05-25T16:16:31.064094",
     "exception": false,
     "start_time": "2025-05-25T16:16:31.056244",
     "status": "completed"
    },
    "tags": []
   },
   "source": [
    "## data processing"
   ]
  },
  {
   "cell_type": "code",
   "execution_count": 14,
   "id": "d123721d",
   "metadata": {
    "execution": {
     "iopub.execute_input": "2025-05-25T16:16:31.123772Z",
     "iopub.status.busy": "2025-05-25T16:16:31.123523Z",
     "iopub.status.idle": "2025-05-25T16:16:31.127916Z",
     "shell.execute_reply": "2025-05-25T16:16:31.127187Z"
    },
    "papermill": {
     "duration": 0.056759,
     "end_time": "2025-05-25T16:16:31.128988",
     "exception": false,
     "start_time": "2025-05-25T16:16:31.072229",
     "status": "completed"
    },
    "tags": []
   },
   "outputs": [],
   "source": [
    "def text_preprocess(text):\n",
    "    #Remove all URLs from text\n",
    "    text= re.sub(r'http[s]?://(?:[a-zA-Z]|[0-9]|[$-_@.&+]|[!*\\\\(\\\\),]|(?:%[0-9a-fA-F][0-9a-fA-F]))+', '', text)\n",
    "    text= re.sub(r\"#(\\w+)\", r\"\\1\", text)\n",
    "    #text= re.sub(r\"[^\\w\\s{'}]|_\", '', text)\n",
    "    text= re.sub(r'[^\\w\\s]', '', text)\n",
    "    text= re.sub(r'\\n', ' ', text)\n",
    "    text= re.sub(r'\\d+', '', text)\n",
    "    text\n",
    "    \n",
    "    return text.lower().strip()"
   ]
  },
  {
   "cell_type": "code",
   "execution_count": 15,
   "id": "ab6c18fe",
   "metadata": {
    "execution": {
     "iopub.execute_input": "2025-05-25T16:16:31.145124Z",
     "iopub.status.busy": "2025-05-25T16:16:31.144905Z",
     "iopub.status.idle": "2025-05-25T16:16:31.149698Z",
     "shell.execute_reply": "2025-05-25T16:16:31.149035Z"
    },
    "papermill": {
     "duration": 0.014444,
     "end_time": "2025-05-25T16:16:31.150922",
     "exception": false,
     "start_time": "2025-05-25T16:16:31.136478",
     "status": "completed"
    },
    "tags": []
   },
   "outputs": [],
   "source": [
    "stemmer = SnowballStemmer('english')\n",
    "\n",
    "def text_preprocess_with_stemming(text):\n",
    "    \"\"\"\n",
    "    Enhanced text preprocessing with stemming for tweet classification.\n",
    "    Handles URLs, hashtags, punctuation, numbers, and applies stemming.\n",
    "    \n",
    "    Args:\n",
    "        text (str): Raw tweet text\n",
    "        \n",
    "    Returns:\n",
    "        str: Processed and stemmed text\n",
    "    \"\"\"\n",
    "    # Step 1: Basic cleaning\n",
    "    text = re.sub(r'http[s]?://\\S+|www\\.\\S+', '', text)  # Remove URLs\n",
    "    text = re.sub(r\"#(\\w+)\", r\"\\1\", text)  # Remove hashtag symbol but keep text\n",
    "    text = re.sub(r'[^\\w\\s]', '', text)  # Remove punctuation (keep underscores)\n",
    "    text = re.sub(r'\\n', ' ', text)  # Replace newlines with spaces\n",
    "    text = re.sub(r'\\d+', '', text)  # Remove numbers\n",
    "    \n",
    "    # Step 2: Case normalization\n",
    "    text = text.lower().strip()\n",
    "    \n",
    "    # Step 3: Tokenization and stemming\n",
    "    tokens = word_tokenize(text)\n",
    "    stemmed_tokens = [stemmer.stem(token) for token in tokens]\n",
    "    \n",
    "    return ' '.join(stemmed_tokens)\n"
   ]
  },
  {
   "cell_type": "code",
   "execution_count": 16,
   "id": "411d7adb",
   "metadata": {
    "execution": {
     "iopub.execute_input": "2025-05-25T16:16:31.166460Z",
     "iopub.status.busy": "2025-05-25T16:16:31.166253Z",
     "iopub.status.idle": "2025-05-25T16:16:32.634655Z",
     "shell.execute_reply": "2025-05-25T16:16:32.633874Z"
    },
    "papermill": {
     "duration": 1.477785,
     "end_time": "2025-05-25T16:16:32.636164",
     "exception": false,
     "start_time": "2025-05-25T16:16:31.158379",
     "status": "completed"
    },
    "tags": []
   },
   "outputs": [],
   "source": [
    "train_df = train.copy()\n",
    "\n",
    "train_df['clean_text'] = train_df['text'].apply(text_preprocess_with_stemming)"
   ]
  },
  {
   "cell_type": "code",
   "execution_count": 17,
   "id": "7be49de6",
   "metadata": {
    "execution": {
     "iopub.execute_input": "2025-05-25T16:16:32.652756Z",
     "iopub.status.busy": "2025-05-25T16:16:32.652528Z",
     "iopub.status.idle": "2025-05-25T16:16:32.660599Z",
     "shell.execute_reply": "2025-05-25T16:16:32.659773Z"
    },
    "papermill": {
     "duration": 0.01781,
     "end_time": "2025-05-25T16:16:32.661916",
     "exception": false,
     "start_time": "2025-05-25T16:16:32.644106",
     "status": "completed"
    },
    "tags": []
   },
   "outputs": [
    {
     "name": "stdout",
     "output_type": "stream",
     "text": [
      "                                                                                                                   clean_text  \\\n",
      "2065                                                     naaa i bee dead like a legit zombi i feel everi sore part in my bodi   \n",
      "226           day of tryout went good minus the fact i stop quick to get a short ball and annihil my toenail injuri even more   \n",
      "7534                                 wreckag conclus confirm as from mh malaysia pm investig and the famili of those who were   \n",
      "5474                                            reddit updat content polici promis to quarantin ûextrem offensiveûª communiti   \n",
      "7172                                                                                       greedi had me in the war zone lmao   \n",
      "241                     a fun fill happyhour at simmon bar in camden with this handsom one i got annihil apart from this game   \n",
      "3090           no but serious i will electrocut half of uk armi so i can touch bangtan i do not play game when it come to bts   \n",
      "2627                                                                how american war planner singl out hiroshima for destruct   \n",
      "6479        benaffleck i respect you and like you for your talent i guess i stil do but as a human be youv sunk low mraffleck   \n",
      "5324                                                                pandemonium in aba as woman deliv babi without face photo   \n",
      "218                                        cop pull drunk driver to safeti second befor his car is hit by train via viralspel   \n",
      "4189           so now that di maria has left my dear mufc back to the hazarddi maria argument id say hazard is way better idc   \n",
      "4355                                             governor allow parol for california school bus hijack who kidnap children in   \n",
      "3959  slopeofhop mayb the plan is to dilut until they can safe say we have to start charg or it over long would come flood in   \n",
      "6065                                                                                         massiv sinkhol emerg in brooklyn   \n",
      "2614                         crackdown destruct restrict to multiplay crackdown impress earlier this week with a demonstratio   \n",
      "4589          msnbc what a fuck idiot he had a gun amp a hatchet yet there were still no serious injuri glad polic termin him   \n",
      "5747                                                           to all the meatlov feminist of the world riot grill hasåêarriv   \n",
      "1009         mzgraciebabi for the record im jumpin out the window earli i got officialrealrap bodi bag luck lol save the file   \n",
      "4024                                                                                             our littl forest fire warden   \n",
      "\n",
      "                                                                                                                                            text  \n",
      "2065                                       Naaa I bee dead.. Like a legit zombie .. I feel every sore part in my body ?? https://t.co/J4fSDPfA63  \n",
      "226                  day 1 of tryouts went good minus the fact I stopped quickly to get a short ball and Annihilated my toenail injury even more  \n",
      "7534    Wreckage 'Conclusively Confirmed' as From MH370: Malaysia PM: Investigators and the families of those who were... http://t.co/2Jr3Yo55dr  \n",
      "5474                           Reddit updates content policy promises to quarantine Û÷extremely offensiveÛª communities http://t.co/KmTwA3n1Gf  \n",
      "7172                                                                                                        Greedy had me in the war zone ! Lmao  \n",
      "241   A fun filled happy-hour at Simmons bar in Camden with this handsome one ?? (I got annihilated apart from this game) http://t.co/4JNo677Zkv  \n",
      "3090                       no but seriously I will electrocute half of UK Army's so I can touch bangtan i do not play games when it comes to bts  \n",
      "2627                                                      How American war planners singled out Hiroshima for destruction http://t.co/B5OKgpSpbH  \n",
      "6479              @BenAffleck  i respected you and liked you for your talent. i guess i stil do but as a human being you've sunk low Mr.Affleck!  \n",
      "5324                                                    Pandemonium In Aba As Woman Delivers Baby Without Face (Photos) - http://t.co/c5u9qshhnb  \n",
      "218     Cop pulls drunk driver to safety SECONDS before his car is hit by train. http://t.co/tHrhKHOGcUåÊ http://t.co/tZSZmF2qxE via @ViralSpell  \n",
      "4189                   So now that Di Maria has left my dear #mufc  back to the Hazard-Di Maria argument.... I'd say Hazard is way better ?? idc  \n",
      "4355  Governor allows parole for California school bus hijacker who kidnapped 26 children in 1976. http://t.co/hdAhLgrprl http://t.co/Z1s3T77P3L  \n",
      "3959  @SlopeOfHope Maybe the plan is to dilute until they can safely say 'We have to start charging or it's over'. Longs would come flooding in.  \n",
      "6065                                                          Massive Sinkhole Emerges In Brooklyn http://t.co/n3Ow73Oasw http://t.co/Gs9bmplbHH  \n",
      "2614    Crackdown 3 Destruction Restricted to Multiplayer: Crackdown 3 impressed earlier this week with a demonstratio... http://t.co/LMWKjsYCgj  \n",
      "4589             @msnbc What a fucking idiot. He had a gun &amp; a hatchet yet there were still no serious injuries. Glad police terminated him.  \n",
      "5747                                                To All The Meat-Loving Feminists Of The World Riot Grill HasåÊArrived http://t.co/uDQA53KfQu  \n",
      "1009                 @MzGracieBaby for the record im jumpin out the window early... i got @OfficialRealRap body bagging luck.. lol save the file  \n",
      "4024                                                                                       Our little forest fire wardens http://t.co/aPreNsss3x  \n"
     ]
    }
   ],
   "source": [
    "print(train_df[['clean_text', 'text']].sample(n=20))"
   ]
  },
  {
   "cell_type": "code",
   "execution_count": null,
   "id": "13529a0e",
   "metadata": {
    "papermill": {
     "duration": 0.007253,
     "end_time": "2025-05-25T16:16:32.676869",
     "exception": false,
     "start_time": "2025-05-25T16:16:32.669616",
     "status": "completed"
    },
    "tags": []
   },
   "outputs": [],
   "source": []
  },
  {
   "cell_type": "markdown",
   "id": "61632395",
   "metadata": {
    "papermill": {
     "duration": 0.007346,
     "end_time": "2025-05-25T16:16:32.691717",
     "exception": false,
     "start_time": "2025-05-25T16:16:32.684371",
     "status": "completed"
    },
    "tags": []
   },
   "source": [
    "# Model training"
   ]
  },
  {
   "cell_type": "code",
   "execution_count": 18,
   "id": "523852cf",
   "metadata": {
    "execution": {
     "iopub.execute_input": "2025-05-25T16:16:32.707481Z",
     "iopub.status.busy": "2025-05-25T16:16:32.707278Z",
     "iopub.status.idle": "2025-05-25T16:16:32.713176Z",
     "shell.execute_reply": "2025-05-25T16:16:32.712440Z"
    },
    "papermill": {
     "duration": 0.015116,
     "end_time": "2025-05-25T16:16:32.714374",
     "exception": false,
     "start_time": "2025-05-25T16:16:32.699258",
     "status": "completed"
    },
    "tags": []
   },
   "outputs": [],
   "source": [
    "\n",
    "#X = train_df.drop(columns=['target'])\n",
    "X = train_df['clean_text']\n",
    "y = train_df['target']\n",
    "\n",
    "X_train, X_test, y_train, y_test = train_test_split(X, y, test_size=0.2, random_state=42)"
   ]
  },
  {
   "cell_type": "code",
   "execution_count": 19,
   "id": "310f9fad",
   "metadata": {
    "execution": {
     "iopub.execute_input": "2025-05-25T16:16:32.730217Z",
     "iopub.status.busy": "2025-05-25T16:16:32.730013Z",
     "iopub.status.idle": "2025-05-25T16:16:32.735645Z",
     "shell.execute_reply": "2025-05-25T16:16:32.734958Z"
    },
    "papermill": {
     "duration": 0.014748,
     "end_time": "2025-05-25T16:16:32.736649",
     "exception": false,
     "start_time": "2025-05-25T16:16:32.721901",
     "status": "completed"
    },
    "tags": []
   },
   "outputs": [],
   "source": [
    "def evaluate_model(y_true, y_pred, model_name=\"Model\"):\n",
    "    \"\"\"\n",
    "    Evaluate classification model with key metrics and visualizations\n",
    "    \n",
    "    Parameters:\n",
    "    y_true (array): True labels\n",
    "    y_pred (array): Predicted labels\n",
    "    model_name (str): Name for display purposes\n",
    "    \"\"\"\n",
    "    # Calculate metrics\n",
    "    f1 = f1_score(y_true, y_pred)\n",
    "    precision = precision_score(y_true, y_pred)\n",
    "    recall = recall_score(y_true, y_pred)\n",
    "    \n",
    "    # Print metrics\n",
    "    print(f\"╔{'═'*30}╗\")\n",
    "    print(f\"║ {model_name.upper():^28} ║\")\n",
    "    print(f\"╠{'═'*30}╣\")\n",
    "    print(f\"║ {'F1 Score:':<15} {f1:.4f}{'║':>9}\")\n",
    "    print(f\"║ {'Precision:':<15} {precision:.4f}{'║':>9}\")\n",
    "    print(f\"║ {'Recall:':<15} {recall:.4f}{'║':>9}\")\n",
    "    print(f\"╚{'═'*30}╝\\n\")\n",
    "    \n",
    "    # Confusion matrix visualization\n",
    "    cm = confusion_matrix(y_true, y_pred)\n",
    "    plt.figure(figsize=(6, 5))\n",
    "    sns.heatmap(cm, annot=True, fmt='d', cmap='Blues', \n",
    "                xticklabels=['Non-Disaster', 'Disaster'],\n",
    "                yticklabels=['Non-Disaster', 'Disaster'])\n",
    "    plt.title(f'{model_name} Confusion Matrix')\n",
    "    plt.ylabel('True Label')\n",
    "    plt.xlabel('Predicted Label')\n",
    "    plt.show()\n",
    "    \n",
    "    return {'f1': f1, 'precision': precision, 'recall': recall}\n",
    "\n",
    "# Usage example:\n",
    "# y_true = test_df['target']\n",
    "# y_pred = model.predict(X_test)\n",
    "# metrics = evaluate_model(y_true, y_pred, \"Disaster Tweet Classifier\")"
   ]
  },
  {
   "cell_type": "markdown",
   "id": "de9285a9",
   "metadata": {
    "papermill": {
     "duration": 0.007297,
     "end_time": "2025-05-25T16:16:32.751523",
     "exception": false,
     "start_time": "2025-05-25T16:16:32.744226",
     "status": "completed"
    },
    "tags": []
   },
   "source": [
    "## TF IDF\n",
    "\n",
    "### 1"
   ]
  },
  {
   "cell_type": "code",
   "execution_count": 20,
   "id": "ad38b665",
   "metadata": {
    "execution": {
     "iopub.execute_input": "2025-05-25T16:16:32.767327Z",
     "iopub.status.busy": "2025-05-25T16:16:32.767121Z",
     "iopub.status.idle": "2025-05-25T16:16:43.768943Z",
     "shell.execute_reply": "2025-05-25T16:16:43.768175Z"
    },
    "papermill": {
     "duration": 11.011083,
     "end_time": "2025-05-25T16:16:43.770092",
     "exception": false,
     "start_time": "2025-05-25T16:16:32.759009",
     "status": "completed"
    },
    "tags": []
   },
   "outputs": [
    {
     "data": {
      "text/html": [
       "<style>#sk-container-id-1 {color: black;background-color: white;}#sk-container-id-1 pre{padding: 0;}#sk-container-id-1 div.sk-toggleable {background-color: white;}#sk-container-id-1 label.sk-toggleable__label {cursor: pointer;display: block;width: 100%;margin-bottom: 0;padding: 0.3em;box-sizing: border-box;text-align: center;}#sk-container-id-1 label.sk-toggleable__label-arrow:before {content: \"▸\";float: left;margin-right: 0.25em;color: #696969;}#sk-container-id-1 label.sk-toggleable__label-arrow:hover:before {color: black;}#sk-container-id-1 div.sk-estimator:hover label.sk-toggleable__label-arrow:before {color: black;}#sk-container-id-1 div.sk-toggleable__content {max-height: 0;max-width: 0;overflow: hidden;text-align: left;background-color: #f0f8ff;}#sk-container-id-1 div.sk-toggleable__content pre {margin: 0.2em;color: black;border-radius: 0.25em;background-color: #f0f8ff;}#sk-container-id-1 input.sk-toggleable__control:checked~div.sk-toggleable__content {max-height: 200px;max-width: 100%;overflow: auto;}#sk-container-id-1 input.sk-toggleable__control:checked~label.sk-toggleable__label-arrow:before {content: \"▾\";}#sk-container-id-1 div.sk-estimator input.sk-toggleable__control:checked~label.sk-toggleable__label {background-color: #d4ebff;}#sk-container-id-1 div.sk-label input.sk-toggleable__control:checked~label.sk-toggleable__label {background-color: #d4ebff;}#sk-container-id-1 input.sk-hidden--visually {border: 0;clip: rect(1px 1px 1px 1px);clip: rect(1px, 1px, 1px, 1px);height: 1px;margin: -1px;overflow: hidden;padding: 0;position: absolute;width: 1px;}#sk-container-id-1 div.sk-estimator {font-family: monospace;background-color: #f0f8ff;border: 1px dotted black;border-radius: 0.25em;box-sizing: border-box;margin-bottom: 0.5em;}#sk-container-id-1 div.sk-estimator:hover {background-color: #d4ebff;}#sk-container-id-1 div.sk-parallel-item::after {content: \"\";width: 100%;border-bottom: 1px solid gray;flex-grow: 1;}#sk-container-id-1 div.sk-label:hover label.sk-toggleable__label {background-color: #d4ebff;}#sk-container-id-1 div.sk-serial::before {content: \"\";position: absolute;border-left: 1px solid gray;box-sizing: border-box;top: 0;bottom: 0;left: 50%;z-index: 0;}#sk-container-id-1 div.sk-serial {display: flex;flex-direction: column;align-items: center;background-color: white;padding-right: 0.2em;padding-left: 0.2em;position: relative;}#sk-container-id-1 div.sk-item {position: relative;z-index: 1;}#sk-container-id-1 div.sk-parallel {display: flex;align-items: stretch;justify-content: center;background-color: white;position: relative;}#sk-container-id-1 div.sk-item::before, #sk-container-id-1 div.sk-parallel-item::before {content: \"\";position: absolute;border-left: 1px solid gray;box-sizing: border-box;top: 0;bottom: 0;left: 50%;z-index: -1;}#sk-container-id-1 div.sk-parallel-item {display: flex;flex-direction: column;z-index: 1;position: relative;background-color: white;}#sk-container-id-1 div.sk-parallel-item:first-child::after {align-self: flex-end;width: 50%;}#sk-container-id-1 div.sk-parallel-item:last-child::after {align-self: flex-start;width: 50%;}#sk-container-id-1 div.sk-parallel-item:only-child::after {width: 0;}#sk-container-id-1 div.sk-dashed-wrapped {border: 1px dashed gray;margin: 0 0.4em 0.5em 0.4em;box-sizing: border-box;padding-bottom: 0.4em;background-color: white;}#sk-container-id-1 div.sk-label label {font-family: monospace;font-weight: bold;display: inline-block;line-height: 1.2em;}#sk-container-id-1 div.sk-label-container {text-align: center;}#sk-container-id-1 div.sk-container {/* jupyter's `normalize.less` sets `[hidden] { display: none; }` but bootstrap.min.css set `[hidden] { display: none !important; }` so we also need the `!important` here to be able to override the default hidden behavior on the sphinx rendered scikit-learn.org. See: https://github.com/scikit-learn/scikit-learn/issues/21755 */display: inline-block !important;position: relative;}#sk-container-id-1 div.sk-text-repr-fallback {display: none;}</style><div id=\"sk-container-id-1\" class=\"sk-top-container\"><div class=\"sk-text-repr-fallback\"><pre>Pipeline(steps=[(&#x27;tfidfvectorizer&#x27;,\n",
       "                 TfidfVectorizer(max_df=0.7, max_features=10000,\n",
       "                                 stop_words=&#x27;english&#x27;)),\n",
       "                (&#x27;randomforestclassifier&#x27;,\n",
       "                 RandomForestClassifier(class_weight=&#x27;balanced&#x27;,\n",
       "                                        min_samples_leaf=2,\n",
       "                                        n_estimators=500))])</pre><b>In a Jupyter environment, please rerun this cell to show the HTML representation or trust the notebook. <br />On GitHub, the HTML representation is unable to render, please try loading this page with nbviewer.org.</b></div><div class=\"sk-container\" hidden><div class=\"sk-item sk-dashed-wrapped\"><div class=\"sk-label-container\"><div class=\"sk-label sk-toggleable\"><input class=\"sk-toggleable__control sk-hidden--visually\" id=\"sk-estimator-id-1\" type=\"checkbox\" ><label for=\"sk-estimator-id-1\" class=\"sk-toggleable__label sk-toggleable__label-arrow\">Pipeline</label><div class=\"sk-toggleable__content\"><pre>Pipeline(steps=[(&#x27;tfidfvectorizer&#x27;,\n",
       "                 TfidfVectorizer(max_df=0.7, max_features=10000,\n",
       "                                 stop_words=&#x27;english&#x27;)),\n",
       "                (&#x27;randomforestclassifier&#x27;,\n",
       "                 RandomForestClassifier(class_weight=&#x27;balanced&#x27;,\n",
       "                                        min_samples_leaf=2,\n",
       "                                        n_estimators=500))])</pre></div></div></div><div class=\"sk-serial\"><div class=\"sk-item\"><div class=\"sk-estimator sk-toggleable\"><input class=\"sk-toggleable__control sk-hidden--visually\" id=\"sk-estimator-id-2\" type=\"checkbox\" ><label for=\"sk-estimator-id-2\" class=\"sk-toggleable__label sk-toggleable__label-arrow\">TfidfVectorizer</label><div class=\"sk-toggleable__content\"><pre>TfidfVectorizer(max_df=0.7, max_features=10000, stop_words=&#x27;english&#x27;)</pre></div></div></div><div class=\"sk-item\"><div class=\"sk-estimator sk-toggleable\"><input class=\"sk-toggleable__control sk-hidden--visually\" id=\"sk-estimator-id-3\" type=\"checkbox\" ><label for=\"sk-estimator-id-3\" class=\"sk-toggleable__label sk-toggleable__label-arrow\">RandomForestClassifier</label><div class=\"sk-toggleable__content\"><pre>RandomForestClassifier(class_weight=&#x27;balanced&#x27;, min_samples_leaf=2,\n",
       "                       n_estimators=500)</pre></div></div></div></div></div></div></div>"
      ],
      "text/plain": [
       "Pipeline(steps=[('tfidfvectorizer',\n",
       "                 TfidfVectorizer(max_df=0.7, max_features=10000,\n",
       "                                 stop_words='english')),\n",
       "                ('randomforestclassifier',\n",
       "                 RandomForestClassifier(class_weight='balanced',\n",
       "                                        min_samples_leaf=2,\n",
       "                                        n_estimators=500))])"
      ]
     },
     "execution_count": 20,
     "metadata": {},
     "output_type": "execute_result"
    }
   ],
   "source": [
    "model = make_pipeline(\n",
    "    TfidfVectorizer(stop_words='english', max_df= 0.7, max_features= 10000, min_df= 1, ngram_range= (1, 1), norm= 'l2'),  # Text to numbers\n",
    "    RandomForestClassifier(n_estimators = 500, class_weight='balanced', min_samples_leaf= 2) \n",
    ")\n",
    "\n",
    "# Train (X_train = tweets, y_train = labels)\n",
    "model.fit(X_train, y_train)"
   ]
  },
  {
   "cell_type": "code",
   "execution_count": 21,
   "id": "6d1e17d5",
   "metadata": {
    "execution": {
     "iopub.execute_input": "2025-05-25T16:16:43.787684Z",
     "iopub.status.busy": "2025-05-25T16:16:43.787453Z",
     "iopub.status.idle": "2025-05-25T16:16:45.942607Z",
     "shell.execute_reply": "2025-05-25T16:16:45.941866Z"
    },
    "papermill": {
     "duration": 2.165042,
     "end_time": "2025-05-25T16:16:45.943710",
     "exception": false,
     "start_time": "2025-05-25T16:16:43.778668",
     "status": "completed"
    },
    "tags": []
   },
   "outputs": [
    {
     "name": "stdout",
     "output_type": "stream",
     "text": [
      "╔══════════════════════════════╗\n",
      "║       TRAIN DATA TF-IDF      ║\n",
      "╠══════════════════════════════╣\n",
      "║ F1 Score:       0.8694        ║\n",
      "║ Precision:      0.8640        ║\n",
      "║ Recall:         0.8749        ║\n",
      "╚══════════════════════════════╝\n",
      "\n"
     ]
    },
    {
     "data": {
      "image/png": "[encoded data removed]",
      "text/plain": [
       "<Figure size 600x500 with 2 Axes>"
      ]
     },
     "metadata": {},
     "output_type": "display_data"
    }
   ],
   "source": [
    "y_train_pred = model.predict(X_train)\n",
    "metrics = evaluate_model(y_train, y_train_pred, \" Train DATA TF-IDF\")"
   ]
  },
  {
   "cell_type": "code",
   "execution_count": 22,
   "id": "6bd7fab0",
   "metadata": {
    "execution": {
     "iopub.execute_input": "2025-05-25T16:16:45.962731Z",
     "iopub.status.busy": "2025-05-25T16:16:45.962541Z",
     "iopub.status.idle": "2025-05-25T16:16:46.617040Z",
     "shell.execute_reply": "2025-05-25T16:16:46.616140Z"
    },
    "papermill": {
     "duration": 0.665414,
     "end_time": "2025-05-25T16:16:46.618527",
     "exception": false,
     "start_time": "2025-05-25T16:16:45.953113",
     "status": "completed"
    },
    "tags": []
   },
   "outputs": [
    {
     "name": "stdout",
     "output_type": "stream",
     "text": [
      "╔══════════════════════════════╗\n",
      "║       TEST DATA TF-IDF       ║\n",
      "╠══════════════════════════════╣\n",
      "║ F1 Score:       0.7393        ║\n",
      "║ Precision:      0.7118        ║\n",
      "║ Recall:         0.7689        ║\n",
      "╚══════════════════════════════╝\n",
      "\n"
     ]
    },
    {
     "data": {
      "image/png": "[encoded data removed]",
      "text/plain": [
       "<Figure size 600x500 with 2 Axes>"
      ]
     },
     "metadata": {},
     "output_type": "display_data"
    }
   ],
   "source": [
    "y_pred = model.predict(X_test)\n",
    "metrics = evaluate_model(y_test, y_pred, \"Test DATA TF-IDF\")"
   ]
  },
  {
   "cell_type": "markdown",
   "id": "1e63fe98",
   "metadata": {
    "papermill": {
     "duration": 0.015544,
     "end_time": "2025-05-25T16:16:46.650521",
     "exception": false,
     "start_time": "2025-05-25T16:16:46.634977",
     "status": "completed"
    },
    "tags": []
   },
   "source": [
    "### Word Embedding\n"
   ]
  },
  {
   "cell_type": "code",
   "execution_count": 23,
   "id": "1d3dd229",
   "metadata": {
    "execution": {
     "iopub.execute_input": "2025-05-25T16:16:46.669795Z",
     "iopub.status.busy": "2025-05-25T16:16:46.669573Z",
     "iopub.status.idle": "2025-05-25T16:16:46.906590Z",
     "shell.execute_reply": "2025-05-25T16:16:46.905712Z"
    },
    "papermill": {
     "duration": 0.248265,
     "end_time": "2025-05-25T16:16:46.907993",
     "exception": false,
     "start_time": "2025-05-25T16:16:46.659728",
     "status": "completed"
    },
    "tags": []
   },
   "outputs": [],
   "source": [
    "tokenizer = Tokenizer(num_words=10000, oov_token=\"<OOV>\")\n",
    "tokenizer.fit_on_texts(train_df['clean_text'])\n",
    "\n",
    "# Convert text to sequences\n",
    "train_sequences = tokenizer.texts_to_sequences(train_df['clean_text'])\n",
    "X_padded = pad_sequences(train_sequences, maxlen=70, padding='post', truncating='post')\n",
    "\n",
    "\n",
    "y = train_df['target']\n",
    "\n",
    "X_train, X_test, y_train, y_test = train_test_split(X_padded, y, test_size=0.2, random_state=42)"
   ]
  },
  {
   "cell_type": "code",
   "execution_count": 24,
   "id": "0b3b0d25",
   "metadata": {
    "execution": {
     "iopub.execute_input": "2025-05-25T16:16:46.931472Z",
     "iopub.status.busy": "2025-05-25T16:16:46.931255Z",
     "iopub.status.idle": "2025-05-25T16:16:47.322051Z",
     "shell.execute_reply": "2025-05-25T16:16:47.321229Z"
    },
    "papermill": {
     "duration": 0.403305,
     "end_time": "2025-05-25T16:16:47.323731",
     "exception": false,
     "start_time": "2025-05-25T16:16:46.920426",
     "status": "completed"
    },
    "tags": []
   },
   "outputs": [
    {
     "name": "stderr",
     "output_type": "stream",
     "text": [
      "I0000 00:00:1748189807.249379      19 gpu_device.cc:2022] Created device /job:localhost/replica:0/task:0/device:GPU:0 with 13942 MB memory:  -> device: 0, name: Tesla T4, pci bus id: 0000:00:04.0, compute capability: 7.5\n",
      "I0000 00:00:1748189807.250137      19 gpu_device.cc:2022] Created device /job:localhost/replica:0/task:0/device:GPU:1 with 13942 MB memory:  -> device: 1, name: Tesla T4, pci bus id: 0000:00:05.0, compute capability: 7.5\n"
     ]
    }
   ],
   "source": [
    "model = Sequential([\n",
    "    # Input Layer\n",
    "    Embedding(input_dim=10000, output_dim=128, input_length=30),\n",
    "    # Convolutional Block (Multiple filter sizes)\n",
    "    Conv1D(filters=128, kernel_size=3, activation='relu', padding='same'),\n",
    "    Conv1D(filters=64, kernel_size=5, activation='relu', padding='same'),\n",
    "    # Parallel Bidirectional LSTMs\n",
    "    Bidirectional(LSTM(64, return_sequences=True)),\n",
    "    Bidirectional(LSTM(32)),\n",
    "    # Combined Features\n",
    "    Dense(64, activation='relu'),\n",
    "    Dense(32, activation='relu'),\n",
    "    # Output Layer\n",
    "    Dense(1, activation='sigmoid')\n",
    "])"
   ]
  },
  {
   "cell_type": "code",
   "execution_count": 25,
   "id": "a691fff6",
   "metadata": {
    "execution": {
     "iopub.execute_input": "2025-05-25T16:16:47.348813Z",
     "iopub.status.busy": "2025-05-25T16:16:47.348595Z",
     "iopub.status.idle": "2025-05-25T16:18:02.801345Z",
     "shell.execute_reply": "2025-05-25T16:18:02.800610Z"
    },
    "papermill": {
     "duration": 75.463612,
     "end_time": "2025-05-25T16:18:02.802557",
     "exception": false,
     "start_time": "2025-05-25T16:16:47.338945",
     "status": "completed"
    },
    "tags": []
   },
   "outputs": [
    {
     "name": "stdout",
     "output_type": "stream",
     "text": [
      "Epoch 1/50\n"
     ]
    },
    {
     "name": "stderr",
     "output_type": "stream",
     "text": [
      "I0000 00:00:1748189816.018283      62 cuda_dnn.cc:529] Loaded cuDNN version 90300\n"
     ]
    },
    {
     "name": "stdout",
     "output_type": "stream",
     "text": [
      "\u001b[1m61/61\u001b[0m \u001b[32m━━━━━━━━━━━━━━━━━━━━\u001b[0m\u001b[37m\u001b[0m \u001b[1m14s\u001b[0m 39ms/step - accuracy: 0.6147 - auc: 0.5943 - loss: 0.6585 - val_accuracy: 0.7754 - val_auc: 0.8412 - val_loss: 0.4864\n",
      "Epoch 2/50\n",
      "\u001b[1m61/61\u001b[0m \u001b[32m━━━━━━━━━━━━━━━━━━━━\u001b[0m\u001b[37m\u001b[0m \u001b[1m1s\u001b[0m 20ms/step - accuracy: 0.8434 - auc: 0.9098 - loss: 0.3713 - val_accuracy: 0.7945 - val_auc: 0.8548 - val_loss: 0.4656\n",
      "Epoch 3/50\n",
      "\u001b[1m61/61\u001b[0m \u001b[32m━━━━━━━━━━━━━━━━━━━━\u001b[0m\u001b[37m\u001b[0m \u001b[1m1s\u001b[0m 20ms/step - accuracy: 0.9206 - auc: 0.9626 - loss: 0.2251 - val_accuracy: 0.7735 - val_auc: 0.8437 - val_loss: 0.5565\n",
      "Epoch 4/50\n",
      "\u001b[1m61/61\u001b[0m \u001b[32m━━━━━━━━━━━━━━━━━━━━\u001b[0m\u001b[37m\u001b[0m \u001b[1m1s\u001b[0m 20ms/step - accuracy: 0.9464 - auc: 0.9791 - loss: 0.1614 - val_accuracy: 0.7676 - val_auc: 0.8284 - val_loss: 0.6404\n",
      "Epoch 5/50\n",
      "\u001b[1m61/61\u001b[0m \u001b[32m━━━━━━━━━━━━━━━━━━━━\u001b[0m\u001b[37m\u001b[0m \u001b[1m1s\u001b[0m 20ms/step - accuracy: 0.9668 - auc: 0.9887 - loss: 0.1136 - val_accuracy: 0.7505 - val_auc: 0.8274 - val_loss: 0.7440\n",
      "Epoch 6/50\n",
      "\u001b[1m61/61\u001b[0m \u001b[32m━━━━━━━━━━━━━━━━━━━━\u001b[0m\u001b[37m\u001b[0m \u001b[1m1s\u001b[0m 20ms/step - accuracy: 0.9743 - auc: 0.9912 - loss: 0.0889 - val_accuracy: 0.7656 - val_auc: 0.8246 - val_loss: 0.7556\n",
      "Epoch 7/50\n",
      "\u001b[1m61/61\u001b[0m \u001b[32m━━━━━━━━━━━━━━━━━━━━\u001b[0m\u001b[37m\u001b[0m \u001b[1m1s\u001b[0m 20ms/step - accuracy: 0.9733 - auc: 0.9958 - loss: 0.0706 - val_accuracy: 0.7669 - val_auc: 0.8093 - val_loss: 0.8974\n",
      "Epoch 8/50\n",
      "\u001b[1m61/61\u001b[0m \u001b[32m━━━━━━━━━━━━━━━━━━━━\u001b[0m\u001b[37m\u001b[0m \u001b[1m1s\u001b[0m 20ms/step - accuracy: 0.9807 - auc: 0.9971 - loss: 0.0565 - val_accuracy: 0.7590 - val_auc: 0.8066 - val_loss: 0.9505\n",
      "Epoch 9/50\n",
      "\u001b[1m61/61\u001b[0m \u001b[32m━━━━━━━━━━━━━━━━━━━━\u001b[0m\u001b[37m\u001b[0m \u001b[1m1s\u001b[0m 20ms/step - accuracy: 0.9793 - auc: 0.9975 - loss: 0.0505 - val_accuracy: 0.7663 - val_auc: 0.7936 - val_loss: 1.1885\n",
      "Epoch 10/50\n",
      "\u001b[1m61/61\u001b[0m \u001b[32m━━━━━━━━━━━━━━━━━━━━\u001b[0m\u001b[37m\u001b[0m \u001b[1m1s\u001b[0m 20ms/step - accuracy: 0.9819 - auc: 0.9981 - loss: 0.0437 - val_accuracy: 0.7433 - val_auc: 0.7868 - val_loss: 1.2272\n",
      "Epoch 11/50\n",
      "\u001b[1m61/61\u001b[0m \u001b[32m━━━━━━━━━━━━━━━━━━━━\u001b[0m\u001b[37m\u001b[0m \u001b[1m1s\u001b[0m 20ms/step - accuracy: 0.9790 - auc: 0.9978 - loss: 0.0475 - val_accuracy: 0.7623 - val_auc: 0.7996 - val_loss: 1.0367\n",
      "Epoch 12/50\n",
      "\u001b[1m61/61\u001b[0m \u001b[32m━━━━━━━━━━━━━━━━━━━━\u001b[0m\u001b[37m\u001b[0m \u001b[1m1s\u001b[0m 20ms/step - accuracy: 0.9746 - auc: 0.9974 - loss: 0.0590 - val_accuracy: 0.7590 - val_auc: 0.7985 - val_loss: 1.1638\n",
      "Epoch 13/50\n",
      "\u001b[1m61/61\u001b[0m \u001b[32m━━━━━━━━━━━━━━━━━━━━\u001b[0m\u001b[37m\u001b[0m \u001b[1m1s\u001b[0m 20ms/step - accuracy: 0.9856 - auc: 0.9993 - loss: 0.0346 - val_accuracy: 0.7485 - val_auc: 0.7846 - val_loss: 1.2892\n",
      "Epoch 14/50\n",
      "\u001b[1m61/61\u001b[0m \u001b[32m━━━━━━━━━━━━━━━━━━━━\u001b[0m\u001b[37m\u001b[0m \u001b[1m1s\u001b[0m 20ms/step - accuracy: 0.9836 - auc: 0.9991 - loss: 0.0343 - val_accuracy: 0.7544 - val_auc: 0.7813 - val_loss: 1.4254\n",
      "Epoch 15/50\n",
      "\u001b[1m61/61\u001b[0m \u001b[32m━━━━━━━━━━━━━━━━━━━━\u001b[0m\u001b[37m\u001b[0m \u001b[1m1s\u001b[0m 22ms/step - accuracy: 0.9828 - auc: 0.9991 - loss: 0.0329 - val_accuracy: 0.7525 - val_auc: 0.7763 - val_loss: 1.5977\n",
      "Epoch 16/50\n",
      "\u001b[1m61/61\u001b[0m \u001b[32m━━━━━━━━━━━━━━━━━━━━\u001b[0m\u001b[37m\u001b[0m \u001b[1m1s\u001b[0m 21ms/step - accuracy: 0.9837 - auc: 0.9993 - loss: 0.0312 - val_accuracy: 0.7564 - val_auc: 0.7766 - val_loss: 1.6565\n",
      "Epoch 17/50\n",
      "\u001b[1m61/61\u001b[0m \u001b[32m━━━━━━━━━━━━━━━━━━━━\u001b[0m\u001b[37m\u001b[0m \u001b[1m1s\u001b[0m 20ms/step - accuracy: 0.9833 - auc: 0.9986 - loss: 0.0340 - val_accuracy: 0.7557 - val_auc: 0.7764 - val_loss: 1.5880\n",
      "Epoch 18/50\n",
      "\u001b[1m61/61\u001b[0m \u001b[32m━━━━━━━━━━━━━━━━━━━━\u001b[0m\u001b[37m\u001b[0m \u001b[1m1s\u001b[0m 20ms/step - accuracy: 0.9855 - auc: 0.9995 - loss: 0.0266 - val_accuracy: 0.7557 - val_auc: 0.7772 - val_loss: 1.5896\n",
      "Epoch 19/50\n",
      "\u001b[1m61/61\u001b[0m \u001b[32m━━━━━━━━━━━━━━━━━━━━\u001b[0m\u001b[37m\u001b[0m \u001b[1m1s\u001b[0m 20ms/step - accuracy: 0.9884 - auc: 0.9995 - loss: 0.0263 - val_accuracy: 0.7354 - val_auc: 0.7778 - val_loss: 1.5600\n",
      "Epoch 20/50\n",
      "\u001b[1m61/61\u001b[0m \u001b[32m━━━━━━━━━━━━━━━━━━━━\u001b[0m\u001b[37m\u001b[0m \u001b[1m1s\u001b[0m 20ms/step - accuracy: 0.9810 - auc: 0.9993 - loss: 0.0310 - val_accuracy: 0.7387 - val_auc: 0.7731 - val_loss: 1.6257\n",
      "Epoch 21/50\n",
      "\u001b[1m61/61\u001b[0m \u001b[32m━━━━━━━━━━━━━━━━━━━━\u001b[0m\u001b[37m\u001b[0m \u001b[1m1s\u001b[0m 20ms/step - accuracy: 0.9874 - auc: 0.9995 - loss: 0.0254 - val_accuracy: 0.7380 - val_auc: 0.7710 - val_loss: 1.9128\n",
      "Epoch 22/50\n",
      "\u001b[1m61/61\u001b[0m \u001b[32m━━━━━━━━━━━━━━━━━━━━\u001b[0m\u001b[37m\u001b[0m \u001b[1m1s\u001b[0m 20ms/step - accuracy: 0.9829 - auc: 0.9994 - loss: 0.0261 - val_accuracy: 0.7584 - val_auc: 0.7707 - val_loss: 1.8441\n",
      "Epoch 23/50\n",
      "\u001b[1m61/61\u001b[0m \u001b[32m━━━━━━━━━━━━━━━━━━━━\u001b[0m\u001b[37m\u001b[0m \u001b[1m1s\u001b[0m 20ms/step - accuracy: 0.9842 - auc: 0.9995 - loss: 0.0248 - val_accuracy: 0.7544 - val_auc: 0.7599 - val_loss: 2.0487\n",
      "Epoch 24/50\n",
      "\u001b[1m61/61\u001b[0m \u001b[32m━━━━━━━━━━━━━━━━━━━━\u001b[0m\u001b[37m\u001b[0m \u001b[1m1s\u001b[0m 20ms/step - accuracy: 0.9883 - auc: 0.9996 - loss: 0.0215 - val_accuracy: 0.7557 - val_auc: 0.7613 - val_loss: 2.0443\n",
      "Epoch 25/50\n",
      "\u001b[1m61/61\u001b[0m \u001b[32m━━━━━━━━━━━━━━━━━━━━\u001b[0m\u001b[37m\u001b[0m \u001b[1m1s\u001b[0m 20ms/step - accuracy: 0.9867 - auc: 0.9995 - loss: 0.0234 - val_accuracy: 0.7485 - val_auc: 0.7610 - val_loss: 2.1447\n",
      "Epoch 26/50\n",
      "\u001b[1m61/61\u001b[0m \u001b[32m━━━━━━━━━━━━━━━━━━━━\u001b[0m\u001b[37m\u001b[0m \u001b[1m1s\u001b[0m 20ms/step - accuracy: 0.9870 - auc: 0.9996 - loss: 0.0218 - val_accuracy: 0.7505 - val_auc: 0.7598 - val_loss: 2.0003\n",
      "Epoch 27/50\n",
      "\u001b[1m61/61\u001b[0m \u001b[32m━━━━━━━━━━━━━━━━━━━━\u001b[0m\u001b[37m\u001b[0m \u001b[1m1s\u001b[0m 20ms/step - accuracy: 0.9846 - auc: 0.9988 - loss: 0.0360 - val_accuracy: 0.7518 - val_auc: 0.7774 - val_loss: 1.5776\n",
      "Epoch 28/50\n",
      "\u001b[1m61/61\u001b[0m \u001b[32m━━━━━━━━━━━━━━━━━━━━\u001b[0m\u001b[37m\u001b[0m \u001b[1m1s\u001b[0m 20ms/step - accuracy: 0.9797 - auc: 0.9985 - loss: 0.0423 - val_accuracy: 0.7433 - val_auc: 0.7759 - val_loss: 1.4735\n",
      "Epoch 29/50\n",
      "\u001b[1m61/61\u001b[0m \u001b[32m━━━━━━━━━━━━━━━━━━━━\u001b[0m\u001b[37m\u001b[0m \u001b[1m1s\u001b[0m 21ms/step - accuracy: 0.9817 - auc: 0.9989 - loss: 0.0371 - val_accuracy: 0.7485 - val_auc: 0.7694 - val_loss: 1.5126\n",
      "Epoch 30/50\n",
      "\u001b[1m61/61\u001b[0m \u001b[32m━━━━━━━━━━━━━━━━━━━━\u001b[0m\u001b[37m\u001b[0m \u001b[1m1s\u001b[0m 20ms/step - accuracy: 0.9847 - auc: 0.9990 - loss: 0.0329 - val_accuracy: 0.7479 - val_auc: 0.7816 - val_loss: 1.4826\n",
      "Epoch 31/50\n",
      "\u001b[1m61/61\u001b[0m \u001b[32m━━━━━━━━━━━━━━━━━━━━\u001b[0m\u001b[37m\u001b[0m \u001b[1m1s\u001b[0m 20ms/step - accuracy: 0.9863 - auc: 0.9993 - loss: 0.0275 - val_accuracy: 0.7393 - val_auc: 0.7756 - val_loss: 1.4825\n",
      "Epoch 32/50\n",
      "\u001b[1m61/61\u001b[0m \u001b[32m━━━━━━━━━━━━━━━━━━━━\u001b[0m\u001b[37m\u001b[0m \u001b[1m1s\u001b[0m 20ms/step - accuracy: 0.9844 - auc: 0.9990 - loss: 0.0312 - val_accuracy: 0.7321 - val_auc: 0.7683 - val_loss: 1.8166\n",
      "Epoch 33/50\n",
      "\u001b[1m61/61\u001b[0m \u001b[32m━━━━━━━━━━━━━━━━━━━━\u001b[0m\u001b[37m\u001b[0m \u001b[1m1s\u001b[0m 20ms/step - accuracy: 0.9867 - auc: 0.9995 - loss: 0.0262 - val_accuracy: 0.7479 - val_auc: 0.7689 - val_loss: 1.7823\n",
      "Epoch 34/50\n",
      "\u001b[1m61/61\u001b[0m \u001b[32m━━━━━━━━━━━━━━━━━━━━\u001b[0m\u001b[37m\u001b[0m \u001b[1m1s\u001b[0m 20ms/step - accuracy: 0.9877 - auc: 0.9996 - loss: 0.0224 - val_accuracy: 0.7347 - val_auc: 0.7642 - val_loss: 2.0371\n",
      "Epoch 35/50\n",
      "\u001b[1m61/61\u001b[0m \u001b[32m━━━━━━━━━━━━━━━━━━━━\u001b[0m\u001b[37m\u001b[0m \u001b[1m1s\u001b[0m 20ms/step - accuracy: 0.9873 - auc: 0.9995 - loss: 0.0245 - val_accuracy: 0.7485 - val_auc: 0.7646 - val_loss: 2.0503\n",
      "Epoch 36/50\n",
      "\u001b[1m61/61\u001b[0m \u001b[32m━━━━━━━━━━━━━━━━━━━━\u001b[0m\u001b[37m\u001b[0m \u001b[1m1s\u001b[0m 20ms/step - accuracy: 0.9858 - auc: 0.9993 - loss: 0.0259 - val_accuracy: 0.7360 - val_auc: 0.7620 - val_loss: 2.0872\n",
      "Epoch 37/50\n",
      "\u001b[1m61/61\u001b[0m \u001b[32m━━━━━━━━━━━━━━━━━━━━\u001b[0m\u001b[37m\u001b[0m \u001b[1m1s\u001b[0m 20ms/step - accuracy: 0.9855 - auc: 0.9987 - loss: 0.0344 - val_accuracy: 0.7531 - val_auc: 0.7764 - val_loss: 1.5957\n",
      "Epoch 38/50\n",
      "\u001b[1m61/61\u001b[0m \u001b[32m━━━━━━━━━━━━━━━━━━━━\u001b[0m\u001b[37m\u001b[0m \u001b[1m1s\u001b[0m 20ms/step - accuracy: 0.9843 - auc: 0.9989 - loss: 0.0290 - val_accuracy: 0.7334 - val_auc: 0.7746 - val_loss: 1.6798\n",
      "Epoch 39/50\n",
      "\u001b[1m61/61\u001b[0m \u001b[32m━━━━━━━━━━━━━━━━━━━━\u001b[0m\u001b[37m\u001b[0m \u001b[1m1s\u001b[0m 21ms/step - accuracy: 0.9861 - auc: 0.9996 - loss: 0.0255 - val_accuracy: 0.7479 - val_auc: 0.7745 - val_loss: 1.7229\n",
      "Epoch 40/50\n",
      "\u001b[1m61/61\u001b[0m \u001b[32m━━━━━━━━━━━━━━━━━━━━\u001b[0m\u001b[37m\u001b[0m \u001b[1m1s\u001b[0m 22ms/step - accuracy: 0.9888 - auc: 0.9994 - loss: 0.0248 - val_accuracy: 0.7485 - val_auc: 0.7701 - val_loss: 1.7842\n",
      "Epoch 41/50\n",
      "\u001b[1m61/61\u001b[0m \u001b[32m━━━━━━━━━━━━━━━━━━━━\u001b[0m\u001b[37m\u001b[0m \u001b[1m1s\u001b[0m 21ms/step - accuracy: 0.9871 - auc: 0.9992 - loss: 0.0304 - val_accuracy: 0.7479 - val_auc: 0.7767 - val_loss: 1.7251\n",
      "Epoch 42/50\n",
      "\u001b[1m61/61\u001b[0m \u001b[32m━━━━━━━━━━━━━━━━━━━━\u001b[0m\u001b[37m\u001b[0m \u001b[1m1s\u001b[0m 20ms/step - accuracy: 0.9877 - auc: 0.9995 - loss: 0.0254 - val_accuracy: 0.7505 - val_auc: 0.7791 - val_loss: 1.6676\n",
      "Epoch 43/50\n",
      "\u001b[1m61/61\u001b[0m \u001b[32m━━━━━━━━━━━━━━━━━━━━\u001b[0m\u001b[37m\u001b[0m \u001b[1m1s\u001b[0m 20ms/step - accuracy: 0.9878 - auc: 0.9996 - loss: 0.0229 - val_accuracy: 0.7413 - val_auc: 0.7736 - val_loss: 1.8767\n",
      "Epoch 44/50\n",
      "\u001b[1m61/61\u001b[0m \u001b[32m━━━━━━━━━━━━━━━━━━━━\u001b[0m\u001b[37m\u001b[0m \u001b[1m1s\u001b[0m 20ms/step - accuracy: 0.9905 - auc: 0.9997 - loss: 0.0205 - val_accuracy: 0.7406 - val_auc: 0.7726 - val_loss: 1.9020\n",
      "Epoch 45/50\n",
      "\u001b[1m61/61\u001b[0m \u001b[32m━━━━━━━━━━━━━━━━━━━━\u001b[0m\u001b[37m\u001b[0m \u001b[1m1s\u001b[0m 20ms/step - accuracy: 0.9856 - auc: 0.9995 - loss: 0.0247 - val_accuracy: 0.7413 - val_auc: 0.7713 - val_loss: 1.9942\n",
      "Epoch 46/50\n",
      "\u001b[1m61/61\u001b[0m \u001b[32m━━━━━━━━━━━━━━━━━━━━\u001b[0m\u001b[37m\u001b[0m \u001b[1m1s\u001b[0m 20ms/step - accuracy: 0.9883 - auc: 0.9996 - loss: 0.0211 - val_accuracy: 0.7439 - val_auc: 0.7691 - val_loss: 2.0555\n",
      "Epoch 47/50\n",
      "\u001b[1m61/61\u001b[0m \u001b[32m━━━━━━━━━━━━━━━━━━━━\u001b[0m\u001b[37m\u001b[0m \u001b[1m1s\u001b[0m 20ms/step - accuracy: 0.9881 - auc: 0.9996 - loss: 0.0206 - val_accuracy: 0.7433 - val_auc: 0.7691 - val_loss: 2.0877\n",
      "Epoch 48/50\n",
      "\u001b[1m61/61\u001b[0m \u001b[32m━━━━━━━━━━━━━━━━━━━━\u001b[0m\u001b[37m\u001b[0m \u001b[1m1s\u001b[0m 20ms/step - accuracy: 0.9870 - auc: 0.9996 - loss: 0.0226 - val_accuracy: 0.7439 - val_auc: 0.7682 - val_loss: 2.1517\n",
      "Epoch 49/50\n",
      "\u001b[1m61/61\u001b[0m \u001b[32m━━━━━━━━━━━━━━━━━━━━\u001b[0m\u001b[37m\u001b[0m \u001b[1m1s\u001b[0m 20ms/step - accuracy: 0.9858 - auc: 0.9996 - loss: 0.0242 - val_accuracy: 0.7413 - val_auc: 0.7691 - val_loss: 2.1372\n",
      "Epoch 50/50\n",
      "\u001b[1m61/61\u001b[0m \u001b[32m━━━━━━━━━━━━━━━━━━━━\u001b[0m\u001b[37m\u001b[0m \u001b[1m1s\u001b[0m 20ms/step - accuracy: 0.9866 - auc: 0.9996 - loss: 0.0223 - val_accuracy: 0.7498 - val_auc: 0.7688 - val_loss: 2.0942\n"
     ]
    }
   ],
   "source": [
    "model.compile(\n",
    "    optimizer='adam',\n",
    "    loss='binary_crossentropy', \n",
    "    metrics=['accuracy', AUC(name='auc')]\n",
    ")\n",
    "\n",
    "history = model.fit(\n",
    "    X_train,\n",
    "    y_train,\n",
    "    epochs=50,\n",
    "    validation_data=(X_test, y_test),\n",
    "    batch_size=100\n",
    ")"
   ]
  },
  {
   "cell_type": "code",
   "execution_count": 26,
   "id": "cf0f53e3",
   "metadata": {
    "execution": {
     "iopub.execute_input": "2025-05-25T16:18:02.917449Z",
     "iopub.status.busy": "2025-05-25T16:18:02.917189Z",
     "iopub.status.idle": "2025-05-25T16:18:04.481306Z",
     "shell.execute_reply": "2025-05-25T16:18:04.480684Z"
    },
    "papermill": {
     "duration": 1.622371,
     "end_time": "2025-05-25T16:18:04.482586",
     "exception": false,
     "start_time": "2025-05-25T16:18:02.860215",
     "status": "completed"
    },
    "tags": []
   },
   "outputs": [
    {
     "name": "stdout",
     "output_type": "stream",
     "text": [
      "\u001b[1m48/48\u001b[0m \u001b[32m━━━━━━━━━━━━━━━━━━━━\u001b[0m\u001b[37m\u001b[0m \u001b[1m1s\u001b[0m 17ms/step\n",
      "╔══════════════════════════════╗\n",
      "║        TEST EMBEDDING        ║\n",
      "╠══════════════════════════════╣\n",
      "║ F1 Score:       0.6929        ║\n",
      "║ Precision:      0.7244        ║\n",
      "║ Recall:         0.6641        ║\n",
      "╚══════════════════════════════╝\n",
      "\n"
     ]
    },
    {
     "data": {
      "image/png": "[encoded data removed]",
      "text/plain": [
       "<Figure size 600x500 with 2 Axes>"
      ]
     },
     "metadata": {},
     "output_type": "display_data"
    }
   ],
   "source": [
    "y_pred = model.predict(X_test)\n",
    "y_pred_thresh = (y_pred > 0.47).astype(int)\n",
    "metrics = evaluate_model(y_test, y_pred_thresh, \"Test Embedding\")"
   ]
  },
  {
   "cell_type": "markdown",
   "id": "e8c7ab74",
   "metadata": {
    "papermill": {
     "duration": 0.05709,
     "end_time": "2025-05-25T16:18:04.598779",
     "exception": false,
     "start_time": "2025-05-25T16:18:04.541689",
     "status": "completed"
    },
    "tags": []
   },
   "source": [
    "## BERT"
   ]
  },
  {
   "cell_type": "code",
   "execution_count": 27,
   "id": "8da7f618",
   "metadata": {
    "execution": {
     "iopub.execute_input": "2025-05-25T16:18:04.716597Z",
     "iopub.status.busy": "2025-05-25T16:18:04.715903Z",
     "iopub.status.idle": "2025-05-25T16:18:04.791063Z",
     "shell.execute_reply": "2025-05-25T16:18:04.790329Z"
    },
    "papermill": {
     "duration": 0.135193,
     "end_time": "2025-05-25T16:18:04.792161",
     "exception": false,
     "start_time": "2025-05-25T16:18:04.656968",
     "status": "completed"
    },
    "tags": []
   },
   "outputs": [],
   "source": [
    "train_df = train.copy()\n",
    "\n",
    "train_df['clean_text'] = train_df['text'].apply(text_preprocess)"
   ]
  },
  {
   "cell_type": "code",
   "execution_count": 28,
   "id": "3378f985",
   "metadata": {
    "execution": {
     "iopub.execute_input": "2025-05-25T16:18:04.906806Z",
     "iopub.status.busy": "2025-05-25T16:18:04.906514Z",
     "iopub.status.idle": "2025-05-25T16:18:04.913662Z",
     "shell.execute_reply": "2025-05-25T16:18:04.912906Z"
    },
    "papermill": {
     "duration": 0.064973,
     "end_time": "2025-05-25T16:18:04.914669",
     "exception": false,
     "start_time": "2025-05-25T16:18:04.849696",
     "status": "completed"
    },
    "tags": []
   },
   "outputs": [],
   "source": [
    "\n",
    "#X = train_df.drop(columns=['target'])\n",
    "X = train_df['clean_text']\n",
    "y = train_df['target']\n",
    "\n",
    "X_train, X_test, y_train, y_test = train_test_split(X, y, test_size=0.2, random_state=42)"
   ]
  },
  {
   "cell_type": "code",
   "execution_count": 29,
   "id": "b46281f0",
   "metadata": {
    "execution": {
     "iopub.execute_input": "2025-05-25T16:18:05.029475Z",
     "iopub.status.busy": "2025-05-25T16:18:05.029257Z",
     "iopub.status.idle": "2025-05-25T16:18:05.034610Z",
     "shell.execute_reply": "2025-05-25T16:18:05.034064Z"
    },
    "papermill": {
     "duration": 0.064115,
     "end_time": "2025-05-25T16:18:05.035701",
     "exception": false,
     "start_time": "2025-05-25T16:18:04.971586",
     "status": "completed"
    },
    "tags": []
   },
   "outputs": [],
   "source": [
    "class_weights = compute_class_weight(\n",
    "    'balanced',\n",
    "    classes=np.unique(y_train),\n",
    "    y=y_train\n",
    ")\n",
    "class_weights = dict(enumerate(class_weights))"
   ]
  },
  {
   "cell_type": "code",
   "execution_count": 30,
   "id": "effada9f",
   "metadata": {
    "execution": {
     "iopub.execute_input": "2025-05-25T16:18:05.158883Z",
     "iopub.status.busy": "2025-05-25T16:18:05.158598Z",
     "iopub.status.idle": "2025-05-25T16:21:20.441353Z",
     "shell.execute_reply": "2025-05-25T16:21:20.440748Z"
    },
    "papermill": {
     "duration": 195.34405,
     "end_time": "2025-05-25T16:21:20.442776",
     "exception": false,
     "start_time": "2025-05-25T16:18:05.098726",
     "status": "completed"
    },
    "tags": []
   },
   "outputs": [],
   "source": [
    "# Initialize preprocessor\n",
    "preprocessor = keras_nlp.models.BertPreprocessor.from_preset(\n",
    "    \"bert_base_en_uncased\",\n",
    "    sequence_length=128\n",
    ")\n",
    "\n",
    "# Get ALL required BERT inputs (token_ids, segment_ids, padding_mask)\n",
    "def preprocess_text(text):\n",
    "    output = preprocessor(text)\n",
    "    return {\n",
    "        \"token_ids\": output[\"token_ids\"],\n",
    "        \"segment_ids\": output[\"segment_ids\"],  # ← MISSING IN YOUR CODE\n",
    "        \"padding_mask\": output[\"padding_mask\"]\n",
    "    }\n",
    "\n",
    "# Preprocess all data\n",
    "preprocessed = [preprocess_text(t) for t in X_train]\n",
    "\n",
    "dataset = tf.data.Dataset.from_tensor_slices((\n",
    "    {\n",
    "        \"token_ids\": np.stack([x[\"token_ids\"] for x in preprocessed]),\n",
    "        \"segment_ids\": np.stack([x[\"segment_ids\"] for x in preprocessed]),  # ← ADDED\n",
    "        \"padding_mask\": np.stack([x[\"padding_mask\"] for x in preprocessed])\n",
    "    },\n",
    "    y_train\n",
    ")).batch(32).prefetch(tf.data.AUTOTUNE)"
   ]
  },
  {
   "cell_type": "code",
   "execution_count": 31,
   "id": "48ed2818",
   "metadata": {
    "execution": {
     "iopub.execute_input": "2025-05-25T16:21:20.560238Z",
     "iopub.status.busy": "2025-05-25T16:21:20.559409Z",
     "iopub.status.idle": "2025-05-25T16:21:26.694933Z",
     "shell.execute_reply": "2025-05-25T16:21:26.694325Z"
    },
    "papermill": {
     "duration": 6.194654,
     "end_time": "2025-05-25T16:21:26.696265",
     "exception": false,
     "start_time": "2025-05-25T16:21:20.501611",
     "status": "completed"
    },
    "tags": []
   },
   "outputs": [],
   "source": [
    "# Define model inputs (numeric only!)\n",
    "inputs = {\n",
    "    \"token_ids\": tf.keras.Input(shape=(128,), dtype=tf.int32, name=\"token_ids\"),\n",
    "     \"segment_ids\": tf.keras.Input(shape=(128,), dtype=tf.int32, name=\"segment_ids\"),\n",
    "    \"padding_mask\": tf.keras.Input(shape=(128,), dtype=tf.int32, name=\"padding_mask\")\n",
    "}\n",
    "\n",
    "# BERT encoder\n",
    "encoder = keras_nlp.models.BertBackbone.from_preset(\"bert_base_en_uncased\")\n",
    "outputs = encoder(inputs)\n",
    "\n",
    "# Classification head\n",
    "pooled_output = outputs[\"pooled_output\"]  # [batch_size, 768]\n",
    "\n",
    "Dence_layer = tf.keras.layers.Dense(64, activation='relu')(pooled_output)\n",
    "\n",
    "\n",
    "predictions = tf.keras.layers.Dense(1, activation=\"sigmoid\")(Dence_layer)\n",
    "\n",
    "# Compile\n",
    "model = tf.keras.Model(inputs=inputs, outputs=predictions)\n",
    "model.compile(\n",
    "    optimizer=tf.keras.optimizers.Adam(3e-5),\n",
    "    loss=\"binary_crossentropy\",\n",
    "    metrics=[\"accuracy\"]\n",
    ")"
   ]
  },
  {
   "cell_type": "code",
   "execution_count": 32,
   "id": "bd67d94e",
   "metadata": {
    "execution": {
     "iopub.execute_input": "2025-05-25T16:21:26.817139Z",
     "iopub.status.busy": "2025-05-25T16:21:26.816898Z",
     "iopub.status.idle": "2025-05-25T16:21:26.835644Z",
     "shell.execute_reply": "2025-05-25T16:21:26.835084Z"
    },
    "papermill": {
     "duration": 0.079807,
     "end_time": "2025-05-25T16:21:26.836719",
     "exception": false,
     "start_time": "2025-05-25T16:21:26.756912",
     "status": "completed"
    },
    "tags": []
   },
   "outputs": [
    {
     "data": {
      "text/html": [
       "<pre style=\"white-space:pre;overflow-x:auto;line-height:normal;font-family:Menlo,'DejaVu Sans Mono',consolas,'Courier New',monospace\"><span style=\"font-weight: bold\">Model: \"functional_1\"</span>\n",
       "</pre>\n"
      ],
      "text/plain": [
       "\u001b[1mModel: \"functional_1\"\u001b[0m\n"
      ]
     },
     "metadata": {},
     "output_type": "display_data"
    },
    {
     "data": {
      "text/html": [
       "<pre style=\"white-space:pre;overflow-x:auto;line-height:normal;font-family:Menlo,'DejaVu Sans Mono',consolas,'Courier New',monospace\">┏━━━━━━━━━━━━━━━━━━━━━━━━━━━┳━━━━━━━━━━━━━━━━━━━━━━━━┳━━━━━━━━━━━━━━━━┳━━━━━━━━━━━━━━━━━━━━━━━━┓\n",
       "┃<span style=\"font-weight: bold\"> Layer (type)              </span>┃<span style=\"font-weight: bold\"> Output Shape           </span>┃<span style=\"font-weight: bold\">        Param # </span>┃<span style=\"font-weight: bold\"> Connected to           </span>┃\n",
       "┡━━━━━━━━━━━━━━━━━━━━━━━━━━━╇━━━━━━━━━━━━━━━━━━━━━━━━╇━━━━━━━━━━━━━━━━╇━━━━━━━━━━━━━━━━━━━━━━━━┩\n",
       "│ padding_mask (<span style=\"color: #0087ff; text-decoration-color: #0087ff\">InputLayer</span>) │ (<span style=\"color: #00d7ff; text-decoration-color: #00d7ff\">None</span>, <span style=\"color: #00af00; text-decoration-color: #00af00\">128</span>)            │              <span style=\"color: #00af00; text-decoration-color: #00af00\">0</span> │ -                      │\n",
       "├───────────────────────────┼────────────────────────┼────────────────┼────────────────────────┤\n",
       "│ segment_ids (<span style=\"color: #0087ff; text-decoration-color: #0087ff\">InputLayer</span>)  │ (<span style=\"color: #00d7ff; text-decoration-color: #00d7ff\">None</span>, <span style=\"color: #00af00; text-decoration-color: #00af00\">128</span>)            │              <span style=\"color: #00af00; text-decoration-color: #00af00\">0</span> │ -                      │\n",
       "├───────────────────────────┼────────────────────────┼────────────────┼────────────────────────┤\n",
       "│ token_ids (<span style=\"color: #0087ff; text-decoration-color: #0087ff\">InputLayer</span>)    │ (<span style=\"color: #00d7ff; text-decoration-color: #00d7ff\">None</span>, <span style=\"color: #00af00; text-decoration-color: #00af00\">128</span>)            │              <span style=\"color: #00af00; text-decoration-color: #00af00\">0</span> │ -                      │\n",
       "├───────────────────────────┼────────────────────────┼────────────────┼────────────────────────┤\n",
       "│ bert_backbone             │ [(<span style=\"color: #00d7ff; text-decoration-color: #00d7ff\">None</span>, <span style=\"color: #00af00; text-decoration-color: #00af00\">768</span>), (<span style=\"color: #00d7ff; text-decoration-color: #00d7ff\">None</span>,   │    <span style=\"color: #00af00; text-decoration-color: #00af00\">109,482,240</span> │ padding_mask[<span style=\"color: #00af00; text-decoration-color: #00af00\">0</span>][<span style=\"color: #00af00; text-decoration-color: #00af00\">0</span>],    │\n",
       "│ (<span style=\"color: #0087ff; text-decoration-color: #0087ff\">BertBackbone</span>)            │ <span style=\"color: #00af00; text-decoration-color: #00af00\">128</span>, <span style=\"color: #00af00; text-decoration-color: #00af00\">768</span>)]             │                │ segment_ids[<span style=\"color: #00af00; text-decoration-color: #00af00\">0</span>][<span style=\"color: #00af00; text-decoration-color: #00af00\">0</span>],     │\n",
       "│                           │                        │                │ token_ids[<span style=\"color: #00af00; text-decoration-color: #00af00\">0</span>][<span style=\"color: #00af00; text-decoration-color: #00af00\">0</span>]        │\n",
       "├───────────────────────────┼────────────────────────┼────────────────┼────────────────────────┤\n",
       "│ dense_3 (<span style=\"color: #0087ff; text-decoration-color: #0087ff\">Dense</span>)           │ (<span style=\"color: #00d7ff; text-decoration-color: #00d7ff\">None</span>, <span style=\"color: #00af00; text-decoration-color: #00af00\">64</span>)             │         <span style=\"color: #00af00; text-decoration-color: #00af00\">49,216</span> │ bert_backbone[<span style=\"color: #00af00; text-decoration-color: #00af00\">0</span>][<span style=\"color: #00af00; text-decoration-color: #00af00\">0</span>]    │\n",
       "├───────────────────────────┼────────────────────────┼────────────────┼────────────────────────┤\n",
       "│ dense_4 (<span style=\"color: #0087ff; text-decoration-color: #0087ff\">Dense</span>)           │ (<span style=\"color: #00d7ff; text-decoration-color: #00d7ff\">None</span>, <span style=\"color: #00af00; text-decoration-color: #00af00\">1</span>)              │             <span style=\"color: #00af00; text-decoration-color: #00af00\">65</span> │ dense_3[<span style=\"color: #00af00; text-decoration-color: #00af00\">0</span>][<span style=\"color: #00af00; text-decoration-color: #00af00\">0</span>]          │\n",
       "└───────────────────────────┴────────────────────────┴────────────────┴────────────────────────┘\n",
       "</pre>\n"
      ],
      "text/plain": [
       "┏━━━━━━━━━━━━━━━━━━━━━━━━━━━┳━━━━━━━━━━━━━━━━━━━━━━━━┳━━━━━━━━━━━━━━━━┳━━━━━━━━━━━━━━━━━━━━━━━━┓\n",
       "┃\u001b[1m \u001b[0m\u001b[1mLayer (type)             \u001b[0m\u001b[1m \u001b[0m┃\u001b[1m \u001b[0m\u001b[1mOutput Shape          \u001b[0m\u001b[1m \u001b[0m┃\u001b[1m \u001b[0m\u001b[1m       Param #\u001b[0m\u001b[1m \u001b[0m┃\u001b[1m \u001b[0m\u001b[1mConnected to          \u001b[0m\u001b[1m \u001b[0m┃\n",
       "┡━━━━━━━━━━━━━━━━━━━━━━━━━━━╇━━━━━━━━━━━━━━━━━━━━━━━━╇━━━━━━━━━━━━━━━━╇━━━━━━━━━━━━━━━━━━━━━━━━┩\n",
       "│ padding_mask (\u001b[38;5;33mInputLayer\u001b[0m) │ (\u001b[38;5;45mNone\u001b[0m, \u001b[38;5;34m128\u001b[0m)            │              \u001b[38;5;34m0\u001b[0m │ -                      │\n",
       "├───────────────────────────┼────────────────────────┼────────────────┼────────────────────────┤\n",
       "│ segment_ids (\u001b[38;5;33mInputLayer\u001b[0m)  │ (\u001b[38;5;45mNone\u001b[0m, \u001b[38;5;34m128\u001b[0m)            │              \u001b[38;5;34m0\u001b[0m │ -                      │\n",
       "├───────────────────────────┼────────────────────────┼────────────────┼────────────────────────┤\n",
       "│ token_ids (\u001b[38;5;33mInputLayer\u001b[0m)    │ (\u001b[38;5;45mNone\u001b[0m, \u001b[38;5;34m128\u001b[0m)            │              \u001b[38;5;34m0\u001b[0m │ -                      │\n",
       "├───────────────────────────┼────────────────────────┼────────────────┼────────────────────────┤\n",
       "│ bert_backbone             │ [(\u001b[38;5;45mNone\u001b[0m, \u001b[38;5;34m768\u001b[0m), (\u001b[38;5;45mNone\u001b[0m,   │    \u001b[38;5;34m109,482,240\u001b[0m │ padding_mask[\u001b[38;5;34m0\u001b[0m][\u001b[38;5;34m0\u001b[0m],    │\n",
       "│ (\u001b[38;5;33mBertBackbone\u001b[0m)            │ \u001b[38;5;34m128\u001b[0m, \u001b[38;5;34m768\u001b[0m)]             │                │ segment_ids[\u001b[38;5;34m0\u001b[0m][\u001b[38;5;34m0\u001b[0m],     │\n",
       "│                           │                        │                │ token_ids[\u001b[38;5;34m0\u001b[0m][\u001b[38;5;34m0\u001b[0m]        │\n",
       "├───────────────────────────┼────────────────────────┼────────────────┼────────────────────────┤\n",
       "│ dense_3 (\u001b[38;5;33mDense\u001b[0m)           │ (\u001b[38;5;45mNone\u001b[0m, \u001b[38;5;34m64\u001b[0m)             │         \u001b[38;5;34m49,216\u001b[0m │ bert_backbone[\u001b[38;5;34m0\u001b[0m][\u001b[38;5;34m0\u001b[0m]    │\n",
       "├───────────────────────────┼────────────────────────┼────────────────┼────────────────────────┤\n",
       "│ dense_4 (\u001b[38;5;33mDense\u001b[0m)           │ (\u001b[38;5;45mNone\u001b[0m, \u001b[38;5;34m1\u001b[0m)              │             \u001b[38;5;34m65\u001b[0m │ dense_3[\u001b[38;5;34m0\u001b[0m][\u001b[38;5;34m0\u001b[0m]          │\n",
       "└───────────────────────────┴────────────────────────┴────────────────┴────────────────────────┘\n"
      ]
     },
     "metadata": {},
     "output_type": "display_data"
    },
    {
     "data": {
      "text/html": [
       "<pre style=\"white-space:pre;overflow-x:auto;line-height:normal;font-family:Menlo,'DejaVu Sans Mono',consolas,'Courier New',monospace\"><span style=\"font-weight: bold\"> Total params: </span><span style=\"color: #00af00; text-decoration-color: #00af00\">109,531,521</span> (417.83 MB)\n",
       "</pre>\n"
      ],
      "text/plain": [
       "\u001b[1m Total params: \u001b[0m\u001b[38;5;34m109,531,521\u001b[0m (417.83 MB)\n"
      ]
     },
     "metadata": {},
     "output_type": "display_data"
    },
    {
     "data": {
      "text/html": [
       "<pre style=\"white-space:pre;overflow-x:auto;line-height:normal;font-family:Menlo,'DejaVu Sans Mono',consolas,'Courier New',monospace\"><span style=\"font-weight: bold\"> Trainable params: </span><span style=\"color: #00af00; text-decoration-color: #00af00\">109,531,521</span> (417.83 MB)\n",
       "</pre>\n"
      ],
      "text/plain": [
       "\u001b[1m Trainable params: \u001b[0m\u001b[38;5;34m109,531,521\u001b[0m (417.83 MB)\n"
      ]
     },
     "metadata": {},
     "output_type": "display_data"
    },
    {
     "data": {
      "text/html": [
       "<pre style=\"white-space:pre;overflow-x:auto;line-height:normal;font-family:Menlo,'DejaVu Sans Mono',consolas,'Courier New',monospace\"><span style=\"font-weight: bold\"> Non-trainable params: </span><span style=\"color: #00af00; text-decoration-color: #00af00\">0</span> (0.00 B)\n",
       "</pre>\n"
      ],
      "text/plain": [
       "\u001b[1m Non-trainable params: \u001b[0m\u001b[38;5;34m0\u001b[0m (0.00 B)\n"
      ]
     },
     "metadata": {},
     "output_type": "display_data"
    }
   ],
   "source": [
    "model.summary()"
   ]
  },
  {
   "cell_type": "code",
   "execution_count": 33,
   "id": "b3918fb4",
   "metadata": {
    "execution": {
     "iopub.execute_input": "2025-05-25T16:21:26.958142Z",
     "iopub.status.busy": "2025-05-25T16:21:26.957921Z",
     "iopub.status.idle": "2025-05-25T17:18:11.190728Z",
     "shell.execute_reply": "2025-05-25T17:18:11.190105Z"
    },
    "papermill": {
     "duration": 3404.293121,
     "end_time": "2025-05-25T17:18:11.191900",
     "exception": false,
     "start_time": "2025-05-25T16:21:26.898779",
     "status": "completed"
    },
    "tags": []
   },
   "outputs": [
    {
     "name": "stdout",
     "output_type": "stream",
     "text": [
      "Epoch 1/20\n"
     ]
    },
    {
     "name": "stderr",
     "output_type": "stream",
     "text": [
      "WARNING: All log messages before absl::InitializeLog() is called are written to STDERR\n",
      "I0000 00:00:1748190133.885170      63 service.cc:148] XLA service 0x793f705d59a0 initialized for platform CUDA (this does not guarantee that XLA will be used). Devices:\n",
      "I0000 00:00:1748190133.886369      63 service.cc:156]   StreamExecutor device (0): Tesla T4, Compute Capability 7.5\n",
      "I0000 00:00:1748190133.886390      63 service.cc:156]   StreamExecutor device (1): Tesla T4, Compute Capability 7.5\n",
      "I0000 00:00:1748190164.371857      63 device_compiler.h:188] Compiled cluster using XLA!  This line is logged at most once for the lifetime of the process.\n"
     ]
    },
    {
     "name": "stdout",
     "output_type": "stream",
     "text": [
      "\u001b[1m191/191\u001b[0m \u001b[32m━━━━━━━━━━━━━━━━━━━━\u001b[0m\u001b[37m\u001b[0m \u001b[1m259s\u001b[0m 948ms/step - accuracy: 0.7760 - loss: 0.4950\n",
      "Epoch 2/20\n",
      "\u001b[1m191/191\u001b[0m \u001b[32m━━━━━━━━━━━━━━━━━━━━\u001b[0m\u001b[37m\u001b[0m \u001b[1m158s\u001b[0m 826ms/step - accuracy: 0.8703 - loss: 0.3251\n",
      "Epoch 3/20\n",
      "\u001b[1m191/191\u001b[0m \u001b[32m━━━━━━━━━━━━━━━━━━━━\u001b[0m\u001b[37m\u001b[0m \u001b[1m173s\u001b[0m 906ms/step - accuracy: 0.9143 - loss: 0.2362\n",
      "Epoch 4/20\n",
      "\u001b[1m191/191\u001b[0m \u001b[32m━━━━━━━━━━━━━━━━━━━━\u001b[0m\u001b[37m\u001b[0m \u001b[1m171s\u001b[0m 895ms/step - accuracy: 0.9326 - loss: 0.1870\n",
      "Epoch 5/20\n",
      "\u001b[1m191/191\u001b[0m \u001b[32m━━━━━━━━━━━━━━━━━━━━\u001b[0m\u001b[37m\u001b[0m \u001b[1m159s\u001b[0m 834ms/step - accuracy: 0.9525 - loss: 0.1283\n",
      "Epoch 6/20\n",
      "\u001b[1m191/191\u001b[0m \u001b[32m━━━━━━━━━━━━━━━━━━━━\u001b[0m\u001b[37m\u001b[0m \u001b[1m157s\u001b[0m 822ms/step - accuracy: 0.9566 - loss: 0.1010\n",
      "Epoch 7/20\n",
      "\u001b[1m191/191\u001b[0m \u001b[32m━━━━━━━━━━━━━━━━━━━━\u001b[0m\u001b[37m\u001b[0m \u001b[1m156s\u001b[0m 819ms/step - accuracy: 0.9722 - loss: 0.0677\n",
      "Epoch 8/20\n",
      "\u001b[1m191/191\u001b[0m \u001b[32m━━━━━━━━━━━━━━━━━━━━\u001b[0m\u001b[37m\u001b[0m \u001b[1m156s\u001b[0m 819ms/step - accuracy: 0.9786 - loss: 0.0597\n",
      "Epoch 9/20\n",
      "\u001b[1m191/191\u001b[0m \u001b[32m━━━━━━━━━━━━━━━━━━━━\u001b[0m\u001b[37m\u001b[0m \u001b[1m157s\u001b[0m 820ms/step - accuracy: 0.9816 - loss: 0.0425\n",
      "Epoch 10/20\n",
      "\u001b[1m191/191\u001b[0m \u001b[32m━━━━━━━━━━━━━━━━━━━━\u001b[0m\u001b[37m\u001b[0m \u001b[1m161s\u001b[0m 845ms/step - accuracy: 0.9792 - loss: 0.0428\n",
      "Epoch 11/20\n",
      "\u001b[1m191/191\u001b[0m \u001b[32m━━━━━━━━━━━━━━━━━━━━\u001b[0m\u001b[37m\u001b[0m \u001b[1m173s\u001b[0m 905ms/step - accuracy: 0.9812 - loss: 0.0426\n",
      "Epoch 12/20\n",
      "\u001b[1m191/191\u001b[0m \u001b[32m━━━━━━━━━━━━━━━━━━━━\u001b[0m\u001b[37m\u001b[0m \u001b[1m173s\u001b[0m 908ms/step - accuracy: 0.9820 - loss: 0.0462\n",
      "Epoch 13/20\n",
      "\u001b[1m191/191\u001b[0m \u001b[32m━━━━━━━━━━━━━━━━━━━━\u001b[0m\u001b[37m\u001b[0m \u001b[1m170s\u001b[0m 889ms/step - accuracy: 0.9776 - loss: 0.0519\n",
      "Epoch 14/20\n",
      "\u001b[1m191/191\u001b[0m \u001b[32m━━━━━━━━━━━━━━━━━━━━\u001b[0m\u001b[37m\u001b[0m \u001b[1m165s\u001b[0m 862ms/step - accuracy: 0.9785 - loss: 0.0461\n",
      "Epoch 15/20\n",
      "\u001b[1m191/191\u001b[0m \u001b[32m━━━━━━━━━━━━━━━━━━━━\u001b[0m\u001b[37m\u001b[0m \u001b[1m158s\u001b[0m 826ms/step - accuracy: 0.9805 - loss: 0.0515\n",
      "Epoch 16/20\n",
      "\u001b[1m191/191\u001b[0m \u001b[32m━━━━━━━━━━━━━━━━━━━━\u001b[0m\u001b[37m\u001b[0m \u001b[1m165s\u001b[0m 866ms/step - accuracy: 0.9840 - loss: 0.0317\n",
      "Epoch 17/20\n",
      "\u001b[1m191/191\u001b[0m \u001b[32m━━━━━━━━━━━━━━━━━━━━\u001b[0m\u001b[37m\u001b[0m \u001b[1m173s\u001b[0m 906ms/step - accuracy: 0.9854 - loss: 0.0283\n",
      "Epoch 18/20\n",
      "\u001b[1m191/191\u001b[0m \u001b[32m━━━━━━━━━━━━━━━━━━━━\u001b[0m\u001b[37m\u001b[0m \u001b[1m173s\u001b[0m 908ms/step - accuracy: 0.9871 - loss: 0.0318\n",
      "Epoch 19/20\n",
      "\u001b[1m191/191\u001b[0m \u001b[32m━━━━━━━━━━━━━━━━━━━━\u001b[0m\u001b[37m\u001b[0m \u001b[1m173s\u001b[0m 906ms/step - accuracy: 0.9860 - loss: 0.0345\n",
      "Epoch 20/20\n",
      "\u001b[1m191/191\u001b[0m \u001b[32m━━━━━━━━━━━━━━━━━━━━\u001b[0m\u001b[37m\u001b[0m \u001b[1m173s\u001b[0m 908ms/step - accuracy: 0.9859 - loss: 0.0275\n"
     ]
    }
   ],
   "source": [
    "# 4. Training the Model\n",
    "history = model.fit(\n",
    "    dataset,\n",
    "    epochs=20\n",
    "    #validation_data=test_dataset\n",
    ")"
   ]
  },
  {
   "cell_type": "code",
   "execution_count": 34,
   "id": "073e280c",
   "metadata": {
    "execution": {
     "iopub.execute_input": "2025-05-25T17:18:11.626355Z",
     "iopub.status.busy": "2025-05-25T17:18:11.625782Z",
     "iopub.status.idle": "2025-05-25T17:18:11.630308Z",
     "shell.execute_reply": "2025-05-25T17:18:11.629562Z"
    },
    "papermill": {
     "duration": 0.220447,
     "end_time": "2025-05-25T17:18:11.631352",
     "exception": false,
     "start_time": "2025-05-25T17:18:11.410905",
     "status": "completed"
    },
    "tags": []
   },
   "outputs": [],
   "source": [
    "def predict(text):\n",
    "    preprocessed = preprocessor(text)\n",
    "    return model.predict({\n",
    "        \"token_ids\": tf.expand_dims(preprocessed[\"token_ids\"], 0),\n",
    "        \"segment_ids\": tf.expand_dims(preprocessed[\"segment_ids\"], 0), \n",
    "        \"padding_mask\": tf.expand_dims(preprocessed[\"padding_mask\"], 0)\n",
    "    }\n",
    "                         ,verbose=0)[0][0]"
   ]
  },
  {
   "cell_type": "code",
   "execution_count": 35,
   "id": "541cf3dc",
   "metadata": {
    "execution": {
     "iopub.execute_input": "2025-05-25T17:18:12.066051Z",
     "iopub.status.busy": "2025-05-25T17:18:12.065440Z",
     "iopub.status.idle": "2025-05-25T17:21:26.513712Z",
     "shell.execute_reply": "2025-05-25T17:21:26.513140Z"
    },
    "papermill": {
     "duration": 194.670122,
     "end_time": "2025-05-25T17:21:26.515079",
     "exception": false,
     "start_time": "2025-05-25T17:18:11.844957",
     "status": "completed"
    },
    "tags": []
   },
   "outputs": [],
   "source": [
    "y_pred = [predict(t) for t in X_test]"
   ]
  },
  {
   "cell_type": "code",
   "execution_count": 36,
   "id": "c48c113b",
   "metadata": {
    "execution": {
     "iopub.execute_input": "2025-05-25T17:21:27.005606Z",
     "iopub.status.busy": "2025-05-25T17:21:27.005031Z",
     "iopub.status.idle": "2025-05-25T17:21:27.010520Z",
     "shell.execute_reply": "2025-05-25T17:21:27.009820Z"
    },
    "papermill": {
     "duration": 0.277141,
     "end_time": "2025-05-25T17:21:27.011543",
     "exception": false,
     "start_time": "2025-05-25T17:21:26.734402",
     "status": "completed"
    },
    "tags": []
   },
   "outputs": [
    {
     "data": {
      "text/plain": [
       "array([8.6641945e-03, 6.6525608e-05, 9.9996257e-01, ..., 9.9994349e-01,\n",
       "       9.9997926e-01, 9.7307712e-01], dtype=float32)"
      ]
     },
     "execution_count": 36,
     "metadata": {},
     "output_type": "execute_result"
    }
   ],
   "source": [
    "np.array(y_pred) "
   ]
  },
  {
   "cell_type": "code",
   "execution_count": 37,
   "id": "af3ccde5",
   "metadata": {
    "execution": {
     "iopub.execute_input": "2025-05-25T17:21:27.446502Z",
     "iopub.status.busy": "2025-05-25T17:21:27.445784Z",
     "iopub.status.idle": "2025-05-25T17:21:27.598562Z",
     "shell.execute_reply": "2025-05-25T17:21:27.597734Z"
    },
    "papermill": {
     "duration": 0.371226,
     "end_time": "2025-05-25T17:21:27.599749",
     "exception": false,
     "start_time": "2025-05-25T17:21:27.228523",
     "status": "completed"
    },
    "tags": []
   },
   "outputs": [
    {
     "name": "stdout",
     "output_type": "stream",
     "text": [
      "╔══════════════════════════════╗\n",
      "║        BERT EMBEDDING        ║\n",
      "╠══════════════════════════════╣\n",
      "║ F1 Score:       0.7776        ║\n",
      "║ Precision:      0.7964        ║\n",
      "║ Recall:         0.7596        ║\n",
      "╚══════════════════════════════╝\n",
      "\n"
     ]
    },
    {
     "data": {
      "image/png": "[encoded data removed]",
      "text/plain": [
       "<Figure size 600x500 with 2 Axes>"
      ]
     },
     "metadata": {},
     "output_type": "display_data"
    }
   ],
   "source": [
    "y_pred_thresh = (np.array(y_pred)  > 0.72).astype(int)\n",
    "metrics = evaluate_model(y_test, y_pred_thresh, \"Bert Embedding\")"
   ]
  },
  {
   "cell_type": "code",
   "execution_count": 38,
   "id": "2ff9e019",
   "metadata": {
    "execution": {
     "iopub.execute_input": "2025-05-25T17:21:28.061228Z",
     "iopub.status.busy": "2025-05-25T17:21:28.060465Z",
     "iopub.status.idle": "2025-05-25T17:21:28.065922Z",
     "shell.execute_reply": "2025-05-25T17:21:28.065233Z"
    },
    "papermill": {
     "duration": 0.244984,
     "end_time": "2025-05-25T17:21:28.067050",
     "exception": false,
     "start_time": "2025-05-25T17:21:27.822066",
     "status": "completed"
    },
    "tags": []
   },
   "outputs": [],
   "source": [
    "def create_kaggle_submission(\n",
    "    pipeline,  # Your sklearn Pipeline (includes preprocessor + model)\n",
    "    test_data,  # test data\n",
    "    sample_sub,  # Kaggle's sample submission\n",
    "    output_file=\"submission.csv\",  # Output filename\n",
    "    id_column=\"id\",  # Name of ID column (e.g., 'PassengerId', 'Id')\n",
    "    target_column=\"target\"  # Name of target column (e.g., 'Survived')\n",
    "):\n",
    "    \"\"\"\n",
    "    Creates a Kaggle submission file using a pre-fitted sklearn Pipeline.\n",
    "    \n",
    "    Args:\n",
    "        pipeline: Fitted sklearn Pipeline (preprocessor + model).\n",
    "        test_file_path (str): Path to test data CSV.\n",
    "        sample_submission_path (str): Path to sample submission CSV.\n",
    "        output_file (str): Output submission filename.\n",
    "        id_column (str): Name of the ID column in test data.\n",
    "        target_column (str): Name of the target column in sample submission.\n",
    "    \"\"\"\n",
    "\n",
    "    \n",
    "    ids = test_data[id_column]\n",
    "    \n",
    "    if id_column in test_data.columns:\n",
    "        test_features = test_data.drop(columns=[id_column])\n",
    "    else:\n",
    "        test_features = test_data\n",
    "    \n",
    "    predictions = predict(test_features)\n",
    "    \n",
    "    \n",
    "    sample_sub[target_column] = predictions\n",
    "\n",
    "    \n",
    "    # Save to CSV\n",
    "    sample_sub.to_csv(output_file, index=False)\n",
    "    print(f\"✅ Submission file saved as '{output_file}'\")\n",
    "    print(f\"📊 Sample submission head:\\n{sample_sub.head()}\")"
   ]
  },
  {
   "cell_type": "code",
   "execution_count": null,
   "id": "9cdeef99",
   "metadata": {
    "papermill": {
     "duration": 0.217839,
     "end_time": "2025-05-25T17:21:28.501945",
     "exception": false,
     "start_time": "2025-05-25T17:21:28.284106",
     "status": "completed"
    },
    "tags": []
   },
   "outputs": [],
   "source": []
  },
  {
   "cell_type": "code",
   "execution_count": null,
   "id": "be67e3ae",
   "metadata": {
    "papermill": {
     "duration": 0.269784,
     "end_time": "2025-05-25T17:21:28.987680",
     "exception": false,
     "start_time": "2025-05-25T17:21:28.717896",
     "status": "completed"
    },
    "tags": []
   },
   "outputs": [],
   "source": []
  },
  {
   "cell_type": "code",
   "execution_count": null,
   "id": "7d2b569f",
   "metadata": {
    "papermill": {
     "duration": 0.215657,
     "end_time": "2025-05-25T17:21:29.420372",
     "exception": false,
     "start_time": "2025-05-25T17:21:29.204715",
     "status": "completed"
    },
    "tags": []
   },
   "outputs": [],
   "source": []
  }
 ],
 "metadata": {
  "kaggle": {
   "accelerator": "nvidiaTeslaT4",
   "dataSources": [
    {
     "databundleVersionId": 869809,
     "sourceId": 17777,
     "sourceType": "competition"
    },
    {
     "modelId": 244,
     "modelInstanceId": 2180,
     "sourceId": 2938,
     "sourceType": "modelInstanceVersion"
    },
    {
     "modelId": 293,
     "modelInstanceId": 2418,
     "sourceId": 3262,
     "sourceType": "modelInstanceVersion"
    },
    {
     "modelId": 2819,
     "modelInstanceId": 4678,
     "sourceId": 6057,
     "sourceType": "modelInstanceVersion"
    }
   ],
   "dockerImageVersionId": 31040,
   "isGpuEnabled": true,
   "isInternetEnabled": true,
   "language": "python",
   "sourceType": "notebook"
  },
  "kernelspec": {
   "display_name": "Python 3",
   "language": "python",
   "name": "python3"
  },
  "language_info": {
   "codemirror_mode": {
    "name": "ipython",
    "version": 3
   },
   "file_extension": ".py",
   "mimetype": "text/x-python",
   "name": "python",
   "nbconvert_exporter": "python",
   "pygments_lexer": "ipython3",
   "version": "3.11.11"
  },
  "papermill": {
   "default_parameters": {},
   "duration": 3941.084036,
   "end_time": "2025-05-25T17:21:33.614940",
   "environment_variables": {},
   "exception": null,
   "input_path": "__notebook__.ipynb",
   "output_path": "__notebook__.ipynb",
   "parameters": {},
   "start_time": "2025-05-25T16:15:52.530904",
   "version": "2.6.0"
  }
 },
 "nbformat": 4,
 "nbformat_minor": 5
}
