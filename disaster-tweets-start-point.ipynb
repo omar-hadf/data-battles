{
 "cells": [
  {
   "cell_type": "code",
   "execution_count": 1,
   "id": "3cfe8216",
   "metadata": {
    "_cell_guid": "b1076dfc-b9ad-4769-8c92-a6c4dae69d19",
    "_uuid": "8f2839f25d086af736a60e9eeb907d3b93b6e0e5",
    "execution": {
     "iopub.execute_input": "2025-05-26T11:23:25.287973Z",
     "iopub.status.busy": "2025-05-26T11:23:25.287284Z",
     "iopub.status.idle": "2025-05-26T11:23:26.930309Z",
     "shell.execute_reply": "2025-05-26T11:23:26.929354Z"
    },
    "papermill": {
     "duration": 1.653348,
     "end_time": "2025-05-26T11:23:26.931657",
     "exception": false,
     "start_time": "2025-05-26T11:23:25.278309",
     "status": "completed"
    },
    "tags": []
   },
   "outputs": [
    {
     "name": "stdout",
     "output_type": "stream",
     "text": [
      "/kaggle/input/nlp-getting-started/sample_submission.csv\n",
      "/kaggle/input/nlp-getting-started/train.csv\n",
      "/kaggle/input/nlp-getting-started/test.csv\n",
      "/kaggle/input/bert/tensorflow2/en-uncased-preprocess/3/saved_model.pb\n",
      "/kaggle/input/bert/tensorflow2/en-uncased-preprocess/3/keras_metadata.pb\n",
      "/kaggle/input/bert/tensorflow2/en-uncased-preprocess/3/assets/vocab.txt\n",
      "/kaggle/input/bert/tensorflow2/en-uncased-preprocess/3/variables/variables.index\n",
      "/kaggle/input/bert/tensorflow2/en-uncased-preprocess/3/variables/variables.data-00000-of-00001\n",
      "/kaggle/input/gnews-swivel/tensorflow2/tf2-preview-20dim/1/saved_model.pb\n",
      "/kaggle/input/gnews-swivel/tensorflow2/tf2-preview-20dim/1/assets/tokens.txt\n",
      "/kaggle/input/gnews-swivel/tensorflow2/tf2-preview-20dim/1/variables/variables.index\n",
      "/kaggle/input/gnews-swivel/tensorflow2/tf2-preview-20dim/1/variables/variables.data-00000-of-00001\n",
      "/kaggle/input/m/keras/bert/keras/bert_base_en_uncased/2/config.json\n",
      "/kaggle/input/m/keras/bert/keras/bert_base_en_uncased/2/tokenizer.json\n",
      "/kaggle/input/m/keras/bert/keras/bert_base_en_uncased/2/metadata.json\n",
      "/kaggle/input/m/keras/bert/keras/bert_base_en_uncased/2/model.weights.h5\n",
      "/kaggle/input/m/keras/bert/keras/bert_base_en_uncased/2/assets/tokenizer/vocabulary.txt\n"
     ]
    }
   ],
   "source": [
    "# This Python 3 environment comes with many helpful analytics libraries installed\n",
    "# It is defined by the kaggle/python Docker image: https://github.com/kaggle/docker-python\n",
    "# For example, here's several helpful packages to load\n",
    "\n",
    "import numpy as np # linear algebra\n",
    "import pandas as pd # data processing, CSV file I/O (e.g. pd.read_csv)\n",
    "\n",
    "# Input data files are available in the read-only \"../input/\" directory\n",
    "# For example, running this (by clicking run or pressing Shift+Enter) will list all files under the input directory\n",
    "\n",
    "import os\n",
    "for dirname, _, filenames in os.walk('/kaggle/input'):\n",
    "    for filename in filenames:\n",
    "        print(os.path.join(dirname, filename))\n",
    "\n",
    "# You can write up to 20GB to the current directory (/kaggle/working/) that gets preserved as output when you create a version using \"Save & Run All\" \n",
    "# You can also write temporary files to /kaggle/temp/, but they won't be saved outside of the current session"
   ]
  },
  {
   "cell_type": "code",
   "execution_count": 2,
   "id": "c2f18571",
   "metadata": {
    "execution": {
     "iopub.execute_input": "2025-05-26T11:23:26.946611Z",
     "iopub.status.busy": "2025-05-26T11:23:26.946234Z",
     "iopub.status.idle": "2025-05-26T11:23:58.868635Z",
     "shell.execute_reply": "2025-05-26T11:23:58.867838Z"
    },
    "papermill": {
     "duration": 31.943558,
     "end_time": "2025-05-26T11:23:58.882415",
     "exception": false,
     "start_time": "2025-05-26T11:23:26.938857",
     "status": "completed"
    },
    "tags": []
   },
   "outputs": [
    {
     "name": "stderr",
     "output_type": "stream",
     "text": [
      "2025-05-26 11:23:30.961041: E external/local_xla/xla/stream_executor/cuda/cuda_fft.cc:477] Unable to register cuFFT factory: Attempting to register factory for plugin cuFFT when one has already been registered\n",
      "WARNING: All log messages before absl::InitializeLog() is called are written to STDERR\n",
      "E0000 00:00:1748258611.195920      19 cuda_dnn.cc:8310] Unable to register cuDNN factory: Attempting to register factory for plugin cuDNN when one has already been registered\n",
      "E0000 00:00:1748258611.268210      19 cuda_blas.cc:1418] Unable to register cuBLAS factory: Attempting to register factory for plugin cuBLAS when one has already been registered\n",
      "[nltk_data] Downloading package punkt to /usr/share/nltk_data...\n",
      "[nltk_data]   Package punkt is already up-to-date!\n"
     ]
    }
   ],
   "source": [
    "import pandas as pd\n",
    "import numpy as np\n",
    "import matplotlib.pyplot as plt\n",
    "import seaborn as sns\n",
    "import datetime\n",
    "from sklearn.model_selection import train_test_split\n",
    "from sklearn.metrics import f1_score, precision_score, recall_score, confusion_matrix, classification_report\n",
    "from sklearn.model_selection import GridSearchCV\n",
    "from sklearn.pipeline import Pipeline\n",
    "from sklearn.ensemble import RandomForestClassifier\n",
    "from sklearn.feature_extraction.text import TfidfVectorizer\n",
    "from sklearn.ensemble import RandomForestClassifier \n",
    "from sklearn.pipeline import make_pipeline\n",
    "from sklearn.utils.class_weight import compute_class_weight\n",
    "import tensorflow as tf\n",
    "import tensorflow_hub as hub\n",
    "import tensorflow_text as text\n",
    "from tensorflow.keras.layers import Embedding, LSTM, Dense, Bidirectional, Conv1D, Dropout\n",
    "from tensorflow.keras.models import Sequential\n",
    "from tensorflow.keras.preprocessing.text import Tokenizer\n",
    "from tensorflow.keras.preprocessing.sequence import pad_sequences\n",
    "from tensorflow.keras.metrics import AUC\n",
    "from tensorflow.keras.optimizers import Adam\n",
    "from tensorflow.keras.losses import binary_crossentropy \n",
    "from tensorflow.keras.callbacks import ModelCheckpoint, EarlyStopping\n",
    "import keras_nlp\n",
    "from transformers import AutoTokenizer, TFBertForSequenceClassification, BertTokenizer\n",
    "from nltk.stem import PorterStemmer, SnowballStemmer\n",
    "from nltk.tokenize import word_tokenize\n",
    "import re\n",
    "import nltk\n",
    "nltk.download('punkt')  \n",
    "\n",
    "\n",
    "import warnings\n",
    "warnings.filterwarnings('ignore')\n",
    "\n",
    "pd.set_option('display.max_colwidth', None)\n",
    "\n"
   ]
  },
  {
   "cell_type": "code",
   "execution_count": 3,
   "id": "e90c21e5",
   "metadata": {
    "execution": {
     "iopub.execute_input": "2025-05-26T11:23:58.903580Z",
     "iopub.status.busy": "2025-05-26T11:23:58.902648Z",
     "iopub.status.idle": "2025-05-26T11:23:58.969427Z",
     "shell.execute_reply": "2025-05-26T11:23:58.968739Z"
    },
    "papermill": {
     "duration": 0.07551,
     "end_time": "2025-05-26T11:23:58.970680",
     "exception": false,
     "start_time": "2025-05-26T11:23:58.895170",
     "status": "completed"
    },
    "tags": []
   },
   "outputs": [],
   "source": [
    "train = pd.read_csv(\"/kaggle/input/nlp-getting-started/train.csv\")\n",
    "test = pd.read_csv(\"/kaggle/input/nlp-getting-started/test.csv\")\n",
    "sample_submission = pd.read_csv(\"/kaggle/input/nlp-getting-started/sample_submission.csv\")"
   ]
  },
  {
   "cell_type": "code",
   "execution_count": 4,
   "id": "39c3bed6",
   "metadata": {
    "execution": {
     "iopub.execute_input": "2025-05-26T11:23:58.986750Z",
     "iopub.status.busy": "2025-05-26T11:23:58.986518Z",
     "iopub.status.idle": "2025-05-26T11:23:59.000126Z",
     "shell.execute_reply": "2025-05-26T11:23:58.999455Z"
    },
    "papermill": {
     "duration": 0.022968,
     "end_time": "2025-05-26T11:23:59.001236",
     "exception": false,
     "start_time": "2025-05-26T11:23:58.978268",
     "status": "completed"
    },
    "tags": []
   },
   "outputs": [],
   "source": [
    "train = train.drop(['id', 'location', 'keyword'], axis=1)"
   ]
  },
  {
   "cell_type": "code",
   "execution_count": 5,
   "id": "d7740024",
   "metadata": {
    "execution": {
     "iopub.execute_input": "2025-05-26T11:23:59.016059Z",
     "iopub.status.busy": "2025-05-26T11:23:59.015387Z",
     "iopub.status.idle": "2025-05-26T11:23:59.037601Z",
     "shell.execute_reply": "2025-05-26T11:23:59.036958Z"
    },
    "papermill": {
     "duration": 0.030787,
     "end_time": "2025-05-26T11:23:59.038646",
     "exception": false,
     "start_time": "2025-05-26T11:23:59.007859",
     "status": "completed"
    },
    "tags": []
   },
   "outputs": [
    {
     "data": {
      "text/html": [
       "<div>\n",
       "<style scoped>\n",
       "    .dataframe tbody tr th:only-of-type {\n",
       "        vertical-align: middle;\n",
       "    }\n",
       "\n",
       "    .dataframe tbody tr th {\n",
       "        vertical-align: top;\n",
       "    }\n",
       "\n",
       "    .dataframe thead th {\n",
       "        text-align: right;\n",
       "    }\n",
       "</style>\n",
       "<table border=\"1\" class=\"dataframe\">\n",
       "  <thead>\n",
       "    <tr style=\"text-align: right;\">\n",
       "      <th></th>\n",
       "      <th>text</th>\n",
       "      <th>target</th>\n",
       "    </tr>\n",
       "  </thead>\n",
       "  <tbody>\n",
       "    <tr>\n",
       "      <th>0</th>\n",
       "      <td>Our Deeds are the Reason of this #earthquake May ALLAH Forgive us all</td>\n",
       "      <td>1</td>\n",
       "    </tr>\n",
       "    <tr>\n",
       "      <th>1</th>\n",
       "      <td>Forest fire near La Ronge Sask. Canada</td>\n",
       "      <td>1</td>\n",
       "    </tr>\n",
       "    <tr>\n",
       "      <th>2</th>\n",
       "      <td>All residents asked to 'shelter in place' are being notified by officers. No other evacuation or shelter in place orders are expected</td>\n",
       "      <td>1</td>\n",
       "    </tr>\n",
       "    <tr>\n",
       "      <th>3</th>\n",
       "      <td>13,000 people receive #wildfires evacuation orders in California</td>\n",
       "      <td>1</td>\n",
       "    </tr>\n",
       "    <tr>\n",
       "      <th>4</th>\n",
       "      <td>Just got sent this photo from Ruby #Alaska as smoke from #wildfires pours into a school</td>\n",
       "      <td>1</td>\n",
       "    </tr>\n",
       "  </tbody>\n",
       "</table>\n",
       "</div>"
      ],
      "text/plain": [
       "                                                                                                                                    text  \\\n",
       "0                                                                  Our Deeds are the Reason of this #earthquake May ALLAH Forgive us all   \n",
       "1                                                                                                 Forest fire near La Ronge Sask. Canada   \n",
       "2  All residents asked to 'shelter in place' are being notified by officers. No other evacuation or shelter in place orders are expected   \n",
       "3                                                                      13,000 people receive #wildfires evacuation orders in California    \n",
       "4                                               Just got sent this photo from Ruby #Alaska as smoke from #wildfires pours into a school    \n",
       "\n",
       "   target  \n",
       "0       1  \n",
       "1       1  \n",
       "2       1  \n",
       "3       1  \n",
       "4       1  "
      ]
     },
     "execution_count": 5,
     "metadata": {},
     "output_type": "execute_result"
    }
   ],
   "source": [
    "train.head()"
   ]
  },
  {
   "cell_type": "code",
   "execution_count": 6,
   "id": "1400a926",
   "metadata": {
    "execution": {
     "iopub.execute_input": "2025-05-26T11:23:59.053770Z",
     "iopub.status.busy": "2025-05-26T11:23:59.053164Z",
     "iopub.status.idle": "2025-05-26T11:23:59.062350Z",
     "shell.execute_reply": "2025-05-26T11:23:59.061657Z"
    },
    "papermill": {
     "duration": 0.018206,
     "end_time": "2025-05-26T11:23:59.063682",
     "exception": false,
     "start_time": "2025-05-26T11:23:59.045476",
     "status": "completed"
    },
    "tags": []
   },
   "outputs": [
    {
     "data": {
      "text/html": [
       "<div>\n",
       "<style scoped>\n",
       "    .dataframe tbody tr th:only-of-type {\n",
       "        vertical-align: middle;\n",
       "    }\n",
       "\n",
       "    .dataframe tbody tr th {\n",
       "        vertical-align: top;\n",
       "    }\n",
       "\n",
       "    .dataframe thead th {\n",
       "        text-align: right;\n",
       "    }\n",
       "</style>\n",
       "<table border=\"1\" class=\"dataframe\">\n",
       "  <thead>\n",
       "    <tr style=\"text-align: right;\">\n",
       "      <th></th>\n",
       "      <th>id</th>\n",
       "      <th>keyword</th>\n",
       "      <th>location</th>\n",
       "      <th>text</th>\n",
       "    </tr>\n",
       "  </thead>\n",
       "  <tbody>\n",
       "    <tr>\n",
       "      <th>0</th>\n",
       "      <td>0</td>\n",
       "      <td>NaN</td>\n",
       "      <td>NaN</td>\n",
       "      <td>Just happened a terrible car crash</td>\n",
       "    </tr>\n",
       "    <tr>\n",
       "      <th>1</th>\n",
       "      <td>2</td>\n",
       "      <td>NaN</td>\n",
       "      <td>NaN</td>\n",
       "      <td>Heard about #earthquake is different cities, stay safe everyone.</td>\n",
       "    </tr>\n",
       "    <tr>\n",
       "      <th>2</th>\n",
       "      <td>3</td>\n",
       "      <td>NaN</td>\n",
       "      <td>NaN</td>\n",
       "      <td>there is a forest fire at spot pond, geese are fleeing across the street, I cannot save them all</td>\n",
       "    </tr>\n",
       "    <tr>\n",
       "      <th>3</th>\n",
       "      <td>9</td>\n",
       "      <td>NaN</td>\n",
       "      <td>NaN</td>\n",
       "      <td>Apocalypse lighting. #Spokane #wildfires</td>\n",
       "    </tr>\n",
       "    <tr>\n",
       "      <th>4</th>\n",
       "      <td>11</td>\n",
       "      <td>NaN</td>\n",
       "      <td>NaN</td>\n",
       "      <td>Typhoon Soudelor kills 28 in China and Taiwan</td>\n",
       "    </tr>\n",
       "  </tbody>\n",
       "</table>\n",
       "</div>"
      ],
      "text/plain": [
       "   id keyword location  \\\n",
       "0   0     NaN      NaN   \n",
       "1   2     NaN      NaN   \n",
       "2   3     NaN      NaN   \n",
       "3   9     NaN      NaN   \n",
       "4  11     NaN      NaN   \n",
       "\n",
       "                                                                                               text  \n",
       "0                                                                Just happened a terrible car crash  \n",
       "1                                  Heard about #earthquake is different cities, stay safe everyone.  \n",
       "2  there is a forest fire at spot pond, geese are fleeing across the street, I cannot save them all  \n",
       "3                                                          Apocalypse lighting. #Spokane #wildfires  \n",
       "4                                                     Typhoon Soudelor kills 28 in China and Taiwan  "
      ]
     },
     "execution_count": 6,
     "metadata": {},
     "output_type": "execute_result"
    }
   ],
   "source": [
    "test.head()"
   ]
  },
  {
   "cell_type": "markdown",
   "id": "758945e2",
   "metadata": {
    "papermill": {
     "duration": 0.006793,
     "end_time": "2025-05-26T11:23:59.084121",
     "exception": false,
     "start_time": "2025-05-26T11:23:59.077328",
     "status": "completed"
    },
    "tags": []
   },
   "source": [
    "# EDA"
   ]
  },
  {
   "cell_type": "code",
   "execution_count": 7,
   "id": "a5369c50",
   "metadata": {
    "execution": {
     "iopub.execute_input": "2025-05-26T11:23:59.098767Z",
     "iopub.status.busy": "2025-05-26T11:23:59.098545Z",
     "iopub.status.idle": "2025-05-26T11:23:59.119366Z",
     "shell.execute_reply": "2025-05-26T11:23:59.118508Z"
    },
    "papermill": {
     "duration": 0.029576,
     "end_time": "2025-05-26T11:23:59.120732",
     "exception": false,
     "start_time": "2025-05-26T11:23:59.091156",
     "status": "completed"
    },
    "tags": []
   },
   "outputs": [
    {
     "name": "stdout",
     "output_type": "stream",
     "text": [
      "<class 'pandas.core.frame.DataFrame'>\n",
      "RangeIndex: 7613 entries, 0 to 7612\n",
      "Data columns (total 2 columns):\n",
      " #   Column  Non-Null Count  Dtype \n",
      "---  ------  --------------  ----- \n",
      " 0   text    7613 non-null   object\n",
      " 1   target  7613 non-null   int64 \n",
      "dtypes: int64(1), object(1)\n",
      "memory usage: 119.1+ KB\n",
      "-------------------------------------------------\n",
      "<class 'pandas.core.frame.DataFrame'>\n",
      "RangeIndex: 3263 entries, 0 to 3262\n",
      "Data columns (total 4 columns):\n",
      " #   Column    Non-Null Count  Dtype \n",
      "---  ------    --------------  ----- \n",
      " 0   id        3263 non-null   int64 \n",
      " 1   keyword   3237 non-null   object\n",
      " 2   location  2158 non-null   object\n",
      " 3   text      3263 non-null   object\n",
      "dtypes: int64(1), object(3)\n",
      "memory usage: 102.1+ KB\n"
     ]
    }
   ],
   "source": [
    "train.info()\n",
    "print('-------------------------------------------------')\n",
    "test.info()"
   ]
  },
  {
   "cell_type": "code",
   "execution_count": 8,
   "id": "2d7eab25",
   "metadata": {
    "execution": {
     "iopub.execute_input": "2025-05-26T11:23:59.148829Z",
     "iopub.status.busy": "2025-05-26T11:23:59.148616Z",
     "iopub.status.idle": "2025-05-26T11:23:59.156836Z",
     "shell.execute_reply": "2025-05-26T11:23:59.155891Z"
    },
    "papermill": {
     "duration": 0.023617,
     "end_time": "2025-05-26T11:23:59.158082",
     "exception": false,
     "start_time": "2025-05-26T11:23:59.134465",
     "status": "completed"
    },
    "tags": []
   },
   "outputs": [
    {
     "name": "stdout",
     "output_type": "stream",
     "text": [
      "text      0.0\n",
      "target    0.0\n",
      "dtype: float64\n",
      "-----------------------------------------\n",
      "location    33.864542\n",
      "keyword      0.796813\n",
      "id           0.000000\n",
      "text         0.000000\n",
      "dtype: float64\n"
     ]
    }
   ],
   "source": [
    "def missing_percentage(df):\n",
    "    print((df.isna().sum().sort_values(ascending=False)/df.shape[0])*100) \n",
    "\n",
    "\n",
    "missing_percentage(train)\n",
    "print('-----------------------------------------')\n",
    "missing_percentage(test)"
   ]
  },
  {
   "cell_type": "code",
   "execution_count": 9,
   "id": "4d235fd3",
   "metadata": {
    "execution": {
     "iopub.execute_input": "2025-05-26T11:23:59.173200Z",
     "iopub.status.busy": "2025-05-26T11:23:59.172559Z",
     "iopub.status.idle": "2025-05-26T11:23:59.328906Z",
     "shell.execute_reply": "2025-05-26T11:23:59.328269Z"
    },
    "papermill": {
     "duration": 0.164987,
     "end_time": "2025-05-26T11:23:59.330048",
     "exception": false,
     "start_time": "2025-05-26T11:23:59.165061",
     "status": "completed"
    },
    "tags": []
   },
   "outputs": [
    {
     "data": {
      "image/png": "[encoded data removed]",
      "text/plain": [
       "<Figure size 1000x600 with 1 Axes>"
      ]
     },
     "metadata": {},
     "output_type": "display_data"
    }
   ],
   "source": [
    "plt.figure(figsize=(10, 6))\n",
    "sns.heatmap(train.isna(), cbar=False, cmap='viridis', yticklabels=False)\n",
    "plt.title(\"NaN Values Heatmap\")\n",
    "plt.show()"
   ]
  },
  {
   "cell_type": "code",
   "execution_count": 10,
   "id": "371a83a3",
   "metadata": {
    "execution": {
     "iopub.execute_input": "2025-05-26T11:23:59.345318Z",
     "iopub.status.busy": "2025-05-26T11:23:59.345124Z",
     "iopub.status.idle": "2025-05-26T11:23:59.438461Z",
     "shell.execute_reply": "2025-05-26T11:23:59.437810Z"
    },
    "papermill": {
     "duration": 0.102187,
     "end_time": "2025-05-26T11:23:59.439577",
     "exception": false,
     "start_time": "2025-05-26T11:23:59.337390",
     "status": "completed"
    },
    "tags": []
   },
   "outputs": [
    {
     "data": {
      "image/png": "[encoded data removed]",
      "text/plain": [
       "<Figure size 1000x600 with 1 Axes>"
      ]
     },
     "metadata": {},
     "output_type": "display_data"
    }
   ],
   "source": [
    "plt.figure(figsize=(10, 6))\n",
    "sns.heatmap(test.isna(), cbar=False, cmap='viridis', yticklabels=False)\n",
    "plt.title(\"NaN Values Heatmap\")\n",
    "plt.show()"
   ]
  },
  {
   "cell_type": "code",
   "execution_count": 11,
   "id": "97651174",
   "metadata": {
    "execution": {
     "iopub.execute_input": "2025-05-26T11:23:59.456263Z",
     "iopub.status.busy": "2025-05-26T11:23:59.455800Z",
     "iopub.status.idle": "2025-05-26T11:23:59.463331Z",
     "shell.execute_reply": "2025-05-26T11:23:59.462780Z"
    },
    "papermill": {
     "duration": 0.016896,
     "end_time": "2025-05-26T11:23:59.464361",
     "exception": false,
     "start_time": "2025-05-26T11:23:59.447465",
     "status": "completed"
    },
    "tags": []
   },
   "outputs": [
    {
     "data": {
      "text/html": [
       "<div>\n",
       "<style scoped>\n",
       "    .dataframe tbody tr th:only-of-type {\n",
       "        vertical-align: middle;\n",
       "    }\n",
       "\n",
       "    .dataframe tbody tr th {\n",
       "        vertical-align: top;\n",
       "    }\n",
       "\n",
       "    .dataframe thead th {\n",
       "        text-align: right;\n",
       "    }\n",
       "</style>\n",
       "<table border=\"1\" class=\"dataframe\">\n",
       "  <thead>\n",
       "    <tr style=\"text-align: right;\">\n",
       "      <th></th>\n",
       "      <th>text</th>\n",
       "      <th>target</th>\n",
       "    </tr>\n",
       "  </thead>\n",
       "  <tbody>\n",
       "    <tr>\n",
       "      <th>0</th>\n",
       "      <td>Our Deeds are the Reason of this #earthquake May ALLAH Forgive us all</td>\n",
       "      <td>1</td>\n",
       "    </tr>\n",
       "    <tr>\n",
       "      <th>1</th>\n",
       "      <td>Forest fire near La Ronge Sask. Canada</td>\n",
       "      <td>1</td>\n",
       "    </tr>\n",
       "    <tr>\n",
       "      <th>2</th>\n",
       "      <td>All residents asked to 'shelter in place' are being notified by officers. No other evacuation or shelter in place orders are expected</td>\n",
       "      <td>1</td>\n",
       "    </tr>\n",
       "    <tr>\n",
       "      <th>3</th>\n",
       "      <td>13,000 people receive #wildfires evacuation orders in California</td>\n",
       "      <td>1</td>\n",
       "    </tr>\n",
       "    <tr>\n",
       "      <th>4</th>\n",
       "      <td>Just got sent this photo from Ruby #Alaska as smoke from #wildfires pours into a school</td>\n",
       "      <td>1</td>\n",
       "    </tr>\n",
       "    <tr>\n",
       "      <th>...</th>\n",
       "      <td>...</td>\n",
       "      <td>...</td>\n",
       "    </tr>\n",
       "    <tr>\n",
       "      <th>7608</th>\n",
       "      <td>Two giant cranes holding a bridge collapse into nearby homes http://t.co/STfMbbZFB5</td>\n",
       "      <td>1</td>\n",
       "    </tr>\n",
       "    <tr>\n",
       "      <th>7609</th>\n",
       "      <td>@aria_ahrary @TheTawniest The out of control wild fires in California even in the Northern part of the state. Very troubling.</td>\n",
       "      <td>1</td>\n",
       "    </tr>\n",
       "    <tr>\n",
       "      <th>7610</th>\n",
       "      <td>M1.94 [01:04 UTC]?5km S of Volcano Hawaii. http://t.co/zDtoyd8EbJ</td>\n",
       "      <td>1</td>\n",
       "    </tr>\n",
       "    <tr>\n",
       "      <th>7611</th>\n",
       "      <td>Police investigating after an e-bike collided with a car in Little Portugal. E-bike rider suffered serious non-life threatening injuries.</td>\n",
       "      <td>1</td>\n",
       "    </tr>\n",
       "    <tr>\n",
       "      <th>7612</th>\n",
       "      <td>The Latest: More Homes Razed by Northern California Wildfire - ABC News http://t.co/YmY4rSkQ3d</td>\n",
       "      <td>1</td>\n",
       "    </tr>\n",
       "  </tbody>\n",
       "</table>\n",
       "<p>7613 rows × 2 columns</p>\n",
       "</div>"
      ],
      "text/plain": [
       "                                                                                                                                           text  \\\n",
       "0                                                                         Our Deeds are the Reason of this #earthquake May ALLAH Forgive us all   \n",
       "1                                                                                                        Forest fire near La Ronge Sask. Canada   \n",
       "2         All residents asked to 'shelter in place' are being notified by officers. No other evacuation or shelter in place orders are expected   \n",
       "3                                                                             13,000 people receive #wildfires evacuation orders in California    \n",
       "4                                                      Just got sent this photo from Ruby #Alaska as smoke from #wildfires pours into a school    \n",
       "...                                                                                                                                         ...   \n",
       "7608                                                        Two giant cranes holding a bridge collapse into nearby homes http://t.co/STfMbbZFB5   \n",
       "7609              @aria_ahrary @TheTawniest The out of control wild fires in California even in the Northern part of the state. Very troubling.   \n",
       "7610                                                                          M1.94 [01:04 UTC]?5km S of Volcano Hawaii. http://t.co/zDtoyd8EbJ   \n",
       "7611  Police investigating after an e-bike collided with a car in Little Portugal. E-bike rider suffered serious non-life threatening injuries.   \n",
       "7612                                             The Latest: More Homes Razed by Northern California Wildfire - ABC News http://t.co/YmY4rSkQ3d   \n",
       "\n",
       "      target  \n",
       "0          1  \n",
       "1          1  \n",
       "2          1  \n",
       "3          1  \n",
       "4          1  \n",
       "...      ...  \n",
       "7608       1  \n",
       "7609       1  \n",
       "7610       1  \n",
       "7611       1  \n",
       "7612       1  \n",
       "\n",
       "[7613 rows x 2 columns]"
      ]
     },
     "execution_count": 11,
     "metadata": {},
     "output_type": "execute_result"
    }
   ],
   "source": [
    "train"
   ]
  },
  {
   "cell_type": "code",
   "execution_count": 12,
   "id": "f5c2c758",
   "metadata": {
    "execution": {
     "iopub.execute_input": "2025-05-26T11:23:59.480310Z",
     "iopub.status.busy": "2025-05-26T11:23:59.480130Z",
     "iopub.status.idle": "2025-05-26T11:23:59.613504Z",
     "shell.execute_reply": "2025-05-26T11:23:59.612895Z"
    },
    "papermill": {
     "duration": 0.142433,
     "end_time": "2025-05-26T11:23:59.614604",
     "exception": false,
     "start_time": "2025-05-26T11:23:59.472171",
     "status": "completed"
    },
    "tags": []
   },
   "outputs": [
    {
     "data": {
      "image/png": "[encoded data removed]",
      "text/plain": [
       "<Figure size 800x600 with 1 Axes>"
      ]
     },
     "metadata": {},
     "output_type": "display_data"
    }
   ],
   "source": [
    "# Calculate percentages\n",
    "value_counts = train['target'].value_counts(normalize=True) * 100\n",
    "\n",
    "# Create figure\n",
    "plt.figure(figsize=(8, 6))\n",
    "ax = sns.barplot(x=value_counts.index, \n",
    "                 y=value_counts.values, \n",
    "                 palette=['#3498db', '#e74c3c'])\n",
    "\n",
    "# Add percentages on top\n",
    "for p in ax.patches:\n",
    "    ax.annotate(f'{p.get_height():.1f}%', \n",
    "                (p.get_x() + p.get_width() / 2., p.get_height()),\n",
    "                ha='center', va='center', \n",
    "                xytext=(0, 10), \n",
    "                textcoords='offset points')\n",
    "\n",
    "# Customize\n",
    "plt.title('Disaster Tweet Distribution', pad=20)\n",
    "plt.xlabel('Category')\n",
    "plt.ylabel('Percentage (%)')\n",
    "plt.xticks([0, 1], ['Non-Disaster', 'Disaster'])\n",
    "#plt.ylim(0, 100)\n",
    "plt.show()"
   ]
  },
  {
   "cell_type": "markdown",
   "id": "746aa2c9",
   "metadata": {
    "papermill": {
     "duration": 0.007793,
     "end_time": "2025-05-26T11:23:59.630421",
     "exception": false,
     "start_time": "2025-05-26T11:23:59.622628",
     "status": "completed"
    },
    "tags": []
   },
   "source": [
    "# Data prep"
   ]
  },
  {
   "cell_type": "code",
   "execution_count": 13,
   "id": "3bf40155",
   "metadata": {
    "execution": {
     "iopub.execute_input": "2025-05-26T11:23:59.646785Z",
     "iopub.status.busy": "2025-05-26T11:23:59.646393Z",
     "iopub.status.idle": "2025-05-26T11:23:59.652072Z",
     "shell.execute_reply": "2025-05-26T11:23:59.651104Z"
    },
    "papermill": {
     "duration": 0.015008,
     "end_time": "2025-05-26T11:23:59.653099",
     "exception": false,
     "start_time": "2025-05-26T11:23:59.638091",
     "status": "completed"
    },
    "tags": []
   },
   "outputs": [
    {
     "name": "stdout",
     "output_type": "stream",
     "text": [
      "                                                                                                                                        text  target\n",
      "                                   Be annihilated for status education mba on behalf of a on easy street careen: eOvm http://t.co/e0pI0c54FF       0\n",
      "                                                                 70th anniversary of Hiroshima atomic bombing marked  http://t.co/1mGvd4x5Oe       1\n",
      "      Terrifying POV footage captures violent landing from inside a passenger jet during a storm in Amsterdam http://t.co/NqXQYI70W4 #travel       1\n",
      "      @montetjwitter11 @nolesfan05 @NutsAndBoltsSP I say concern but not panic. Too many games left. And some games left against each other.       0\n",
      "                                       What tropical storm? #guillermo by hawaiianpaddlesports http://t.co/LgPgAjgomY http://t.co/FKd1mBTB68       1\n",
      "                                     Photo: Sketch I did based on the A Taste of Armageddon episode of #startrek #tos http://t.co/a2e6dcsk88       0\n",
      "                                                                                  @HellFire_eV @JackPERU1 then I do this to one of them ????       0\n",
      "                     Survived another tube strike with the last person at office reaching home. We are getting better at navigating strikes!       0\n",
      "                                                                                           @funkflex yo flex im here https://t.co/2AZxdLCXgA       0\n",
      "                                     EXCLUSIVE: In 179 fatalities involving on-duty NYPD cops in 15 years only 3åÊÛ_ http://t.co/Cn1joMMUGH       1\n",
      "                                             I-77 Mile Marker 31 to 40 South Mooresville  Iredell Vehicle Accident Congestion at 8/6 1:18 PM       1\n",
      "           beforeitsnews : A sinkhole grows in Brooklyn: six-meter crater swallows street Û_ http://t.co/QWo7q1AMh8) http://t.co/esRkmazEq9       1\n",
      "    Experts in France begin examining airplane debris found on Reunion Island: French air accident experts o... http://t.co/YVVPznZmXg #news       1\n",
      "                Emergency Response and Hazardous Chemical Management: Principles and Practices http://t.co/4sSuyhkgRB http://t.co/TDerBtgZ2k       0\n",
      "Obama Keeps 27 Iraqi Christian Asylum Seekers nDetention While Flooding U.S. w/Unscreened Muslims: http://t.co/b4k0R4GgA8 via @DCClothesline       1\n",
      "                                                       Arson suspect linked to 30 fires caught in Northern California http://t.co/EJ2GHNAfHY       1\n",
      "    Obama Declares Disaster for Typhoon-Devastated Saipan: Obama signs disaster declaration for Northern Marians a... http://t.co/9i6CrCRq2m       1\n",
      " I had no issues uploading DEATH TO SMOOCHY or AWAKENINGS clips to @YouTube but for some reason BICENTENNIAL MAN is being a pain in the ass.       0\n",
      "                              @narendramodi @bjpsamvad Hiroshima is now beautiful on the ashes of the old. So could be a terrorist Pakistan.       1\n",
      "                                             LA Times: Refugio oil spill may have been costlier bigger than projected http://t.co/1ct0pUGZ69       1\n"
     ]
    }
   ],
   "source": [
    "print(train.sample(n=20).to_string(index=False))"
   ]
  },
  {
   "cell_type": "markdown",
   "id": "0d980257",
   "metadata": {
    "papermill": {
     "duration": 0.007618,
     "end_time": "2025-05-26T11:23:59.668566",
     "exception": false,
     "start_time": "2025-05-26T11:23:59.660948",
     "status": "completed"
    },
    "tags": []
   },
   "source": [
    "## data processing"
   ]
  },
  {
   "cell_type": "code",
   "execution_count": 14,
   "id": "a1b41952",
   "metadata": {
    "execution": {
     "iopub.execute_input": "2025-05-26T11:23:59.731317Z",
     "iopub.status.busy": "2025-05-26T11:23:59.730732Z",
     "iopub.status.idle": "2025-05-26T11:23:59.735871Z",
     "shell.execute_reply": "2025-05-26T11:23:59.735150Z"
    },
    "papermill": {
     "duration": 0.015194,
     "end_time": "2025-05-26T11:23:59.737049",
     "exception": false,
     "start_time": "2025-05-26T11:23:59.721855",
     "status": "completed"
    },
    "tags": []
   },
   "outputs": [],
   "source": [
    "stemmer = SnowballStemmer('english')\n",
    "\n",
    "def text_preprocess_with_stemming(text):\n",
    "    \"\"\"\n",
    "    Enhanced text preprocessing with stemming for tweet classification.\n",
    "    Handles URLs, hashtags, punctuation, numbers, and applies stemming.\n",
    "    \n",
    "    Args:\n",
    "        text (str): Raw tweet text\n",
    "        \n",
    "    Returns:\n",
    "        str: Processed and stemmed text\n",
    "    \"\"\"\n",
    "    # Step 1: Basic cleaning\n",
    "    text = re.sub(r'http[s]?://\\S+|www\\.\\S+', '', text)  # Remove URLs\n",
    "    text = re.sub(r\"#(\\w+)\", r\"\\1\", text)  # Remove hashtag symbol but keep text\n",
    "    text = re.sub(r'[^\\w\\s]', '', text)  # Remove punctuation (keep underscores)\n",
    "    text = re.sub(r'\\n', ' ', text)  # Replace newlines with spaces\n",
    "    text = re.sub(r'\\d+', '', text)  # Remove numbers\n",
    "    \n",
    "    # Step 2: Case normalization\n",
    "    text = text.lower().strip()\n",
    "    \n",
    "    # Step 3: Tokenization and stemming\n",
    "    tokens = word_tokenize(text)\n",
    "    stemmed_tokens = [stemmer.stem(token) for token in tokens]\n",
    "    \n",
    "    return ' '.join(stemmed_tokens)\n"
   ]
  },
  {
   "cell_type": "code",
   "execution_count": 15,
   "id": "3ea69130",
   "metadata": {
    "execution": {
     "iopub.execute_input": "2025-05-26T11:23:59.754043Z",
     "iopub.status.busy": "2025-05-26T11:23:59.753627Z",
     "iopub.status.idle": "2025-05-26T11:24:01.224619Z",
     "shell.execute_reply": "2025-05-26T11:24:01.223823Z"
    },
    "papermill": {
     "duration": 1.480931,
     "end_time": "2025-05-26T11:24:01.226117",
     "exception": false,
     "start_time": "2025-05-26T11:23:59.745186",
     "status": "completed"
    },
    "tags": []
   },
   "outputs": [],
   "source": [
    "train_df = train.copy()\n",
    "\n",
    "train_df['clean_text'] = train_df['text'].apply(text_preprocess_with_stemming)"
   ]
  },
  {
   "cell_type": "code",
   "execution_count": 16,
   "id": "84145406",
   "metadata": {
    "execution": {
     "iopub.execute_input": "2025-05-26T11:24:01.244612Z",
     "iopub.status.busy": "2025-05-26T11:24:01.244119Z",
     "iopub.status.idle": "2025-05-26T11:24:01.251899Z",
     "shell.execute_reply": "2025-05-26T11:24:01.251081Z"
    },
    "papermill": {
     "duration": 0.017916,
     "end_time": "2025-05-26T11:24:01.253006",
     "exception": false,
     "start_time": "2025-05-26T11:24:01.235090",
     "status": "completed"
    },
    "tags": []
   },
   "outputs": [
    {
     "name": "stdout",
     "output_type": "stream",
     "text": [
      "                                                                                                                       clean_text  \\\n",
      "7364                                                                                          look outsid at the windstorm niiiic   \n",
      "1478                                                          review pixelsmovi not a catastroph nor a funni movi our review here   \n",
      "6106  if there a chanc will get a gander of the sink ship that is tna too cant help but appeas my morbid curios destinationimpact   \n",
      "5351                                                                       cyclist it is pandemonium on the road today drive care   \n",
      "6551                                                               by the grace of god i surviv the am shift and im not that tire   \n",
      "4077                          strong thunderstorm mile north of japton move se at mph larg hail and wind gust up to mph poss arwx   \n",
      "6424                         suicid bomber kill more than a dozen in saudi mosqu saudi arabia have start experienc some terrorist   \n",
      "561                                                                         do your own thing the battl of intern vs extern motiv   \n",
      "3895                                 iamhorsefli hide your kid hide your wife hes on the loos i thought i flatten you with a ball   \n",
      "4555   thehammers_ tonycotte alsowhat if some of the st team player got injuredthen bilic would get slate for play themh cant win   \n",
      "7105                                                      violent forc radio now play acid storm scourgu of the god tunein player   \n",
      "5059                                                                        expert prepper financi collaps natur disast fail grid   \n",
      "214                                                                                                                    annihil ab   \n",
      "735                                                                                     beckyfeigin i def will when it stop bleed   \n",
      "3024                                                            go to a fest bring swim goggl for the dust storm in the circl pit   \n",
      "6142                            there a weird siren go off herei hope hunterston isnt in the process of blow itself to smithereen   \n",
      "798                                                                                          traci blight thank you for follow me   \n",
      "1635                                      organicallyrud rockstar wish mat amp bundi amp mcgwire were stand on it when it collaps   \n",
      "292                                       go look at grizzli peak right now it look like the begin of an dystopian apocalyps movi   \n",
      "6931                                                  the worst voic i can ever hear is the nikki your in troubl voic from my mom   \n",
      "\n",
      "                                                                                                                                              text  \n",
      "7364                                                                                                      *looks outside at the windstorm* niiiice  \n",
      "1478                                        [reviews] #PixelsMovie not a catastrophe nor a funny movie... our review here : http://t.co/lVbUw01YOH  \n",
      "6106    If there's a chance will get a gander of the sinking ship that is #TNA too. Can't help but appease my morbid curiosity. #DestinationIMPACT  \n",
      "5351                                                                               Cyclists it is pandemonium on the roads today. Drive carefully!  \n",
      "6551                                                                           By the grace of GOD I survived the 2am shift and im not that tired.  \n",
      "4077  Strong Thunderstorm 4 Miles North of Japton Moving SE At 25 MPH. Large Hail and Wind Gusts Up to 50 MPH Poss... #arwx http://t.co/TIM8x9bI0f  \n",
      "6424      Suicide Bomber Kills More Than a Dozen in Saudi Mosque: Saudi Arabia have started experiencing some terrorist ... http://t.co/GuAJ2t910b  \n",
      "561                                                       Do Your Own Thing: The Battle of Internal vs External Motivation: http://t.co/w9P3hAuHEi  \n",
      "3895                                     @iamHorsefly hide your kids hide your wife. He's on the loose. I thought I flattened you with a ball ????  \n",
      "4555    @TheHammers_ @tonycottee1986 alsowhat if some of the 1st team players got injured?Then Bilic would get slated for playing themhe can't win  \n",
      "7105                                   Violent Forces Radio: Now Playing Acid Storm - Scourgue Of The Gods\\nTuneIn Player @ http://t.co/XsSgEdSbH4  \n",
      "5059                              Expert Prepper: Financial Collapse Natural Disaster Failed Grid... http://t.co/AVVSOiNO8Z http://t.co/VoYrUxcrIN  \n",
      "214                                                                                                    Annihilated Abs . ?? http://t.co/1xPw292tJe  \n",
      "735                                                                                               @beckyfeigin I defs will when it stops bleeding!  \n",
      "3024                                                                  Going to a fest? Bring swimming goggles for the dust storm in the circle pit  \n",
      "6142                             There's a weird siren going off here...I hope Hunterston isn't in the process of blowing itself to smithereens...  \n",
      "798                                                                                                      Tracy Blight Thank you for following me!!  \n",
      "1635                                @organicallyrude @1ROCKSTAR62 #wish Mattingly &amp; Bundy &amp; McGwire were standing on it when it collapsed!  \n",
      "292                                              GO LOOK AT GRIZZLY PEAK RIGHT NOW... It looks like the beginning of an dystopian apocalypse movie  \n",
      "6931                                                             The worst  voice I can ever hear is the 'Nikki your in trouble' voice from my mom  \n"
     ]
    }
   ],
   "source": [
    "print(train_df[['clean_text', 'text']].sample(n=20))"
   ]
  },
  {
   "cell_type": "code",
   "execution_count": null,
   "id": "4abaed14",
   "metadata": {
    "papermill": {
     "duration": 0.007995,
     "end_time": "2025-05-26T11:24:01.269241",
     "exception": false,
     "start_time": "2025-05-26T11:24:01.261246",
     "status": "completed"
    },
    "tags": []
   },
   "outputs": [],
   "source": []
  },
  {
   "cell_type": "markdown",
   "id": "7a288c36",
   "metadata": {
    "papermill": {
     "duration": 0.007939,
     "end_time": "2025-05-26T11:24:01.285204",
     "exception": false,
     "start_time": "2025-05-26T11:24:01.277265",
     "status": "completed"
    },
    "tags": []
   },
   "source": [
    "# Model training"
   ]
  },
  {
   "cell_type": "code",
   "execution_count": 17,
   "id": "0473c94b",
   "metadata": {
    "execution": {
     "iopub.execute_input": "2025-05-26T11:24:01.302054Z",
     "iopub.status.busy": "2025-05-26T11:24:01.301731Z",
     "iopub.status.idle": "2025-05-26T11:24:01.307356Z",
     "shell.execute_reply": "2025-05-26T11:24:01.306874Z"
    },
    "papermill": {
     "duration": 0.01517,
     "end_time": "2025-05-26T11:24:01.308374",
     "exception": false,
     "start_time": "2025-05-26T11:24:01.293204",
     "status": "completed"
    },
    "tags": []
   },
   "outputs": [],
   "source": [
    "\n",
    "#X = train_df.drop(columns=['target'])\n",
    "X = train_df['clean_text']\n",
    "y = train_df['target']\n",
    "\n",
    "X_train, X_test, y_train, y_test = train_test_split(X, y, test_size=0.2, random_state=42)"
   ]
  },
  {
   "cell_type": "code",
   "execution_count": 18,
   "id": "94483dc1",
   "metadata": {
    "execution": {
     "iopub.execute_input": "2025-05-26T11:24:01.325139Z",
     "iopub.status.busy": "2025-05-26T11:24:01.324951Z",
     "iopub.status.idle": "2025-05-26T11:24:01.330406Z",
     "shell.execute_reply": "2025-05-26T11:24:01.329837Z"
    },
    "papermill": {
     "duration": 0.015108,
     "end_time": "2025-05-26T11:24:01.331426",
     "exception": false,
     "start_time": "2025-05-26T11:24:01.316318",
     "status": "completed"
    },
    "tags": []
   },
   "outputs": [],
   "source": [
    "def evaluate_model(y_true, y_pred, model_name=\"Model\"):\n",
    "    \"\"\"\n",
    "    Evaluate classification model with key metrics and visualizations\n",
    "    \n",
    "    Parameters:\n",
    "    y_true (array): True labels\n",
    "    y_pred (array): Predicted labels\n",
    "    model_name (str): Name for display purposes\n",
    "    \"\"\"\n",
    "    # Calculate metrics\n",
    "    f1 = f1_score(y_true, y_pred)\n",
    "    precision = precision_score(y_true, y_pred)\n",
    "    recall = recall_score(y_true, y_pred)\n",
    "    \n",
    "    # Print metrics\n",
    "    print(f\"╔{'═'*30}╗\")\n",
    "    print(f\"║ {model_name.upper():^28} ║\")\n",
    "    print(f\"╠{'═'*30}╣\")\n",
    "    print(f\"║ {'F1 Score:':<15} {f1:.4f}{'║':>9}\")\n",
    "    print(f\"║ {'Precision:':<15} {precision:.4f}{'║':>9}\")\n",
    "    print(f\"║ {'Recall:':<15} {recall:.4f}{'║':>9}\")\n",
    "    print(f\"╚{'═'*30}╝\\n\")\n",
    "    \n",
    "    # Confusion matrix visualization\n",
    "    cm = confusion_matrix(y_true, y_pred)\n",
    "    plt.figure(figsize=(6, 5))\n",
    "    sns.heatmap(cm, annot=True, fmt='d', cmap='Blues', \n",
    "                xticklabels=['Non-Disaster', 'Disaster'],\n",
    "                yticklabels=['Non-Disaster', 'Disaster'])\n",
    "    plt.title(f'{model_name} Confusion Matrix')\n",
    "    plt.ylabel('True Label')\n",
    "    plt.xlabel('Predicted Label')\n",
    "    plt.show()\n",
    "    \n",
    "    return {'f1': f1, 'precision': precision, 'recall': recall}\n",
    "\n",
    "# Usage example:\n",
    "# y_true = test_df['target']\n",
    "# y_pred = model.predict(X_test)\n",
    "# metrics = evaluate_model(y_true, y_pred, \"Disaster Tweet Classifier\")"
   ]
  },
  {
   "cell_type": "markdown",
   "id": "2280a3c8",
   "metadata": {
    "papermill": {
     "duration": 0.008067,
     "end_time": "2025-05-26T11:24:01.347592",
     "exception": false,
     "start_time": "2025-05-26T11:24:01.339525",
     "status": "completed"
    },
    "tags": []
   },
   "source": [
    "## TF IDF\n",
    "\n",
    "### 1"
   ]
  },
  {
   "cell_type": "code",
   "execution_count": 19,
   "id": "fb443c57",
   "metadata": {
    "execution": {
     "iopub.execute_input": "2025-05-26T11:24:01.364399Z",
     "iopub.status.busy": "2025-05-26T11:24:01.364202Z",
     "iopub.status.idle": "2025-05-26T11:24:12.010367Z",
     "shell.execute_reply": "2025-05-26T11:24:12.009617Z"
    },
    "papermill": {
     "duration": 10.655921,
     "end_time": "2025-05-26T11:24:12.011481",
     "exception": false,
     "start_time": "2025-05-26T11:24:01.355560",
     "status": "completed"
    },
    "tags": []
   },
   "outputs": [
    {
     "data": {
      "text/html": [
       "<style>#sk-container-id-1 {color: black;background-color: white;}#sk-container-id-1 pre{padding: 0;}#sk-container-id-1 div.sk-toggleable {background-color: white;}#sk-container-id-1 label.sk-toggleable__label {cursor: pointer;display: block;width: 100%;margin-bottom: 0;padding: 0.3em;box-sizing: border-box;text-align: center;}#sk-container-id-1 label.sk-toggleable__label-arrow:before {content: \"▸\";float: left;margin-right: 0.25em;color: #696969;}#sk-container-id-1 label.sk-toggleable__label-arrow:hover:before {color: black;}#sk-container-id-1 div.sk-estimator:hover label.sk-toggleable__label-arrow:before {color: black;}#sk-container-id-1 div.sk-toggleable__content {max-height: 0;max-width: 0;overflow: hidden;text-align: left;background-color: #f0f8ff;}#sk-container-id-1 div.sk-toggleable__content pre {margin: 0.2em;color: black;border-radius: 0.25em;background-color: #f0f8ff;}#sk-container-id-1 input.sk-toggleable__control:checked~div.sk-toggleable__content {max-height: 200px;max-width: 100%;overflow: auto;}#sk-container-id-1 input.sk-toggleable__control:checked~label.sk-toggleable__label-arrow:before {content: \"▾\";}#sk-container-id-1 div.sk-estimator input.sk-toggleable__control:checked~label.sk-toggleable__label {background-color: #d4ebff;}#sk-container-id-1 div.sk-label input.sk-toggleable__control:checked~label.sk-toggleable__label {background-color: #d4ebff;}#sk-container-id-1 input.sk-hidden--visually {border: 0;clip: rect(1px 1px 1px 1px);clip: rect(1px, 1px, 1px, 1px);height: 1px;margin: -1px;overflow: hidden;padding: 0;position: absolute;width: 1px;}#sk-container-id-1 div.sk-estimator {font-family: monospace;background-color: #f0f8ff;border: 1px dotted black;border-radius: 0.25em;box-sizing: border-box;margin-bottom: 0.5em;}#sk-container-id-1 div.sk-estimator:hover {background-color: #d4ebff;}#sk-container-id-1 div.sk-parallel-item::after {content: \"\";width: 100%;border-bottom: 1px solid gray;flex-grow: 1;}#sk-container-id-1 div.sk-label:hover label.sk-toggleable__label {background-color: #d4ebff;}#sk-container-id-1 div.sk-serial::before {content: \"\";position: absolute;border-left: 1px solid gray;box-sizing: border-box;top: 0;bottom: 0;left: 50%;z-index: 0;}#sk-container-id-1 div.sk-serial {display: flex;flex-direction: column;align-items: center;background-color: white;padding-right: 0.2em;padding-left: 0.2em;position: relative;}#sk-container-id-1 div.sk-item {position: relative;z-index: 1;}#sk-container-id-1 div.sk-parallel {display: flex;align-items: stretch;justify-content: center;background-color: white;position: relative;}#sk-container-id-1 div.sk-item::before, #sk-container-id-1 div.sk-parallel-item::before {content: \"\";position: absolute;border-left: 1px solid gray;box-sizing: border-box;top: 0;bottom: 0;left: 50%;z-index: -1;}#sk-container-id-1 div.sk-parallel-item {display: flex;flex-direction: column;z-index: 1;position: relative;background-color: white;}#sk-container-id-1 div.sk-parallel-item:first-child::after {align-self: flex-end;width: 50%;}#sk-container-id-1 div.sk-parallel-item:last-child::after {align-self: flex-start;width: 50%;}#sk-container-id-1 div.sk-parallel-item:only-child::after {width: 0;}#sk-container-id-1 div.sk-dashed-wrapped {border: 1px dashed gray;margin: 0 0.4em 0.5em 0.4em;box-sizing: border-box;padding-bottom: 0.4em;background-color: white;}#sk-container-id-1 div.sk-label label {font-family: monospace;font-weight: bold;display: inline-block;line-height: 1.2em;}#sk-container-id-1 div.sk-label-container {text-align: center;}#sk-container-id-1 div.sk-container {/* jupyter's `normalize.less` sets `[hidden] { display: none; }` but bootstrap.min.css set `[hidden] { display: none !important; }` so we also need the `!important` here to be able to override the default hidden behavior on the sphinx rendered scikit-learn.org. See: https://github.com/scikit-learn/scikit-learn/issues/21755 */display: inline-block !important;position: relative;}#sk-container-id-1 div.sk-text-repr-fallback {display: none;}</style><div id=\"sk-container-id-1\" class=\"sk-top-container\"><div class=\"sk-text-repr-fallback\"><pre>Pipeline(steps=[(&#x27;tfidfvectorizer&#x27;,\n",
       "                 TfidfVectorizer(max_df=0.7, max_features=10000,\n",
       "                                 stop_words=&#x27;english&#x27;)),\n",
       "                (&#x27;randomforestclassifier&#x27;,\n",
       "                 RandomForestClassifier(class_weight=&#x27;balanced&#x27;,\n",
       "                                        min_samples_leaf=2,\n",
       "                                        n_estimators=500))])</pre><b>In a Jupyter environment, please rerun this cell to show the HTML representation or trust the notebook. <br />On GitHub, the HTML representation is unable to render, please try loading this page with nbviewer.org.</b></div><div class=\"sk-container\" hidden><div class=\"sk-item sk-dashed-wrapped\"><div class=\"sk-label-container\"><div class=\"sk-label sk-toggleable\"><input class=\"sk-toggleable__control sk-hidden--visually\" id=\"sk-estimator-id-1\" type=\"checkbox\" ><label for=\"sk-estimator-id-1\" class=\"sk-toggleable__label sk-toggleable__label-arrow\">Pipeline</label><div class=\"sk-toggleable__content\"><pre>Pipeline(steps=[(&#x27;tfidfvectorizer&#x27;,\n",
       "                 TfidfVectorizer(max_df=0.7, max_features=10000,\n",
       "                                 stop_words=&#x27;english&#x27;)),\n",
       "                (&#x27;randomforestclassifier&#x27;,\n",
       "                 RandomForestClassifier(class_weight=&#x27;balanced&#x27;,\n",
       "                                        min_samples_leaf=2,\n",
       "                                        n_estimators=500))])</pre></div></div></div><div class=\"sk-serial\"><div class=\"sk-item\"><div class=\"sk-estimator sk-toggleable\"><input class=\"sk-toggleable__control sk-hidden--visually\" id=\"sk-estimator-id-2\" type=\"checkbox\" ><label for=\"sk-estimator-id-2\" class=\"sk-toggleable__label sk-toggleable__label-arrow\">TfidfVectorizer</label><div class=\"sk-toggleable__content\"><pre>TfidfVectorizer(max_df=0.7, max_features=10000, stop_words=&#x27;english&#x27;)</pre></div></div></div><div class=\"sk-item\"><div class=\"sk-estimator sk-toggleable\"><input class=\"sk-toggleable__control sk-hidden--visually\" id=\"sk-estimator-id-3\" type=\"checkbox\" ><label for=\"sk-estimator-id-3\" class=\"sk-toggleable__label sk-toggleable__label-arrow\">RandomForestClassifier</label><div class=\"sk-toggleable__content\"><pre>RandomForestClassifier(class_weight=&#x27;balanced&#x27;, min_samples_leaf=2,\n",
       "                       n_estimators=500)</pre></div></div></div></div></div></div></div>"
      ],
      "text/plain": [
       "Pipeline(steps=[('tfidfvectorizer',\n",
       "                 TfidfVectorizer(max_df=0.7, max_features=10000,\n",
       "                                 stop_words='english')),\n",
       "                ('randomforestclassifier',\n",
       "                 RandomForestClassifier(class_weight='balanced',\n",
       "                                        min_samples_leaf=2,\n",
       "                                        n_estimators=500))])"
      ]
     },
     "execution_count": 19,
     "metadata": {},
     "output_type": "execute_result"
    }
   ],
   "source": [
    "model = make_pipeline(\n",
    "    TfidfVectorizer(stop_words='english', max_df= 0.7, max_features= 10000, min_df= 1, ngram_range= (1, 1), norm= 'l2'),  # Text to numbers\n",
    "    RandomForestClassifier(n_estimators = 500, class_weight='balanced', min_samples_leaf= 2) \n",
    ")\n",
    "\n",
    "# Train (X_train = tweets, y_train = labels)\n",
    "model.fit(X_train, y_train)"
   ]
  },
  {
   "cell_type": "code",
   "execution_count": 20,
   "id": "8bd73b7e",
   "metadata": {
    "execution": {
     "iopub.execute_input": "2025-05-26T11:24:12.029325Z",
     "iopub.status.busy": "2025-05-26T11:24:12.029120Z",
     "iopub.status.idle": "2025-05-26T11:24:14.188259Z",
     "shell.execute_reply": "2025-05-26T11:24:14.187496Z"
    },
    "papermill": {
     "duration": 2.16916,
     "end_time": "2025-05-26T11:24:14.189408",
     "exception": false,
     "start_time": "2025-05-26T11:24:12.020248",
     "status": "completed"
    },
    "tags": []
   },
   "outputs": [
    {
     "name": "stdout",
     "output_type": "stream",
     "text": [
      "╔══════════════════════════════╗\n",
      "║       TRAIN DATA TF-IDF      ║\n",
      "╠══════════════════════════════╣\n",
      "║ F1 Score:       0.8707        ║\n",
      "║ Precision:      0.8695        ║\n",
      "║ Recall:         0.8719        ║\n",
      "╚══════════════════════════════╝\n",
      "\n"
     ]
    },
    {
     "data": {
      "image/png": "[encoded data removed]",
      "text/plain": [
       "<Figure size 600x500 with 2 Axes>"
      ]
     },
     "metadata": {},
     "output_type": "display_data"
    }
   ],
   "source": [
    "y_train_pred = model.predict(X_train)\n",
    "metrics = evaluate_model(y_train, y_train_pred, \" Train DATA TF-IDF\")"
   ]
  },
  {
   "cell_type": "code",
   "execution_count": 21,
   "id": "e27bde24",
   "metadata": {
    "execution": {
     "iopub.execute_input": "2025-05-26T11:24:14.209699Z",
     "iopub.status.busy": "2025-05-26T11:24:14.209493Z",
     "iopub.status.idle": "2025-05-26T11:24:14.847731Z",
     "shell.execute_reply": "2025-05-26T11:24:14.846901Z"
    },
    "papermill": {
     "duration": 0.649576,
     "end_time": "2025-05-26T11:24:14.849011",
     "exception": false,
     "start_time": "2025-05-26T11:24:14.199435",
     "status": "completed"
    },
    "tags": []
   },
   "outputs": [
    {
     "name": "stdout",
     "output_type": "stream",
     "text": [
      "╔══════════════════════════════╗\n",
      "║       TEST DATA TF-IDF       ║\n",
      "╠══════════════════════════════╣\n",
      "║ F1 Score:       0.7396        ║\n",
      "║ Precision:      0.7151        ║\n",
      "║ Recall:         0.7658        ║\n",
      "╚══════════════════════════════╝\n",
      "\n"
     ]
    },
    {
     "data": {
      "image/png": "[encoded data removed]",
      "text/plain": [
       "<Figure size 600x500 with 2 Axes>"
      ]
     },
     "metadata": {},
     "output_type": "display_data"
    }
   ],
   "source": [
    "y_pred = model.predict(X_test)\n",
    "metrics = evaluate_model(y_test, y_pred, \"Test DATA TF-IDF\")"
   ]
  },
  {
   "cell_type": "markdown",
   "id": "f2755590",
   "metadata": {
    "papermill": {
     "duration": 0.009369,
     "end_time": "2025-05-26T11:24:14.869181",
     "exception": false,
     "start_time": "2025-05-26T11:24:14.859812",
     "status": "completed"
    },
    "tags": []
   },
   "source": [
    "### Word Embedding\n"
   ]
  },
  {
   "cell_type": "code",
   "execution_count": 22,
   "id": "1c8eef73",
   "metadata": {
    "execution": {
     "iopub.execute_input": "2025-05-26T11:24:14.888237Z",
     "iopub.status.busy": "2025-05-26T11:24:14.887993Z",
     "iopub.status.idle": "2025-05-26T11:24:15.094554Z",
     "shell.execute_reply": "2025-05-26T11:24:15.093983Z"
    },
    "papermill": {
     "duration": 0.217648,
     "end_time": "2025-05-26T11:24:15.095882",
     "exception": false,
     "start_time": "2025-05-26T11:24:14.878234",
     "status": "completed"
    },
    "tags": []
   },
   "outputs": [],
   "source": [
    "tokenizer = Tokenizer(num_words=10000, oov_token=\"<OOV>\")\n",
    "tokenizer.fit_on_texts(train_df['clean_text'])\n",
    "\n",
    "# Convert text to sequences\n",
    "train_sequences = tokenizer.texts_to_sequences(train_df['clean_text'])\n",
    "X_padded = pad_sequences(train_sequences, maxlen=70, padding='post', truncating='post')\n",
    "\n",
    "\n",
    "y = train_df['target']\n",
    "\n",
    "X_train, X_test, y_train, y_test = train_test_split(X_padded, y, test_size=0.2, random_state=42)"
   ]
  },
  {
   "cell_type": "code",
   "execution_count": 23,
   "id": "0355efd5",
   "metadata": {
    "execution": {
     "iopub.execute_input": "2025-05-26T11:24:15.115799Z",
     "iopub.status.busy": "2025-05-26T11:24:15.115561Z",
     "iopub.status.idle": "2025-05-26T11:24:15.505740Z",
     "shell.execute_reply": "2025-05-26T11:24:15.504981Z"
    },
    "papermill": {
     "duration": 0.401208,
     "end_time": "2025-05-26T11:24:15.506966",
     "exception": false,
     "start_time": "2025-05-26T11:24:15.105758",
     "status": "completed"
    },
    "tags": []
   },
   "outputs": [
    {
     "name": "stderr",
     "output_type": "stream",
     "text": [
      "I0000 00:00:1748258655.437755      19 gpu_device.cc:2022] Created device /job:localhost/replica:0/task:0/device:GPU:0 with 13942 MB memory:  -> device: 0, name: Tesla T4, pci bus id: 0000:00:04.0, compute capability: 7.5\n",
      "I0000 00:00:1748258655.438438      19 gpu_device.cc:2022] Created device /job:localhost/replica:0/task:0/device:GPU:1 with 13942 MB memory:  -> device: 1, name: Tesla T4, pci bus id: 0000:00:05.0, compute capability: 7.5\n"
     ]
    }
   ],
   "source": [
    "model = Sequential([\n",
    "    # Input Layer\n",
    "    Embedding(input_dim=10000, output_dim=128, input_length=30),\n",
    "    # Convolutional Block (Multiple filter sizes)\n",
    "    Conv1D(filters=128, kernel_size=3, activation='relu', padding='same'),\n",
    "    Conv1D(filters=64, kernel_size=5, activation='relu', padding='same'),\n",
    "    # Parallel Bidirectional LSTMs\n",
    "    Bidirectional(LSTM(64, return_sequences=True)),\n",
    "    Bidirectional(LSTM(32)),\n",
    "    # Combined Features\n",
    "    Dense(64, activation='relu'),\n",
    "    Dense(32, activation='relu'),\n",
    "    # Output Layer\n",
    "    Dense(1, activation='sigmoid')\n",
    "])"
   ]
  },
  {
   "cell_type": "code",
   "execution_count": 24,
   "id": "527f90c0",
   "metadata": {
    "execution": {
     "iopub.execute_input": "2025-05-26T11:24:15.527125Z",
     "iopub.status.busy": "2025-05-26T11:24:15.526875Z",
     "iopub.status.idle": "2025-05-26T11:25:31.522538Z",
     "shell.execute_reply": "2025-05-26T11:25:31.521983Z"
    },
    "papermill": {
     "duration": 76.007089,
     "end_time": "2025-05-26T11:25:31.523598",
     "exception": false,
     "start_time": "2025-05-26T11:24:15.516509",
     "status": "completed"
    },
    "tags": []
   },
   "outputs": [
    {
     "name": "stdout",
     "output_type": "stream",
     "text": [
      "Epoch 1/50\n"
     ]
    },
    {
     "name": "stderr",
     "output_type": "stream",
     "text": [
      "I0000 00:00:1748258664.415794      63 cuda_dnn.cc:529] Loaded cuDNN version 90300\n"
     ]
    },
    {
     "name": "stdout",
     "output_type": "stream",
     "text": [
      "\u001b[1m61/61\u001b[0m \u001b[32m━━━━━━━━━━━━━━━━━━━━\u001b[0m\u001b[37m\u001b[0m \u001b[1m14s\u001b[0m 39ms/step - accuracy: 0.5925 - auc: 0.5746 - loss: 0.6644 - val_accuracy: 0.7879 - val_auc: 0.8446 - val_loss: 0.4788\n",
      "Epoch 2/50\n",
      "\u001b[1m61/61\u001b[0m \u001b[32m━━━━━━━━━━━━━━━━━━━━\u001b[0m\u001b[37m\u001b[0m \u001b[1m1s\u001b[0m 22ms/step - accuracy: 0.8524 - auc: 0.9019 - loss: 0.3727 - val_accuracy: 0.7800 - val_auc: 0.8462 - val_loss: 0.4649\n",
      "Epoch 3/50\n",
      "\u001b[1m61/61\u001b[0m \u001b[32m━━━━━━━━━━━━━━━━━━━━\u001b[0m\u001b[37m\u001b[0m \u001b[1m1s\u001b[0m 20ms/step - accuracy: 0.9106 - auc: 0.9550 - loss: 0.2517 - val_accuracy: 0.7820 - val_auc: 0.8451 - val_loss: 0.5468\n",
      "Epoch 4/50\n",
      "\u001b[1m61/61\u001b[0m \u001b[32m━━━━━━━━━━━━━━━━━━━━\u001b[0m\u001b[37m\u001b[0m \u001b[1m1s\u001b[0m 21ms/step - accuracy: 0.9457 - auc: 0.9774 - loss: 0.1675 - val_accuracy: 0.7728 - val_auc: 0.8325 - val_loss: 0.6590\n",
      "Epoch 5/50\n",
      "\u001b[1m61/61\u001b[0m \u001b[32m━━━━━━━━━━━━━━━━━━━━\u001b[0m\u001b[37m\u001b[0m \u001b[1m1s\u001b[0m 20ms/step - accuracy: 0.9583 - auc: 0.9858 - loss: 0.1310 - val_accuracy: 0.7715 - val_auc: 0.8308 - val_loss: 0.6606\n",
      "Epoch 6/50\n",
      "\u001b[1m61/61\u001b[0m \u001b[32m━━━━━━━━━━━━━━━━━━━━\u001b[0m\u001b[37m\u001b[0m \u001b[1m1s\u001b[0m 20ms/step - accuracy: 0.9704 - auc: 0.9910 - loss: 0.0964 - val_accuracy: 0.7794 - val_auc: 0.8214 - val_loss: 0.7655\n",
      "Epoch 7/50\n",
      "\u001b[1m61/61\u001b[0m \u001b[32m━━━━━━━━━━━━━━━━━━━━\u001b[0m\u001b[37m\u001b[0m \u001b[1m1s\u001b[0m 21ms/step - accuracy: 0.9764 - auc: 0.9958 - loss: 0.0718 - val_accuracy: 0.7695 - val_auc: 0.8195 - val_loss: 0.7715\n",
      "Epoch 8/50\n",
      "\u001b[1m61/61\u001b[0m \u001b[32m━━━━━━━━━━━━━━━━━━━━\u001b[0m\u001b[37m\u001b[0m \u001b[1m1s\u001b[0m 20ms/step - accuracy: 0.9774 - auc: 0.9955 - loss: 0.0684 - val_accuracy: 0.7663 - val_auc: 0.8135 - val_loss: 0.9034\n",
      "Epoch 9/50\n",
      "\u001b[1m61/61\u001b[0m \u001b[32m━━━━━━━━━━━━━━━━━━━━\u001b[0m\u001b[37m\u001b[0m \u001b[1m1s\u001b[0m 20ms/step - accuracy: 0.9795 - auc: 0.9973 - loss: 0.0561 - val_accuracy: 0.7649 - val_auc: 0.8141 - val_loss: 0.8929\n",
      "Epoch 10/50\n",
      "\u001b[1m61/61\u001b[0m \u001b[32m━━━━━━━━━━━━━━━━━━━━\u001b[0m\u001b[37m\u001b[0m \u001b[1m1s\u001b[0m 20ms/step - accuracy: 0.9828 - auc: 0.9977 - loss: 0.0504 - val_accuracy: 0.7610 - val_auc: 0.8033 - val_loss: 0.9916\n",
      "Epoch 11/50\n",
      "\u001b[1m61/61\u001b[0m \u001b[32m━━━━━━━━━━━━━━━━━━━━\u001b[0m\u001b[37m\u001b[0m \u001b[1m1s\u001b[0m 20ms/step - accuracy: 0.9781 - auc: 0.9977 - loss: 0.0485 - val_accuracy: 0.7630 - val_auc: 0.8035 - val_loss: 1.0647\n",
      "Epoch 12/50\n",
      "\u001b[1m61/61\u001b[0m \u001b[32m━━━━━━━━━━━━━━━━━━━━\u001b[0m\u001b[37m\u001b[0m \u001b[1m1s\u001b[0m 20ms/step - accuracy: 0.9815 - auc: 0.9991 - loss: 0.0370 - val_accuracy: 0.7603 - val_auc: 0.7957 - val_loss: 1.1412\n",
      "Epoch 13/50\n",
      "\u001b[1m61/61\u001b[0m \u001b[32m━━━━━━━━━━━━━━━━━━━━\u001b[0m\u001b[37m\u001b[0m \u001b[1m1s\u001b[0m 20ms/step - accuracy: 0.9849 - auc: 0.9992 - loss: 0.0336 - val_accuracy: 0.7518 - val_auc: 0.7886 - val_loss: 1.2887\n",
      "Epoch 14/50\n",
      "\u001b[1m61/61\u001b[0m \u001b[32m━━━━━━━━━━━━━━━━━━━━\u001b[0m\u001b[37m\u001b[0m \u001b[1m1s\u001b[0m 20ms/step - accuracy: 0.9814 - auc: 0.9990 - loss: 0.0350 - val_accuracy: 0.7466 - val_auc: 0.7864 - val_loss: 1.5104\n",
      "Epoch 15/50\n",
      "\u001b[1m61/61\u001b[0m \u001b[32m━━━━━━━━━━━━━━━━━━━━\u001b[0m\u001b[37m\u001b[0m \u001b[1m1s\u001b[0m 21ms/step - accuracy: 0.9808 - auc: 0.9984 - loss: 0.0430 - val_accuracy: 0.7571 - val_auc: 0.7962 - val_loss: 1.2003\n",
      "Epoch 16/50\n",
      "\u001b[1m61/61\u001b[0m \u001b[32m━━━━━━━━━━━━━━━━━━━━\u001b[0m\u001b[37m\u001b[0m \u001b[1m1s\u001b[0m 20ms/step - accuracy: 0.9811 - auc: 0.9985 - loss: 0.0421 - val_accuracy: 0.7702 - val_auc: 0.7971 - val_loss: 1.1361\n",
      "Epoch 17/50\n",
      "\u001b[1m61/61\u001b[0m \u001b[32m━━━━━━━━━━━━━━━━━━━━\u001b[0m\u001b[37m\u001b[0m \u001b[1m1s\u001b[0m 20ms/step - accuracy: 0.9824 - auc: 0.9984 - loss: 0.0406 - val_accuracy: 0.7538 - val_auc: 0.7838 - val_loss: 1.3118\n",
      "Epoch 18/50\n",
      "\u001b[1m61/61\u001b[0m \u001b[32m━━━━━━━━━━━━━━━━━━━━\u001b[0m\u001b[37m\u001b[0m \u001b[1m1s\u001b[0m 20ms/step - accuracy: 0.9821 - auc: 0.9981 - loss: 0.0420 - val_accuracy: 0.7610 - val_auc: 0.7892 - val_loss: 1.2929\n",
      "Epoch 19/50\n",
      "\u001b[1m61/61\u001b[0m \u001b[32m━━━━━━━━━━━━━━━━━━━━\u001b[0m\u001b[37m\u001b[0m \u001b[1m1s\u001b[0m 20ms/step - accuracy: 0.9846 - auc: 0.9993 - loss: 0.0310 - val_accuracy: 0.7636 - val_auc: 0.7902 - val_loss: 1.3599\n",
      "Epoch 20/50\n",
      "\u001b[1m61/61\u001b[0m \u001b[32m━━━━━━━━━━━━━━━━━━━━\u001b[0m\u001b[37m\u001b[0m \u001b[1m1s\u001b[0m 20ms/step - accuracy: 0.9855 - auc: 0.9994 - loss: 0.0270 - val_accuracy: 0.7617 - val_auc: 0.7892 - val_loss: 1.3561\n",
      "Epoch 21/50\n",
      "\u001b[1m61/61\u001b[0m \u001b[32m━━━━━━━━━━━━━━━━━━━━\u001b[0m\u001b[37m\u001b[0m \u001b[1m1s\u001b[0m 20ms/step - accuracy: 0.9867 - auc: 0.9994 - loss: 0.0276 - val_accuracy: 0.7617 - val_auc: 0.7943 - val_loss: 1.3541\n",
      "Epoch 22/50\n",
      "\u001b[1m61/61\u001b[0m \u001b[32m━━━━━━━━━━━━━━━━━━━━\u001b[0m\u001b[37m\u001b[0m \u001b[1m1s\u001b[0m 20ms/step - accuracy: 0.9862 - auc: 0.9990 - loss: 0.0286 - val_accuracy: 0.7663 - val_auc: 0.7828 - val_loss: 1.5479\n",
      "Epoch 23/50\n",
      "\u001b[1m61/61\u001b[0m \u001b[32m━━━━━━━━━━━━━━━━━━━━\u001b[0m\u001b[37m\u001b[0m \u001b[1m1s\u001b[0m 20ms/step - accuracy: 0.9881 - auc: 0.9996 - loss: 0.0242 - val_accuracy: 0.7610 - val_auc: 0.7889 - val_loss: 1.4026\n",
      "Epoch 24/50\n",
      "\u001b[1m61/61\u001b[0m \u001b[32m━━━━━━━━━━━━━━━━━━━━\u001b[0m\u001b[37m\u001b[0m \u001b[1m1s\u001b[0m 20ms/step - accuracy: 0.9883 - auc: 0.9996 - loss: 0.0259 - val_accuracy: 0.7689 - val_auc: 0.7908 - val_loss: 1.4661\n",
      "Epoch 25/50\n",
      "\u001b[1m61/61\u001b[0m \u001b[32m━━━━━━━━━━━━━━━━━━━━\u001b[0m\u001b[37m\u001b[0m \u001b[1m1s\u001b[0m 20ms/step - accuracy: 0.9884 - auc: 0.9996 - loss: 0.0235 - val_accuracy: 0.7630 - val_auc: 0.7880 - val_loss: 1.5888\n",
      "Epoch 26/50\n",
      "\u001b[1m61/61\u001b[0m \u001b[32m━━━━━━━━━━━━━━━━━━━━\u001b[0m\u001b[37m\u001b[0m \u001b[1m1s\u001b[0m 20ms/step - accuracy: 0.9880 - auc: 0.9996 - loss: 0.0222 - val_accuracy: 0.7623 - val_auc: 0.7826 - val_loss: 1.4676\n",
      "Epoch 27/50\n",
      "\u001b[1m61/61\u001b[0m \u001b[32m━━━━━━━━━━━━━━━━━━━━\u001b[0m\u001b[37m\u001b[0m \u001b[1m1s\u001b[0m 22ms/step - accuracy: 0.9821 - auc: 0.9992 - loss: 0.0321 - val_accuracy: 0.7584 - val_auc: 0.7765 - val_loss: 1.4564\n",
      "Epoch 28/50\n",
      "\u001b[1m61/61\u001b[0m \u001b[32m━━━━━━━━━━━━━━━━━━━━\u001b[0m\u001b[37m\u001b[0m \u001b[1m1s\u001b[0m 20ms/step - accuracy: 0.9822 - auc: 0.9982 - loss: 0.0419 - val_accuracy: 0.7636 - val_auc: 0.7923 - val_loss: 1.2704\n",
      "Epoch 29/50\n",
      "\u001b[1m61/61\u001b[0m \u001b[32m━━━━━━━━━━━━━━━━━━━━\u001b[0m\u001b[37m\u001b[0m \u001b[1m1s\u001b[0m 20ms/step - accuracy: 0.9867 - auc: 0.9994 - loss: 0.0291 - val_accuracy: 0.7525 - val_auc: 0.7887 - val_loss: 1.3173\n",
      "Epoch 30/50\n",
      "\u001b[1m61/61\u001b[0m \u001b[32m━━━━━━━━━━━━━━━━━━━━\u001b[0m\u001b[37m\u001b[0m \u001b[1m1s\u001b[0m 20ms/step - accuracy: 0.9845 - auc: 0.9995 - loss: 0.0263 - val_accuracy: 0.7571 - val_auc: 0.7855 - val_loss: 1.5401\n",
      "Epoch 31/50\n",
      "\u001b[1m61/61\u001b[0m \u001b[32m━━━━━━━━━━━━━━━━━━━━\u001b[0m\u001b[37m\u001b[0m \u001b[1m1s\u001b[0m 20ms/step - accuracy: 0.9904 - auc: 0.9995 - loss: 0.0231 - val_accuracy: 0.7597 - val_auc: 0.7842 - val_loss: 1.5639\n",
      "Epoch 32/50\n",
      "\u001b[1m61/61\u001b[0m \u001b[32m━━━━━━━━━━━━━━━━━━━━\u001b[0m\u001b[37m\u001b[0m \u001b[1m1s\u001b[0m 20ms/step - accuracy: 0.9872 - auc: 0.9997 - loss: 0.0213 - val_accuracy: 0.7571 - val_auc: 0.7841 - val_loss: 1.6002\n",
      "Epoch 33/50\n",
      "\u001b[1m61/61\u001b[0m \u001b[32m━━━━━━━━━━━━━━━━━━━━\u001b[0m\u001b[37m\u001b[0m \u001b[1m1s\u001b[0m 20ms/step - accuracy: 0.9865 - auc: 0.9995 - loss: 0.0241 - val_accuracy: 0.7597 - val_auc: 0.7830 - val_loss: 1.6511\n",
      "Epoch 34/50\n",
      "\u001b[1m61/61\u001b[0m \u001b[32m━━━━━━━━━━━━━━━━━━━━\u001b[0m\u001b[37m\u001b[0m \u001b[1m1s\u001b[0m 20ms/step - accuracy: 0.9879 - auc: 0.9996 - loss: 0.0231 - val_accuracy: 0.7636 - val_auc: 0.7770 - val_loss: 1.8074\n",
      "Epoch 35/50\n",
      "\u001b[1m61/61\u001b[0m \u001b[32m━━━━━━━━━━━━━━━━━━━━\u001b[0m\u001b[37m\u001b[0m \u001b[1m1s\u001b[0m 20ms/step - accuracy: 0.9863 - auc: 0.9996 - loss: 0.0227 - val_accuracy: 0.7617 - val_auc: 0.7756 - val_loss: 1.7891\n",
      "Epoch 36/50\n",
      "\u001b[1m61/61\u001b[0m \u001b[32m━━━━━━━━━━━━━━━━━━━━\u001b[0m\u001b[37m\u001b[0m \u001b[1m1s\u001b[0m 20ms/step - accuracy: 0.9882 - auc: 0.9996 - loss: 0.0223 - val_accuracy: 0.7557 - val_auc: 0.7758 - val_loss: 1.8237\n",
      "Epoch 37/50\n",
      "\u001b[1m61/61\u001b[0m \u001b[32m━━━━━━━━━━━━━━━━━━━━\u001b[0m\u001b[37m\u001b[0m \u001b[1m1s\u001b[0m 20ms/step - accuracy: 0.9882 - auc: 0.9996 - loss: 0.0214 - val_accuracy: 0.7551 - val_auc: 0.7745 - val_loss: 1.9018\n",
      "Epoch 38/50\n",
      "\u001b[1m61/61\u001b[0m \u001b[32m━━━━━━━━━━━━━━━━━━━━\u001b[0m\u001b[37m\u001b[0m \u001b[1m1s\u001b[0m 21ms/step - accuracy: 0.9875 - auc: 0.9996 - loss: 0.0239 - val_accuracy: 0.7610 - val_auc: 0.7734 - val_loss: 1.8930\n",
      "Epoch 39/50\n",
      "\u001b[1m61/61\u001b[0m \u001b[32m━━━━━━━━━━━━━━━━━━━━\u001b[0m\u001b[37m\u001b[0m \u001b[1m1s\u001b[0m 20ms/step - accuracy: 0.9888 - auc: 0.9997 - loss: 0.0200 - val_accuracy: 0.7597 - val_auc: 0.7778 - val_loss: 1.7621\n",
      "Epoch 40/50\n",
      "\u001b[1m61/61\u001b[0m \u001b[32m━━━━━━━━━━━━━━━━━━━━\u001b[0m\u001b[37m\u001b[0m \u001b[1m1s\u001b[0m 20ms/step - accuracy: 0.9853 - auc: 0.9996 - loss: 0.0225 - val_accuracy: 0.7630 - val_auc: 0.7747 - val_loss: 1.8936\n",
      "Epoch 41/50\n",
      "\u001b[1m61/61\u001b[0m \u001b[32m━━━━━━━━━━━━━━━━━━━━\u001b[0m\u001b[37m\u001b[0m \u001b[1m1s\u001b[0m 20ms/step - accuracy: 0.9873 - auc: 0.9997 - loss: 0.0199 - val_accuracy: 0.7643 - val_auc: 0.7739 - val_loss: 1.9605\n",
      "Epoch 42/50\n",
      "\u001b[1m61/61\u001b[0m \u001b[32m━━━━━━━━━━━━━━━━━━━━\u001b[0m\u001b[37m\u001b[0m \u001b[1m1s\u001b[0m 20ms/step - accuracy: 0.9849 - auc: 0.9996 - loss: 0.0224 - val_accuracy: 0.7557 - val_auc: 0.7745 - val_loss: 1.9403\n",
      "Epoch 43/50\n",
      "\u001b[1m61/61\u001b[0m \u001b[32m━━━━━━━━━━━━━━━━━━━━\u001b[0m\u001b[37m\u001b[0m \u001b[1m1s\u001b[0m 20ms/step - accuracy: 0.9884 - auc: 0.9997 - loss: 0.0209 - val_accuracy: 0.7584 - val_auc: 0.7753 - val_loss: 1.9451\n",
      "Epoch 44/50\n",
      "\u001b[1m61/61\u001b[0m \u001b[32m━━━━━━━━━━━━━━━━━━━━\u001b[0m\u001b[37m\u001b[0m \u001b[1m1s\u001b[0m 20ms/step - accuracy: 0.9865 - auc: 0.9995 - loss: 0.0228 - val_accuracy: 0.7610 - val_auc: 0.7721 - val_loss: 1.9836\n",
      "Epoch 45/50\n",
      "\u001b[1m61/61\u001b[0m \u001b[32m━━━━━━━━━━━━━━━━━━━━\u001b[0m\u001b[37m\u001b[0m \u001b[1m1s\u001b[0m 20ms/step - accuracy: 0.9892 - auc: 0.9997 - loss: 0.0212 - val_accuracy: 0.7505 - val_auc: 0.7722 - val_loss: 2.0382\n",
      "Epoch 46/50\n",
      "\u001b[1m61/61\u001b[0m \u001b[32m━━━━━━━━━━━━━━━━━━━━\u001b[0m\u001b[37m\u001b[0m \u001b[1m1s\u001b[0m 21ms/step - accuracy: 0.9877 - auc: 0.9996 - loss: 0.0219 - val_accuracy: 0.7551 - val_auc: 0.7730 - val_loss: 1.9859\n",
      "Epoch 47/50\n",
      "\u001b[1m61/61\u001b[0m \u001b[32m━━━━━━━━━━━━━━━━━━━━\u001b[0m\u001b[37m\u001b[0m \u001b[1m1s\u001b[0m 20ms/step - accuracy: 0.9893 - auc: 0.9997 - loss: 0.0198 - val_accuracy: 0.7603 - val_auc: 0.7736 - val_loss: 1.9955\n",
      "Epoch 48/50\n",
      "\u001b[1m61/61\u001b[0m \u001b[32m━━━━━━━━━━━━━━━━━━━━\u001b[0m\u001b[37m\u001b[0m \u001b[1m1s\u001b[0m 20ms/step - accuracy: 0.9906 - auc: 0.9997 - loss: 0.0185 - val_accuracy: 0.7498 - val_auc: 0.7717 - val_loss: 2.0588\n",
      "Epoch 49/50\n",
      "\u001b[1m61/61\u001b[0m \u001b[32m━━━━━━━━━━━━━━━━━━━━\u001b[0m\u001b[37m\u001b[0m \u001b[1m1s\u001b[0m 20ms/step - accuracy: 0.9876 - auc: 0.9996 - loss: 0.0207 - val_accuracy: 0.7538 - val_auc: 0.7725 - val_loss: 2.0883\n",
      "Epoch 50/50\n",
      "\u001b[1m61/61\u001b[0m \u001b[32m━━━━━━━━━━━━━━━━━━━━\u001b[0m\u001b[37m\u001b[0m \u001b[1m1s\u001b[0m 20ms/step - accuracy: 0.9885 - auc: 0.9996 - loss: 0.0204 - val_accuracy: 0.7623 - val_auc: 0.7698 - val_loss: 2.1348\n"
     ]
    }
   ],
   "source": [
    "model.compile(\n",
    "    optimizer='adam',\n",
    "    loss='binary_crossentropy', \n",
    "    metrics=['accuracy', AUC(name='auc')]\n",
    ")\n",
    "\n",
    "history = model.fit(\n",
    "    X_train,\n",
    "    y_train,\n",
    "    epochs=50,\n",
    "    validation_data=(X_test, y_test),\n",
    "    batch_size=100\n",
    ")"
   ]
  },
  {
   "cell_type": "code",
   "execution_count": 25,
   "id": "f13aef2c",
   "metadata": {
    "execution": {
     "iopub.execute_input": "2025-05-26T11:25:31.639163Z",
     "iopub.status.busy": "2025-05-26T11:25:31.638549Z",
     "iopub.status.idle": "2025-05-26T11:25:33.762506Z",
     "shell.execute_reply": "2025-05-26T11:25:33.761817Z"
    },
    "papermill": {
     "duration": 2.183826,
     "end_time": "2025-05-26T11:25:33.764205",
     "exception": false,
     "start_time": "2025-05-26T11:25:31.580379",
     "status": "completed"
    },
    "tags": []
   },
   "outputs": [
    {
     "name": "stdout",
     "output_type": "stream",
     "text": [
      "\u001b[1m48/48\u001b[0m \u001b[32m━━━━━━━━━━━━━━━━━━━━\u001b[0m\u001b[37m\u001b[0m \u001b[1m2s\u001b[0m 28ms/step\n",
      "╔══════════════════════════════╗\n",
      "║        TEST EMBEDDING        ║\n",
      "╠══════════════════════════════╣\n",
      "║ F1 Score:       0.7098        ║\n",
      "║ Precision:      0.7270        ║\n",
      "║ Recall:         0.6934        ║\n",
      "╚══════════════════════════════╝\n",
      "\n"
     ]
    },
    {
     "data": {
      "image/png": "[encoded data removed]",
      "text/plain": [
       "<Figure size 600x500 with 2 Axes>"
      ]
     },
     "metadata": {},
     "output_type": "display_data"
    }
   ],
   "source": [
    "y_pred = model.predict(X_test)\n",
    "y_pred_thresh = (y_pred > 0.47).astype(int)\n",
    "metrics = evaluate_model(y_test, y_pred_thresh, \"Test Embedding\")"
   ]
  },
  {
   "cell_type": "markdown",
   "id": "d4b0e6b8",
   "metadata": {
    "papermill": {
     "duration": 0.057596,
     "end_time": "2025-05-26T11:25:33.886779",
     "exception": false,
     "start_time": "2025-05-26T11:25:33.829183",
     "status": "completed"
    },
    "tags": []
   },
   "source": [
    "## BERT"
   ]
  },
  {
   "cell_type": "code",
   "execution_count": 26,
   "id": "2e2e1305",
   "metadata": {
    "execution": {
     "iopub.execute_input": "2025-05-26T11:25:34.000110Z",
     "iopub.status.busy": "2025-05-26T11:25:33.999317Z",
     "iopub.status.idle": "2025-05-26T11:25:34.004503Z",
     "shell.execute_reply": "2025-05-26T11:25:34.003838Z"
    },
    "papermill": {
     "duration": 0.063299,
     "end_time": "2025-05-26T11:25:34.005510",
     "exception": false,
     "start_time": "2025-05-26T11:25:33.942211",
     "status": "completed"
    },
    "tags": []
   },
   "outputs": [],
   "source": [
    "def text_preprocess(text):\n",
    "    \"\"\"Optimal cleaning for BERT while preserving semantic cues\"\"\"\n",
    "    # 1. Remove URLs and user mentions\n",
    "    text = re.sub(r'http\\S+|@\\w+', '', text)\n",
    "    \n",
    "    # 2. Clean hashtags (keep text, remove #)\n",
    "    text = re.sub(r'#(\\w+)', r'\\1', text)\n",
    "    \n",
    "    # 3. Standardize apostrophes\n",
    "    text = re.sub(r'[‘’´`]', \"'\", text)\n",
    "    \n",
    "    return text.strip()"
   ]
  },
  {
   "cell_type": "code",
   "execution_count": 27,
   "id": "2bb69ded",
   "metadata": {
    "execution": {
     "iopub.execute_input": "2025-05-26T11:25:34.119291Z",
     "iopub.status.busy": "2025-05-26T11:25:34.118577Z",
     "iopub.status.idle": "2025-05-26T11:25:34.168263Z",
     "shell.execute_reply": "2025-05-26T11:25:34.167501Z"
    },
    "papermill": {
     "duration": 0.107299,
     "end_time": "2025-05-26T11:25:34.169668",
     "exception": false,
     "start_time": "2025-05-26T11:25:34.062369",
     "status": "completed"
    },
    "tags": []
   },
   "outputs": [],
   "source": [
    "train_df = train.copy()\n",
    "\n",
    "train_df['clean_text'] = train_df['text'].apply(text_preprocess)"
   ]
  },
  {
   "cell_type": "code",
   "execution_count": 28,
   "id": "92da3175",
   "metadata": {
    "execution": {
     "iopub.execute_input": "2025-05-26T11:25:34.288988Z",
     "iopub.status.busy": "2025-05-26T11:25:34.288401Z",
     "iopub.status.idle": "2025-05-26T11:25:34.295016Z",
     "shell.execute_reply": "2025-05-26T11:25:34.294251Z"
    },
    "papermill": {
     "duration": 0.065447,
     "end_time": "2025-05-26T11:25:34.296275",
     "exception": false,
     "start_time": "2025-05-26T11:25:34.230828",
     "status": "completed"
    },
    "tags": []
   },
   "outputs": [],
   "source": [
    "\n",
    "#X = train_df.drop(columns=['target'])\n",
    "X = train_df['clean_text']\n",
    "y = train_df['target']\n",
    "\n",
    "X_train, X_test, y_train, y_test = train_test_split(X, y, test_size=0.2, random_state=42)"
   ]
  },
  {
   "cell_type": "code",
   "execution_count": 29,
   "id": "9571f21c",
   "metadata": {
    "execution": {
     "iopub.execute_input": "2025-05-26T11:25:34.406278Z",
     "iopub.status.busy": "2025-05-26T11:25:34.406027Z",
     "iopub.status.idle": "2025-05-26T11:25:34.411607Z",
     "shell.execute_reply": "2025-05-26T11:25:34.411127Z"
    },
    "papermill": {
     "duration": 0.06091,
     "end_time": "2025-05-26T11:25:34.412575",
     "exception": false,
     "start_time": "2025-05-26T11:25:34.351665",
     "status": "completed"
    },
    "tags": []
   },
   "outputs": [],
   "source": [
    "class_weights = compute_class_weight(\n",
    "    'balanced',\n",
    "    classes=np.unique(y_train),\n",
    "    y=y_train\n",
    ")\n",
    "class_weights = dict(enumerate(class_weights))"
   ]
  },
  {
   "cell_type": "code",
   "execution_count": 30,
   "id": "c7f88d5e",
   "metadata": {
    "execution": {
     "iopub.execute_input": "2025-05-26T11:25:34.523049Z",
     "iopub.status.busy": "2025-05-26T11:25:34.522808Z",
     "iopub.status.idle": "2025-05-26T11:28:50.381812Z",
     "shell.execute_reply": "2025-05-26T11:28:50.381206Z"
    },
    "papermill": {
     "duration": 195.915019,
     "end_time": "2025-05-26T11:28:50.383304",
     "exception": false,
     "start_time": "2025-05-26T11:25:34.468285",
     "status": "completed"
    },
    "tags": []
   },
   "outputs": [],
   "source": [
    "# Initialize preprocessor\n",
    "preprocessor = keras_nlp.models.BertPreprocessor.from_preset(\n",
    "    \"bert_base_en_uncased\",\n",
    "    sequence_length=128\n",
    ")\n",
    "\n",
    "# Get ALL required BERT inputs (token_ids, segment_ids, padding_mask)\n",
    "def preprocess_text(text):\n",
    "    output = preprocessor(text)\n",
    "    return {\n",
    "        \"token_ids\": output[\"token_ids\"],\n",
    "        \"segment_ids\": output[\"segment_ids\"],  # ← MISSING IN YOUR CODE\n",
    "        \"padding_mask\": output[\"padding_mask\"]\n",
    "    }\n",
    "\n",
    "# Preprocess all data\n",
    "preprocessed = [preprocess_text(t) for t in X_train]\n",
    "\n",
    "dataset = tf.data.Dataset.from_tensor_slices((\n",
    "    {\n",
    "        \"token_ids\": np.stack([x[\"token_ids\"] for x in preprocessed]),\n",
    "        \"segment_ids\": np.stack([x[\"segment_ids\"] for x in preprocessed]),  # ← ADDED\n",
    "        \"padding_mask\": np.stack([x[\"padding_mask\"] for x in preprocessed])\n",
    "    },\n",
    "    y_train\n",
    ")).batch(32).prefetch(tf.data.AUTOTUNE)"
   ]
  },
  {
   "cell_type": "code",
   "execution_count": 31,
   "id": "7bdecd4a",
   "metadata": {
    "execution": {
     "iopub.execute_input": "2025-05-26T11:28:50.496972Z",
     "iopub.status.busy": "2025-05-26T11:28:50.496680Z",
     "iopub.status.idle": "2025-05-26T11:28:57.306286Z",
     "shell.execute_reply": "2025-05-26T11:28:57.305718Z"
    },
    "papermill": {
     "duration": 6.867133,
     "end_time": "2025-05-26T11:28:57.307609",
     "exception": false,
     "start_time": "2025-05-26T11:28:50.440476",
     "status": "completed"
    },
    "tags": []
   },
   "outputs": [],
   "source": [
    "# Define model inputs (numeric only!)\n",
    "inputs = {\n",
    "    \"token_ids\": tf.keras.Input(shape=(128,), dtype=tf.int32, name=\"token_ids\"),\n",
    "     \"segment_ids\": tf.keras.Input(shape=(128,), dtype=tf.int32, name=\"segment_ids\"),\n",
    "    \"padding_mask\": tf.keras.Input(shape=(128,), dtype=tf.int32, name=\"padding_mask\")\n",
    "}\n",
    "\n",
    "# BERT encoder\n",
    "encoder = keras_nlp.models.BertBackbone.from_preset(\"bert_base_en_uncased\")\n",
    "outputs = encoder(inputs)\n",
    "\n",
    "# Classification head\n",
    "pooled_output = outputs[\"pooled_output\"]  # [batch_size, 768]\n",
    "\n",
    "Dence_layer = tf.keras.layers.Dense(64, activation='relu')(pooled_output)\n",
    "\n",
    "\n",
    "predictions = tf.keras.layers.Dense(1, activation=\"sigmoid\")(Dence_layer)\n",
    "\n",
    "# Compile\n",
    "model = tf.keras.Model(inputs=inputs, outputs=predictions)\n",
    "model.compile(\n",
    "    optimizer=tf.keras.optimizers.Adam(3e-5),\n",
    "    loss=\"binary_crossentropy\",\n",
    "    metrics=[\"accuracy\"]\n",
    ")"
   ]
  },
  {
   "cell_type": "code",
   "execution_count": 32,
   "id": "ed88809b",
   "metadata": {
    "execution": {
     "iopub.execute_input": "2025-05-26T11:28:57.418847Z",
     "iopub.status.busy": "2025-05-26T11:28:57.418601Z",
     "iopub.status.idle": "2025-05-26T11:28:57.436807Z",
     "shell.execute_reply": "2025-05-26T11:28:57.436263Z"
    },
    "papermill": {
     "duration": 0.074873,
     "end_time": "2025-05-26T11:28:57.437752",
     "exception": false,
     "start_time": "2025-05-26T11:28:57.362879",
     "status": "completed"
    },
    "tags": []
   },
   "outputs": [
    {
     "data": {
      "text/html": [
       "<pre style=\"white-space:pre;overflow-x:auto;line-height:normal;font-family:Menlo,'DejaVu Sans Mono',consolas,'Courier New',monospace\"><span style=\"font-weight: bold\">Model: \"functional_1\"</span>\n",
       "</pre>\n"
      ],
      "text/plain": [
       "\u001b[1mModel: \"functional_1\"\u001b[0m\n"
      ]
     },
     "metadata": {},
     "output_type": "display_data"
    },
    {
     "data": {
      "text/html": [
       "<pre style=\"white-space:pre;overflow-x:auto;line-height:normal;font-family:Menlo,'DejaVu Sans Mono',consolas,'Courier New',monospace\">┏━━━━━━━━━━━━━━━━━━━━━━━━━━━┳━━━━━━━━━━━━━━━━━━━━━━━━┳━━━━━━━━━━━━━━━━┳━━━━━━━━━━━━━━━━━━━━━━━━┓\n",
       "┃<span style=\"font-weight: bold\"> Layer (type)              </span>┃<span style=\"font-weight: bold\"> Output Shape           </span>┃<span style=\"font-weight: bold\">        Param # </span>┃<span style=\"font-weight: bold\"> Connected to           </span>┃\n",
       "┡━━━━━━━━━━━━━━━━━━━━━━━━━━━╇━━━━━━━━━━━━━━━━━━━━━━━━╇━━━━━━━━━━━━━━━━╇━━━━━━━━━━━━━━━━━━━━━━━━┩\n",
       "│ padding_mask (<span style=\"color: #0087ff; text-decoration-color: #0087ff\">InputLayer</span>) │ (<span style=\"color: #00d7ff; text-decoration-color: #00d7ff\">None</span>, <span style=\"color: #00af00; text-decoration-color: #00af00\">128</span>)            │              <span style=\"color: #00af00; text-decoration-color: #00af00\">0</span> │ -                      │\n",
       "├───────────────────────────┼────────────────────────┼────────────────┼────────────────────────┤\n",
       "│ segment_ids (<span style=\"color: #0087ff; text-decoration-color: #0087ff\">InputLayer</span>)  │ (<span style=\"color: #00d7ff; text-decoration-color: #00d7ff\">None</span>, <span style=\"color: #00af00; text-decoration-color: #00af00\">128</span>)            │              <span style=\"color: #00af00; text-decoration-color: #00af00\">0</span> │ -                      │\n",
       "├───────────────────────────┼────────────────────────┼────────────────┼────────────────────────┤\n",
       "│ token_ids (<span style=\"color: #0087ff; text-decoration-color: #0087ff\">InputLayer</span>)    │ (<span style=\"color: #00d7ff; text-decoration-color: #00d7ff\">None</span>, <span style=\"color: #00af00; text-decoration-color: #00af00\">128</span>)            │              <span style=\"color: #00af00; text-decoration-color: #00af00\">0</span> │ -                      │\n",
       "├───────────────────────────┼────────────────────────┼────────────────┼────────────────────────┤\n",
       "│ bert_backbone             │ [(<span style=\"color: #00d7ff; text-decoration-color: #00d7ff\">None</span>, <span style=\"color: #00af00; text-decoration-color: #00af00\">768</span>), (<span style=\"color: #00d7ff; text-decoration-color: #00d7ff\">None</span>,   │    <span style=\"color: #00af00; text-decoration-color: #00af00\">109,482,240</span> │ padding_mask[<span style=\"color: #00af00; text-decoration-color: #00af00\">0</span>][<span style=\"color: #00af00; text-decoration-color: #00af00\">0</span>],    │\n",
       "│ (<span style=\"color: #0087ff; text-decoration-color: #0087ff\">BertBackbone</span>)            │ <span style=\"color: #00af00; text-decoration-color: #00af00\">128</span>, <span style=\"color: #00af00; text-decoration-color: #00af00\">768</span>)]             │                │ segment_ids[<span style=\"color: #00af00; text-decoration-color: #00af00\">0</span>][<span style=\"color: #00af00; text-decoration-color: #00af00\">0</span>],     │\n",
       "│                           │                        │                │ token_ids[<span style=\"color: #00af00; text-decoration-color: #00af00\">0</span>][<span style=\"color: #00af00; text-decoration-color: #00af00\">0</span>]        │\n",
       "├───────────────────────────┼────────────────────────┼────────────────┼────────────────────────┤\n",
       "│ dense_3 (<span style=\"color: #0087ff; text-decoration-color: #0087ff\">Dense</span>)           │ (<span style=\"color: #00d7ff; text-decoration-color: #00d7ff\">None</span>, <span style=\"color: #00af00; text-decoration-color: #00af00\">64</span>)             │         <span style=\"color: #00af00; text-decoration-color: #00af00\">49,216</span> │ bert_backbone[<span style=\"color: #00af00; text-decoration-color: #00af00\">0</span>][<span style=\"color: #00af00; text-decoration-color: #00af00\">0</span>]    │\n",
       "├───────────────────────────┼────────────────────────┼────────────────┼────────────────────────┤\n",
       "│ dense_4 (<span style=\"color: #0087ff; text-decoration-color: #0087ff\">Dense</span>)           │ (<span style=\"color: #00d7ff; text-decoration-color: #00d7ff\">None</span>, <span style=\"color: #00af00; text-decoration-color: #00af00\">1</span>)              │             <span style=\"color: #00af00; text-decoration-color: #00af00\">65</span> │ dense_3[<span style=\"color: #00af00; text-decoration-color: #00af00\">0</span>][<span style=\"color: #00af00; text-decoration-color: #00af00\">0</span>]          │\n",
       "└───────────────────────────┴────────────────────────┴────────────────┴────────────────────────┘\n",
       "</pre>\n"
      ],
      "text/plain": [
       "┏━━━━━━━━━━━━━━━━━━━━━━━━━━━┳━━━━━━━━━━━━━━━━━━━━━━━━┳━━━━━━━━━━━━━━━━┳━━━━━━━━━━━━━━━━━━━━━━━━┓\n",
       "┃\u001b[1m \u001b[0m\u001b[1mLayer (type)             \u001b[0m\u001b[1m \u001b[0m┃\u001b[1m \u001b[0m\u001b[1mOutput Shape          \u001b[0m\u001b[1m \u001b[0m┃\u001b[1m \u001b[0m\u001b[1m       Param #\u001b[0m\u001b[1m \u001b[0m┃\u001b[1m \u001b[0m\u001b[1mConnected to          \u001b[0m\u001b[1m \u001b[0m┃\n",
       "┡━━━━━━━━━━━━━━━━━━━━━━━━━━━╇━━━━━━━━━━━━━━━━━━━━━━━━╇━━━━━━━━━━━━━━━━╇━━━━━━━━━━━━━━━━━━━━━━━━┩\n",
       "│ padding_mask (\u001b[38;5;33mInputLayer\u001b[0m) │ (\u001b[38;5;45mNone\u001b[0m, \u001b[38;5;34m128\u001b[0m)            │              \u001b[38;5;34m0\u001b[0m │ -                      │\n",
       "├───────────────────────────┼────────────────────────┼────────────────┼────────────────────────┤\n",
       "│ segment_ids (\u001b[38;5;33mInputLayer\u001b[0m)  │ (\u001b[38;5;45mNone\u001b[0m, \u001b[38;5;34m128\u001b[0m)            │              \u001b[38;5;34m0\u001b[0m │ -                      │\n",
       "├───────────────────────────┼────────────────────────┼────────────────┼────────────────────────┤\n",
       "│ token_ids (\u001b[38;5;33mInputLayer\u001b[0m)    │ (\u001b[38;5;45mNone\u001b[0m, \u001b[38;5;34m128\u001b[0m)            │              \u001b[38;5;34m0\u001b[0m │ -                      │\n",
       "├───────────────────────────┼────────────────────────┼────────────────┼────────────────────────┤\n",
       "│ bert_backbone             │ [(\u001b[38;5;45mNone\u001b[0m, \u001b[38;5;34m768\u001b[0m), (\u001b[38;5;45mNone\u001b[0m,   │    \u001b[38;5;34m109,482,240\u001b[0m │ padding_mask[\u001b[38;5;34m0\u001b[0m][\u001b[38;5;34m0\u001b[0m],    │\n",
       "│ (\u001b[38;5;33mBertBackbone\u001b[0m)            │ \u001b[38;5;34m128\u001b[0m, \u001b[38;5;34m768\u001b[0m)]             │                │ segment_ids[\u001b[38;5;34m0\u001b[0m][\u001b[38;5;34m0\u001b[0m],     │\n",
       "│                           │                        │                │ token_ids[\u001b[38;5;34m0\u001b[0m][\u001b[38;5;34m0\u001b[0m]        │\n",
       "├───────────────────────────┼────────────────────────┼────────────────┼────────────────────────┤\n",
       "│ dense_3 (\u001b[38;5;33mDense\u001b[0m)           │ (\u001b[38;5;45mNone\u001b[0m, \u001b[38;5;34m64\u001b[0m)             │         \u001b[38;5;34m49,216\u001b[0m │ bert_backbone[\u001b[38;5;34m0\u001b[0m][\u001b[38;5;34m0\u001b[0m]    │\n",
       "├───────────────────────────┼────────────────────────┼────────────────┼────────────────────────┤\n",
       "│ dense_4 (\u001b[38;5;33mDense\u001b[0m)           │ (\u001b[38;5;45mNone\u001b[0m, \u001b[38;5;34m1\u001b[0m)              │             \u001b[38;5;34m65\u001b[0m │ dense_3[\u001b[38;5;34m0\u001b[0m][\u001b[38;5;34m0\u001b[0m]          │\n",
       "└───────────────────────────┴────────────────────────┴────────────────┴────────────────────────┘\n"
      ]
     },
     "metadata": {},
     "output_type": "display_data"
    },
    {
     "data": {
      "text/html": [
       "<pre style=\"white-space:pre;overflow-x:auto;line-height:normal;font-family:Menlo,'DejaVu Sans Mono',consolas,'Courier New',monospace\"><span style=\"font-weight: bold\"> Total params: </span><span style=\"color: #00af00; text-decoration-color: #00af00\">109,531,521</span> (417.83 MB)\n",
       "</pre>\n"
      ],
      "text/plain": [
       "\u001b[1m Total params: \u001b[0m\u001b[38;5;34m109,531,521\u001b[0m (417.83 MB)\n"
      ]
     },
     "metadata": {},
     "output_type": "display_data"
    },
    {
     "data": {
      "text/html": [
       "<pre style=\"white-space:pre;overflow-x:auto;line-height:normal;font-family:Menlo,'DejaVu Sans Mono',consolas,'Courier New',monospace\"><span style=\"font-weight: bold\"> Trainable params: </span><span style=\"color: #00af00; text-decoration-color: #00af00\">109,531,521</span> (417.83 MB)\n",
       "</pre>\n"
      ],
      "text/plain": [
       "\u001b[1m Trainable params: \u001b[0m\u001b[38;5;34m109,531,521\u001b[0m (417.83 MB)\n"
      ]
     },
     "metadata": {},
     "output_type": "display_data"
    },
    {
     "data": {
      "text/html": [
       "<pre style=\"white-space:pre;overflow-x:auto;line-height:normal;font-family:Menlo,'DejaVu Sans Mono',consolas,'Courier New',monospace\"><span style=\"font-weight: bold\"> Non-trainable params: </span><span style=\"color: #00af00; text-decoration-color: #00af00\">0</span> (0.00 B)\n",
       "</pre>\n"
      ],
      "text/plain": [
       "\u001b[1m Non-trainable params: \u001b[0m\u001b[38;5;34m0\u001b[0m (0.00 B)\n"
      ]
     },
     "metadata": {},
     "output_type": "display_data"
    }
   ],
   "source": [
    "model.summary()"
   ]
  },
  {
   "cell_type": "code",
   "execution_count": 33,
   "id": "ed4c0055",
   "metadata": {
    "execution": {
     "iopub.execute_input": "2025-05-26T11:28:57.549376Z",
     "iopub.status.busy": "2025-05-26T11:28:57.549148Z",
     "iopub.status.idle": "2025-05-26T12:53:02.005690Z",
     "shell.execute_reply": "2025-05-26T12:53:02.004990Z"
    },
    "papermill": {
     "duration": 5044.856555,
     "end_time": "2025-05-26T12:53:02.349634",
     "exception": false,
     "start_time": "2025-05-26T11:28:57.493079",
     "status": "completed"
    },
    "tags": []
   },
   "outputs": [
    {
     "name": "stdout",
     "output_type": "stream",
     "text": [
      "Epoch 1/30\n"
     ]
    },
    {
     "name": "stderr",
     "output_type": "stream",
     "text": [
      "WARNING: All log messages before absl::InitializeLog() is called are written to STDERR\n",
      "I0000 00:00:1748258985.502127      63 service.cc:148] XLA service 0x7dbd8f8ac950 initialized for platform CUDA (this does not guarantee that XLA will be used). Devices:\n",
      "I0000 00:00:1748258985.503056      63 service.cc:156]   StreamExecutor device (0): Tesla T4, Compute Capability 7.5\n",
      "I0000 00:00:1748258985.503081      63 service.cc:156]   StreamExecutor device (1): Tesla T4, Compute Capability 7.5\n",
      "I0000 00:00:1748259016.596593      63 device_compiler.h:188] Compiled cluster using XLA!  This line is logged at most once for the lifetime of the process.\n"
     ]
    },
    {
     "name": "stdout",
     "output_type": "stream",
     "text": [
      "\u001b[1m191/191\u001b[0m \u001b[32m━━━━━━━━━━━━━━━━━━━━\u001b[0m\u001b[37m\u001b[0m \u001b[1m272s\u001b[0m 1s/step - accuracy: 0.7637 - loss: 0.5026\n",
      "Epoch 2/30\n",
      "\u001b[1m191/191\u001b[0m \u001b[32m━━━━━━━━━━━━━━━━━━━━\u001b[0m\u001b[37m\u001b[0m \u001b[1m165s\u001b[0m 864ms/step - accuracy: 0.8649 - loss: 0.3315\n",
      "Epoch 3/30\n",
      "\u001b[1m191/191\u001b[0m \u001b[32m━━━━━━━━━━━━━━━━━━━━\u001b[0m\u001b[37m\u001b[0m \u001b[1m165s\u001b[0m 862ms/step - accuracy: 0.9122 - loss: 0.2365\n",
      "Epoch 4/30\n",
      "\u001b[1m191/191\u001b[0m \u001b[32m━━━━━━━━━━━━━━━━━━━━\u001b[0m\u001b[37m\u001b[0m \u001b[1m165s\u001b[0m 861ms/step - accuracy: 0.9423 - loss: 0.1682\n",
      "Epoch 5/30\n",
      "\u001b[1m191/191\u001b[0m \u001b[32m━━━━━━━━━━━━━━━━━━━━\u001b[0m\u001b[37m\u001b[0m \u001b[1m165s\u001b[0m 863ms/step - accuracy: 0.9564 - loss: 0.1163\n",
      "Epoch 6/30\n",
      "\u001b[1m191/191\u001b[0m \u001b[32m━━━━━━━━━━━━━━━━━━━━\u001b[0m\u001b[37m\u001b[0m \u001b[1m164s\u001b[0m 860ms/step - accuracy: 0.9669 - loss: 0.0913\n",
      "Epoch 7/30\n",
      "\u001b[1m191/191\u001b[0m \u001b[32m━━━━━━━━━━━━━━━━━━━━\u001b[0m\u001b[37m\u001b[0m \u001b[1m165s\u001b[0m 862ms/step - accuracy: 0.9746 - loss: 0.0623\n",
      "Epoch 8/30\n",
      "\u001b[1m191/191\u001b[0m \u001b[32m━━━━━━━━━━━━━━━━━━━━\u001b[0m\u001b[37m\u001b[0m \u001b[1m165s\u001b[0m 862ms/step - accuracy: 0.9737 - loss: 0.0551\n",
      "Epoch 9/30\n",
      "\u001b[1m191/191\u001b[0m \u001b[32m━━━━━━━━━━━━━━━━━━━━\u001b[0m\u001b[37m\u001b[0m \u001b[1m165s\u001b[0m 864ms/step - accuracy: 0.9794 - loss: 0.0480\n",
      "Epoch 10/30\n",
      "\u001b[1m191/191\u001b[0m \u001b[32m━━━━━━━━━━━━━━━━━━━━\u001b[0m\u001b[37m\u001b[0m \u001b[1m165s\u001b[0m 862ms/step - accuracy: 0.9819 - loss: 0.0508\n",
      "Epoch 11/30\n",
      "\u001b[1m191/191\u001b[0m \u001b[32m━━━━━━━━━━━━━━━━━━━━\u001b[0m\u001b[37m\u001b[0m \u001b[1m165s\u001b[0m 862ms/step - accuracy: 0.9814 - loss: 0.0509\n",
      "Epoch 12/30\n",
      "\u001b[1m191/191\u001b[0m \u001b[32m━━━━━━━━━━━━━━━━━━━━\u001b[0m\u001b[37m\u001b[0m \u001b[1m165s\u001b[0m 862ms/step - accuracy: 0.9799 - loss: 0.0484\n",
      "Epoch 13/30\n",
      "\u001b[1m191/191\u001b[0m \u001b[32m━━━━━━━━━━━━━━━━━━━━\u001b[0m\u001b[37m\u001b[0m \u001b[1m164s\u001b[0m 860ms/step - accuracy: 0.9808 - loss: 0.0453\n",
      "Epoch 14/30\n",
      "\u001b[1m191/191\u001b[0m \u001b[32m━━━━━━━━━━━━━━━━━━━━\u001b[0m\u001b[37m\u001b[0m \u001b[1m165s\u001b[0m 862ms/step - accuracy: 0.9871 - loss: 0.0332\n",
      "Epoch 15/30\n",
      "\u001b[1m191/191\u001b[0m \u001b[32m━━━━━━━━━━━━━━━━━━━━\u001b[0m\u001b[37m\u001b[0m \u001b[1m164s\u001b[0m 861ms/step - accuracy: 0.9861 - loss: 0.0305\n",
      "Epoch 16/30\n",
      "\u001b[1m191/191\u001b[0m \u001b[32m━━━━━━━━━━━━━━━━━━━━\u001b[0m\u001b[37m\u001b[0m \u001b[1m164s\u001b[0m 859ms/step - accuracy: 0.9833 - loss: 0.0451\n",
      "Epoch 17/30\n",
      "\u001b[1m191/191\u001b[0m \u001b[32m━━━━━━━━━━━━━━━━━━━━\u001b[0m\u001b[37m\u001b[0m \u001b[1m164s\u001b[0m 860ms/step - accuracy: 0.9854 - loss: 0.0363\n",
      "Epoch 18/30\n",
      "\u001b[1m191/191\u001b[0m \u001b[32m━━━━━━━━━━━━━━━━━━━━\u001b[0m\u001b[37m\u001b[0m \u001b[1m164s\u001b[0m 861ms/step - accuracy: 0.9859 - loss: 0.0285\n",
      "Epoch 19/30\n",
      "\u001b[1m191/191\u001b[0m \u001b[32m━━━━━━━━━━━━━━━━━━━━\u001b[0m\u001b[37m\u001b[0m \u001b[1m164s\u001b[0m 861ms/step - accuracy: 0.9834 - loss: 0.0363\n",
      "Epoch 20/30\n",
      "\u001b[1m191/191\u001b[0m \u001b[32m━━━━━━━━━━━━━━━━━━━━\u001b[0m\u001b[37m\u001b[0m \u001b[1m165s\u001b[0m 862ms/step - accuracy: 0.9880 - loss: 0.0245\n",
      "Epoch 21/30\n",
      "\u001b[1m191/191\u001b[0m \u001b[32m━━━━━━━━━━━━━━━━━━━━\u001b[0m\u001b[37m\u001b[0m \u001b[1m164s\u001b[0m 861ms/step - accuracy: 0.9863 - loss: 0.0283\n",
      "Epoch 22/30\n",
      "\u001b[1m191/191\u001b[0m \u001b[32m━━━━━━━━━━━━━━━━━━━━\u001b[0m\u001b[37m\u001b[0m \u001b[1m165s\u001b[0m 863ms/step - accuracy: 0.9846 - loss: 0.0309\n",
      "Epoch 23/30\n",
      "\u001b[1m191/191\u001b[0m \u001b[32m━━━━━━━━━━━━━━━━━━━━\u001b[0m\u001b[37m\u001b[0m \u001b[1m164s\u001b[0m 860ms/step - accuracy: 0.9872 - loss: 0.0263\n",
      "Epoch 24/30\n",
      "\u001b[1m191/191\u001b[0m \u001b[32m━━━━━━━━━━━━━━━━━━━━\u001b[0m\u001b[37m\u001b[0m \u001b[1m165s\u001b[0m 863ms/step - accuracy: 0.9865 - loss: 0.0245\n",
      "Epoch 25/30\n",
      "\u001b[1m191/191\u001b[0m \u001b[32m━━━━━━━━━━━━━━━━━━━━\u001b[0m\u001b[37m\u001b[0m \u001b[1m165s\u001b[0m 863ms/step - accuracy: 0.9875 - loss: 0.0230\n",
      "Epoch 26/30\n",
      "\u001b[1m191/191\u001b[0m \u001b[32m━━━━━━━━━━━━━━━━━━━━\u001b[0m\u001b[37m\u001b[0m \u001b[1m165s\u001b[0m 863ms/step - accuracy: 0.9880 - loss: 0.0222\n",
      "Epoch 27/30\n",
      "\u001b[1m191/191\u001b[0m \u001b[32m━━━━━━━━━━━━━━━━━━━━\u001b[0m\u001b[37m\u001b[0m \u001b[1m164s\u001b[0m 860ms/step - accuracy: 0.9839 - loss: 0.0362\n",
      "Epoch 28/30\n",
      "\u001b[1m191/191\u001b[0m \u001b[32m━━━━━━━━━━━━━━━━━━━━\u001b[0m\u001b[37m\u001b[0m \u001b[1m164s\u001b[0m 861ms/step - accuracy: 0.9865 - loss: 0.0303\n",
      "Epoch 29/30\n",
      "\u001b[1m191/191\u001b[0m \u001b[32m━━━━━━━━━━━━━━━━━━━━\u001b[0m\u001b[37m\u001b[0m \u001b[1m164s\u001b[0m 860ms/step - accuracy: 0.9840 - loss: 0.0340\n",
      "Epoch 30/30\n",
      "\u001b[1m191/191\u001b[0m \u001b[32m━━━━━━━━━━━━━━━━━━━━\u001b[0m\u001b[37m\u001b[0m \u001b[1m165s\u001b[0m 861ms/step - accuracy: 0.9832 - loss: 0.0323\n"
     ]
    }
   ],
   "source": [
    "# 4. Training the Model\n",
    "history = model.fit(\n",
    "    dataset,\n",
    "    epochs=30\n",
    "    #validation_data=test_dataset\n",
    ")"
   ]
  },
  {
   "cell_type": "code",
   "execution_count": 34,
   "id": "93f3450c",
   "metadata": {
    "execution": {
     "iopub.execute_input": "2025-05-26T12:53:02.927814Z",
     "iopub.status.busy": "2025-05-26T12:53:02.927525Z",
     "iopub.status.idle": "2025-05-26T12:53:02.931904Z",
     "shell.execute_reply": "2025-05-26T12:53:02.931392Z"
    },
    "papermill": {
     "duration": 0.295682,
     "end_time": "2025-05-26T12:53:02.933031",
     "exception": false,
     "start_time": "2025-05-26T12:53:02.637349",
     "status": "completed"
    },
    "tags": []
   },
   "outputs": [],
   "source": [
    "def predict(text):\n",
    "    preprocessed = preprocessor(text)\n",
    "    return model.predict({\n",
    "        \"token_ids\": tf.expand_dims(preprocessed[\"token_ids\"], 0),\n",
    "        \"segment_ids\": tf.expand_dims(preprocessed[\"segment_ids\"], 0), \n",
    "        \"padding_mask\": tf.expand_dims(preprocessed[\"padding_mask\"], 0)\n",
    "    }\n",
    "                         ,verbose=0)[0][0]"
   ]
  },
  {
   "cell_type": "code",
   "execution_count": 35,
   "id": "cbc5667b",
   "metadata": {
    "execution": {
     "iopub.execute_input": "2025-05-26T12:53:03.505792Z",
     "iopub.status.busy": "2025-05-26T12:53:03.504961Z",
     "iopub.status.idle": "2025-05-26T12:56:20.502747Z",
     "shell.execute_reply": "2025-05-26T12:56:20.502174Z"
    },
    "papermill": {
     "duration": 197.284471,
     "end_time": "2025-05-26T12:56:20.504213",
     "exception": false,
     "start_time": "2025-05-26T12:53:03.219742",
     "status": "completed"
    },
    "tags": []
   },
   "outputs": [],
   "source": [
    "y_pred = [predict(t) for t in X_test]"
   ]
  },
  {
   "cell_type": "code",
   "execution_count": 36,
   "id": "8805db67",
   "metadata": {
    "execution": {
     "iopub.execute_input": "2025-05-26T12:56:21.133246Z",
     "iopub.status.busy": "2025-05-26T12:56:21.132959Z",
     "iopub.status.idle": "2025-05-26T12:56:21.138547Z",
     "shell.execute_reply": "2025-05-26T12:56:21.137831Z"
    },
    "papermill": {
     "duration": 0.294446,
     "end_time": "2025-05-26T12:56:21.139655",
     "exception": false,
     "start_time": "2025-05-26T12:56:20.845209",
     "status": "completed"
    },
    "tags": []
   },
   "outputs": [
    {
     "data": {
      "text/plain": [
       "array([1.2098667e-03, 3.6211688e-05, 9.0904742e-01, ..., 9.9905616e-01,\n",
       "       9.9946612e-01, 2.5282814e-03], dtype=float32)"
      ]
     },
     "execution_count": 36,
     "metadata": {},
     "output_type": "execute_result"
    }
   ],
   "source": [
    "np.array(y_pred) "
   ]
  },
  {
   "cell_type": "code",
   "execution_count": 37,
   "id": "311e61dd",
   "metadata": {
    "execution": {
     "iopub.execute_input": "2025-05-26T12:56:21.712439Z",
     "iopub.status.busy": "2025-05-26T12:56:21.712169Z",
     "iopub.status.idle": "2025-05-26T12:56:21.866427Z",
     "shell.execute_reply": "2025-05-26T12:56:21.865707Z"
    },
    "papermill": {
     "duration": 0.441811,
     "end_time": "2025-05-26T12:56:21.867504",
     "exception": false,
     "start_time": "2025-05-26T12:56:21.425693",
     "status": "completed"
    },
    "tags": []
   },
   "outputs": [
    {
     "name": "stdout",
     "output_type": "stream",
     "text": [
      "╔══════════════════════════════╗\n",
      "║        BERT EMBEDDING        ║\n",
      "╠══════════════════════════════╣\n",
      "║ F1 Score:       0.7792        ║\n",
      "║ Precision:      0.7865        ║\n",
      "║ Recall:         0.7720        ║\n",
      "╚══════════════════════════════╝\n",
      "\n"
     ]
    },
    {
     "data": {
      "image/png": "[encoded data removed]",
      "text/plain": [
       "<Figure size 600x500 with 2 Axes>"
      ]
     },
     "metadata": {},
     "output_type": "display_data"
    }
   ],
   "source": [
    "y_pred_thresh = (np.array(y_pred)  > 0.75).astype(int)\n",
    "metrics = evaluate_model(y_test, y_pred_thresh, \"Bert Embedding\")"
   ]
  },
  {
   "cell_type": "code",
   "execution_count": null,
   "id": "1e97b881",
   "metadata": {
    "papermill": {
     "duration": 0.287042,
     "end_time": "2025-05-26T12:56:22.497419",
     "exception": false,
     "start_time": "2025-05-26T12:56:22.210377",
     "status": "completed"
    },
    "tags": []
   },
   "outputs": [],
   "source": []
  },
  {
   "cell_type": "code",
   "execution_count": 38,
   "id": "df999a0b",
   "metadata": {
    "execution": {
     "iopub.execute_input": "2025-05-26T12:56:23.068989Z",
     "iopub.status.busy": "2025-05-26T12:56:23.068680Z",
     "iopub.status.idle": "2025-05-26T12:56:23.090312Z",
     "shell.execute_reply": "2025-05-26T12:56:23.089587Z"
    },
    "papermill": {
     "duration": 0.309445,
     "end_time": "2025-05-26T12:56:23.091453",
     "exception": false,
     "start_time": "2025-05-26T12:56:22.782008",
     "status": "completed"
    },
    "tags": []
   },
   "outputs": [],
   "source": [
    "test = test.drop(['location', 'keyword'], axis=1)\n",
    "\n",
    "test['clean_text'] = test['text'].apply(text_preprocess)"
   ]
  },
  {
   "cell_type": "code",
   "execution_count": 39,
   "id": "da1b5206",
   "metadata": {
    "execution": {
     "iopub.execute_input": "2025-05-26T12:56:23.729330Z",
     "iopub.status.busy": "2025-05-26T12:56:23.728617Z",
     "iopub.status.idle": "2025-05-26T12:56:23.737210Z",
     "shell.execute_reply": "2025-05-26T12:56:23.736651Z"
    },
    "papermill": {
     "duration": 0.358188,
     "end_time": "2025-05-26T12:56:23.738322",
     "exception": false,
     "start_time": "2025-05-26T12:56:23.380134",
     "status": "completed"
    },
    "tags": []
   },
   "outputs": [
    {
     "data": {
      "text/html": [
       "<div>\n",
       "<style scoped>\n",
       "    .dataframe tbody tr th:only-of-type {\n",
       "        vertical-align: middle;\n",
       "    }\n",
       "\n",
       "    .dataframe tbody tr th {\n",
       "        vertical-align: top;\n",
       "    }\n",
       "\n",
       "    .dataframe thead th {\n",
       "        text-align: right;\n",
       "    }\n",
       "</style>\n",
       "<table border=\"1\" class=\"dataframe\">\n",
       "  <thead>\n",
       "    <tr style=\"text-align: right;\">\n",
       "      <th></th>\n",
       "      <th>id</th>\n",
       "      <th>text</th>\n",
       "      <th>clean_text</th>\n",
       "    </tr>\n",
       "  </thead>\n",
       "  <tbody>\n",
       "    <tr>\n",
       "      <th>0</th>\n",
       "      <td>0</td>\n",
       "      <td>Just happened a terrible car crash</td>\n",
       "      <td>Just happened a terrible car crash</td>\n",
       "    </tr>\n",
       "    <tr>\n",
       "      <th>1</th>\n",
       "      <td>2</td>\n",
       "      <td>Heard about #earthquake is different cities, stay safe everyone.</td>\n",
       "      <td>Heard about earthquake is different cities, stay safe everyone.</td>\n",
       "    </tr>\n",
       "    <tr>\n",
       "      <th>2</th>\n",
       "      <td>3</td>\n",
       "      <td>there is a forest fire at spot pond, geese are fleeing across the street, I cannot save them all</td>\n",
       "      <td>there is a forest fire at spot pond, geese are fleeing across the street, I cannot save them all</td>\n",
       "    </tr>\n",
       "    <tr>\n",
       "      <th>3</th>\n",
       "      <td>9</td>\n",
       "      <td>Apocalypse lighting. #Spokane #wildfires</td>\n",
       "      <td>Apocalypse lighting. Spokane wildfires</td>\n",
       "    </tr>\n",
       "    <tr>\n",
       "      <th>4</th>\n",
       "      <td>11</td>\n",
       "      <td>Typhoon Soudelor kills 28 in China and Taiwan</td>\n",
       "      <td>Typhoon Soudelor kills 28 in China and Taiwan</td>\n",
       "    </tr>\n",
       "    <tr>\n",
       "      <th>...</th>\n",
       "      <td>...</td>\n",
       "      <td>...</td>\n",
       "      <td>...</td>\n",
       "    </tr>\n",
       "    <tr>\n",
       "      <th>3258</th>\n",
       "      <td>10861</td>\n",
       "      <td>EARTHQUAKE SAFETY LOS ANGELES ÛÒ SAFETY FASTENERS XrWn</td>\n",
       "      <td>EARTHQUAKE SAFETY LOS ANGELES ÛÒ SAFETY FASTENERS XrWn</td>\n",
       "    </tr>\n",
       "    <tr>\n",
       "      <th>3259</th>\n",
       "      <td>10865</td>\n",
       "      <td>Storm in RI worse than last hurricane. My city&amp;amp;3others hardest hit. My yard looks like it was bombed. Around 20000K still without power</td>\n",
       "      <td>Storm in RI worse than last hurricane. My city&amp;amp;3others hardest hit. My yard looks like it was bombed. Around 20000K still without power</td>\n",
       "    </tr>\n",
       "    <tr>\n",
       "      <th>3260</th>\n",
       "      <td>10868</td>\n",
       "      <td>Green Line derailment in Chicago http://t.co/UtbXLcBIuY</td>\n",
       "      <td>Green Line derailment in Chicago</td>\n",
       "    </tr>\n",
       "    <tr>\n",
       "      <th>3261</th>\n",
       "      <td>10874</td>\n",
       "      <td>MEG issues Hazardous Weather Outlook (HWO) http://t.co/3X6RBQJHn3</td>\n",
       "      <td>MEG issues Hazardous Weather Outlook (HWO)</td>\n",
       "    </tr>\n",
       "    <tr>\n",
       "      <th>3262</th>\n",
       "      <td>10875</td>\n",
       "      <td>#CityofCalgary has activated its Municipal Emergency Plan. #yycstorm</td>\n",
       "      <td>CityofCalgary has activated its Municipal Emergency Plan. yycstorm</td>\n",
       "    </tr>\n",
       "  </tbody>\n",
       "</table>\n",
       "<p>3263 rows × 3 columns</p>\n",
       "</div>"
      ],
      "text/plain": [
       "         id  \\\n",
       "0         0   \n",
       "1         2   \n",
       "2         3   \n",
       "3         9   \n",
       "4        11   \n",
       "...     ...   \n",
       "3258  10861   \n",
       "3259  10865   \n",
       "3260  10868   \n",
       "3261  10874   \n",
       "3262  10875   \n",
       "\n",
       "                                                                                                                                             text  \\\n",
       "0                                                                                                              Just happened a terrible car crash   \n",
       "1                                                                                Heard about #earthquake is different cities, stay safe everyone.   \n",
       "2                                                there is a forest fire at spot pond, geese are fleeing across the street, I cannot save them all   \n",
       "3                                                                                                        Apocalypse lighting. #Spokane #wildfires   \n",
       "4                                                                                                   Typhoon Soudelor kills 28 in China and Taiwan   \n",
       "...                                                                                                                                           ...   \n",
       "3258                                                                                      EARTHQUAKE SAFETY LOS ANGELES ÛÒ SAFETY FASTENERS XrWn   \n",
       "3259  Storm in RI worse than last hurricane. My city&amp;3others hardest hit. My yard looks like it was bombed. Around 20000K still without power   \n",
       "3260                                                                                      Green Line derailment in Chicago http://t.co/UtbXLcBIuY   \n",
       "3261                                                                            MEG issues Hazardous Weather Outlook (HWO) http://t.co/3X6RBQJHn3   \n",
       "3262                                                                         #CityofCalgary has activated its Municipal Emergency Plan. #yycstorm   \n",
       "\n",
       "                                                                                                                                       clean_text  \n",
       "0                                                                                                              Just happened a terrible car crash  \n",
       "1                                                                                 Heard about earthquake is different cities, stay safe everyone.  \n",
       "2                                                there is a forest fire at spot pond, geese are fleeing across the street, I cannot save them all  \n",
       "3                                                                                                          Apocalypse lighting. Spokane wildfires  \n",
       "4                                                                                                   Typhoon Soudelor kills 28 in China and Taiwan  \n",
       "...                                                                                                                                           ...  \n",
       "3258                                                                                      EARTHQUAKE SAFETY LOS ANGELES ÛÒ SAFETY FASTENERS XrWn  \n",
       "3259  Storm in RI worse than last hurricane. My city&amp;3others hardest hit. My yard looks like it was bombed. Around 20000K still without power  \n",
       "3260                                                                                                             Green Line derailment in Chicago  \n",
       "3261                                                                                                   MEG issues Hazardous Weather Outlook (HWO)  \n",
       "3262                                                                           CityofCalgary has activated its Municipal Emergency Plan. yycstorm  \n",
       "\n",
       "[3263 rows x 3 columns]"
      ]
     },
     "execution_count": 39,
     "metadata": {},
     "output_type": "execute_result"
    }
   ],
   "source": [
    "test"
   ]
  },
  {
   "cell_type": "code",
   "execution_count": 40,
   "id": "f835680f",
   "metadata": {
    "execution": {
     "iopub.execute_input": "2025-05-26T12:56:24.319260Z",
     "iopub.status.busy": "2025-05-26T12:56:24.318983Z",
     "iopub.status.idle": "2025-05-26T13:03:23.493789Z",
     "shell.execute_reply": "2025-05-26T13:03:23.493233Z"
    },
    "papermill": {
     "duration": 419.470546,
     "end_time": "2025-05-26T13:03:23.495163",
     "exception": false,
     "start_time": "2025-05-26T12:56:24.024617",
     "status": "completed"
    },
    "tags": []
   },
   "outputs": [],
   "source": [
    "sample_submission['target'] = [predict(t) for t in test['clean_text']]"
   ]
  },
  {
   "cell_type": "code",
   "execution_count": 41,
   "id": "0c954986",
   "metadata": {
    "execution": {
     "iopub.execute_input": "2025-05-26T13:03:24.128427Z",
     "iopub.status.busy": "2025-05-26T13:03:24.128154Z",
     "iopub.status.idle": "2025-05-26T13:03:24.134903Z",
     "shell.execute_reply": "2025-05-26T13:03:24.134207Z"
    },
    "papermill": {
     "duration": 0.354754,
     "end_time": "2025-05-26T13:03:24.136114",
     "exception": false,
     "start_time": "2025-05-26T13:03:23.781360",
     "status": "completed"
    },
    "tags": []
   },
   "outputs": [
    {
     "data": {
      "text/plain": [
       "0       0.999675\n",
       "1       0.999312\n",
       "2       0.999176\n",
       "3       0.999728\n",
       "4       0.999843\n",
       "          ...   \n",
       "3258    0.998990\n",
       "3259    0.999795\n",
       "3260    0.999858\n",
       "3261    0.134527\n",
       "3262    0.998858\n",
       "Name: target, Length: 3263, dtype: float32"
      ]
     },
     "execution_count": 41,
     "metadata": {},
     "output_type": "execute_result"
    }
   ],
   "source": [
    "sample_submission['target']"
   ]
  },
  {
   "cell_type": "code",
   "execution_count": 42,
   "id": "c3af8b77",
   "metadata": {
    "execution": {
     "iopub.execute_input": "2025-05-26T13:03:24.704836Z",
     "iopub.status.busy": "2025-05-26T13:03:24.704563Z",
     "iopub.status.idle": "2025-05-26T13:03:24.708470Z",
     "shell.execute_reply": "2025-05-26T13:03:24.707917Z"
    },
    "papermill": {
     "duration": 0.288834,
     "end_time": "2025-05-26T13:03:24.709582",
     "exception": false,
     "start_time": "2025-05-26T13:03:24.420748",
     "status": "completed"
    },
    "tags": []
   },
   "outputs": [],
   "source": [
    "sample_submission['target'] = (np.array(sample_submission['target'])  > 0.75).astype(int)"
   ]
  },
  {
   "cell_type": "code",
   "execution_count": 43,
   "id": "3f24625d",
   "metadata": {
    "execution": {
     "iopub.execute_input": "2025-05-26T13:03:25.294470Z",
     "iopub.status.busy": "2025-05-26T13:03:25.293900Z",
     "iopub.status.idle": "2025-05-26T13:03:25.301391Z",
     "shell.execute_reply": "2025-05-26T13:03:25.300855Z"
    },
    "papermill": {
     "duration": 0.301164,
     "end_time": "2025-05-26T13:03:25.302433",
     "exception": false,
     "start_time": "2025-05-26T13:03:25.001269",
     "status": "completed"
    },
    "tags": []
   },
   "outputs": [
    {
     "data": {
      "text/html": [
       "<div>\n",
       "<style scoped>\n",
       "    .dataframe tbody tr th:only-of-type {\n",
       "        vertical-align: middle;\n",
       "    }\n",
       "\n",
       "    .dataframe tbody tr th {\n",
       "        vertical-align: top;\n",
       "    }\n",
       "\n",
       "    .dataframe thead th {\n",
       "        text-align: right;\n",
       "    }\n",
       "</style>\n",
       "<table border=\"1\" class=\"dataframe\">\n",
       "  <thead>\n",
       "    <tr style=\"text-align: right;\">\n",
       "      <th></th>\n",
       "      <th>id</th>\n",
       "      <th>target</th>\n",
       "    </tr>\n",
       "  </thead>\n",
       "  <tbody>\n",
       "    <tr>\n",
       "      <th>0</th>\n",
       "      <td>0</td>\n",
       "      <td>1</td>\n",
       "    </tr>\n",
       "    <tr>\n",
       "      <th>1</th>\n",
       "      <td>2</td>\n",
       "      <td>1</td>\n",
       "    </tr>\n",
       "    <tr>\n",
       "      <th>2</th>\n",
       "      <td>3</td>\n",
       "      <td>1</td>\n",
       "    </tr>\n",
       "    <tr>\n",
       "      <th>3</th>\n",
       "      <td>9</td>\n",
       "      <td>1</td>\n",
       "    </tr>\n",
       "    <tr>\n",
       "      <th>4</th>\n",
       "      <td>11</td>\n",
       "      <td>1</td>\n",
       "    </tr>\n",
       "    <tr>\n",
       "      <th>...</th>\n",
       "      <td>...</td>\n",
       "      <td>...</td>\n",
       "    </tr>\n",
       "    <tr>\n",
       "      <th>3258</th>\n",
       "      <td>10861</td>\n",
       "      <td>1</td>\n",
       "    </tr>\n",
       "    <tr>\n",
       "      <th>3259</th>\n",
       "      <td>10865</td>\n",
       "      <td>1</td>\n",
       "    </tr>\n",
       "    <tr>\n",
       "      <th>3260</th>\n",
       "      <td>10868</td>\n",
       "      <td>1</td>\n",
       "    </tr>\n",
       "    <tr>\n",
       "      <th>3261</th>\n",
       "      <td>10874</td>\n",
       "      <td>0</td>\n",
       "    </tr>\n",
       "    <tr>\n",
       "      <th>3262</th>\n",
       "      <td>10875</td>\n",
       "      <td>1</td>\n",
       "    </tr>\n",
       "  </tbody>\n",
       "</table>\n",
       "<p>3263 rows × 2 columns</p>\n",
       "</div>"
      ],
      "text/plain": [
       "         id  target\n",
       "0         0       1\n",
       "1         2       1\n",
       "2         3       1\n",
       "3         9       1\n",
       "4        11       1\n",
       "...     ...     ...\n",
       "3258  10861       1\n",
       "3259  10865       1\n",
       "3260  10868       1\n",
       "3261  10874       0\n",
       "3262  10875       1\n",
       "\n",
       "[3263 rows x 2 columns]"
      ]
     },
     "execution_count": 43,
     "metadata": {},
     "output_type": "execute_result"
    }
   ],
   "source": [
    "sample_submission"
   ]
  },
  {
   "cell_type": "code",
   "execution_count": 44,
   "id": "0cd3ae85",
   "metadata": {
    "execution": {
     "iopub.execute_input": "2025-05-26T13:03:25.933305Z",
     "iopub.status.busy": "2025-05-26T13:03:25.932489Z",
     "iopub.status.idle": "2025-05-26T13:03:25.945462Z",
     "shell.execute_reply": "2025-05-26T13:03:25.944970Z"
    },
    "papermill": {
     "duration": 0.30132,
     "end_time": "2025-05-26T13:03:25.946500",
     "exception": false,
     "start_time": "2025-05-26T13:03:25.645180",
     "status": "completed"
    },
    "tags": []
   },
   "outputs": [],
   "source": [
    "sample_submission.to_csv(\"/kaggle/working/submission.csv\", index=False)"
   ]
  },
  {
   "cell_type": "code",
   "execution_count": 45,
   "id": "3b2b964a",
   "metadata": {
    "execution": {
     "iopub.execute_input": "2025-05-26T13:03:26.547090Z",
     "iopub.status.busy": "2025-05-26T13:03:26.546450Z",
     "iopub.status.idle": "2025-05-26T13:03:26.551368Z",
     "shell.execute_reply": "2025-05-26T13:03:26.550823Z"
    },
    "papermill": {
     "duration": 0.32115,
     "end_time": "2025-05-26T13:03:26.552373",
     "exception": false,
     "start_time": "2025-05-26T13:03:26.231223",
     "status": "completed"
    },
    "tags": []
   },
   "outputs": [],
   "source": [
    "import os\n",
    "import subprocess\n",
    "from IPython.display import FileLink, display\n",
    "\n",
    "def download_file(path, download_file_name):\n",
    "    os.chdir('/kaggle/working/')\n",
    "    zip_name = f\"/kaggle/working/{download_file_name}.zip\"\n",
    "    command = f\"zip {zip_name} {path} -r\"\n",
    "    result = subprocess.run(command, shell=True, capture_output=True, text=True)\n",
    "    if result.returncode != 0:\n",
    "        print(\"Unable to run zip command!\")\n",
    "        print(result.stderr)\n",
    "        return\n",
    "    display(FileLink(f'{download_file_name}.zip'))"
   ]
  },
  {
   "cell_type": "code",
   "execution_count": 46,
   "id": "e7a3e7da",
   "metadata": {
    "execution": {
     "iopub.execute_input": "2025-05-26T13:03:27.215240Z",
     "iopub.status.busy": "2025-05-26T13:03:27.214644Z",
     "iopub.status.idle": "2025-05-26T13:03:27.232049Z",
     "shell.execute_reply": "2025-05-26T13:03:27.231328Z"
    },
    "papermill": {
     "duration": 0.341351,
     "end_time": "2025-05-26T13:03:27.233340",
     "exception": false,
     "start_time": "2025-05-26T13:03:26.891989",
     "status": "completed"
    },
    "tags": []
   },
   "outputs": [
    {
     "data": {
      "text/html": [
       "<a href='out.zip' target='_blank'>out.zip</a><br>"
      ],
      "text/plain": [
       "/kaggle/working/out.zip"
      ]
     },
     "metadata": {},
     "output_type": "display_data"
    }
   ],
   "source": [
    "download_file('/kaggle/working/submission.csv', 'out')"
   ]
  },
  {
   "cell_type": "code",
   "execution_count": null,
   "id": "543ae895",
   "metadata": {
    "papermill": {
     "duration": 0.292214,
     "end_time": "2025-05-26T13:03:27.861516",
     "exception": false,
     "start_time": "2025-05-26T13:03:27.569302",
     "status": "completed"
    },
    "tags": []
   },
   "outputs": [],
   "source": []
  }
 ],
 "metadata": {
  "kaggle": {
   "accelerator": "nvidiaTeslaT4",
   "dataSources": [
    {
     "databundleVersionId": 869809,
     "sourceId": 17777,
     "sourceType": "competition"
    },
    {
     "modelId": 244,
     "modelInstanceId": 2180,
     "sourceId": 2938,
     "sourceType": "modelInstanceVersion"
    },
    {
     "modelId": 293,
     "modelInstanceId": 2418,
     "sourceId": 3262,
     "sourceType": "modelInstanceVersion"
    },
    {
     "modelId": 2819,
     "modelInstanceId": 4678,
     "sourceId": 6057,
     "sourceType": "modelInstanceVersion"
    }
   ],
   "dockerImageVersionId": 31040,
   "isGpuEnabled": true,
   "isInternetEnabled": true,
   "language": "python",
   "sourceType": "notebook"
  },
  "kernelspec": {
   "display_name": "Python 3",
   "language": "python",
   "name": "python3"
  },
  "language_info": {
   "codemirror_mode": {
    "name": "ipython",
    "version": 3
   },
   "file_extension": ".py",
   "mimetype": "text/x-python",
   "name": "python",
   "nbconvert_exporter": "python",
   "pygments_lexer": "ipython3",
   "version": "3.11.11"
  },
  "papermill": {
   "default_parameters": {},
   "duration": 6011.188197,
   "end_time": "2025-05-26T13:03:32.146192",
   "environment_variables": {},
   "exception": null,
   "input_path": "__notebook__.ipynb",
   "output_path": "__notebook__.ipynb",
   "parameters": {},
   "start_time": "2025-05-26T11:23:20.957995",
   "version": "2.6.0"
  }
 },
 "nbformat": 4,
 "nbformat_minor": 5
}
